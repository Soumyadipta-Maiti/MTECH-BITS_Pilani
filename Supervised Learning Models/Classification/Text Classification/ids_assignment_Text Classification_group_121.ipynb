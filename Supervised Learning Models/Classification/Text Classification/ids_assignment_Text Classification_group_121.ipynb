{
 "cells": [
  {
   "cell_type": "markdown",
   "id": "9bda93ba",
   "metadata": {
    "id": "9bda93ba"
   },
   "source": [
    "# <center>        **Introduction to Data Science (S1-22_DSECLZG523)-ASSIGNMENT**</center>\n",
    "\n",
    "## Group No: 121\n",
    "\n",
    "## Group Member Names:\n",
    "1. Soumyadipta Maiti (2021SC04237)\n",
    "2. Dipannita Bandyopadhyay (2021SC04700)\n",
    "3. Tanvir Ahmad (2021SA04035)\n",
    "4. Tauheed Ahmad (2021SC04698)"
   ]
  },
  {
   "cell_type": "markdown",
   "id": "f5d80c60",
   "metadata": {
    "id": "f5d80c60"
   },
   "source": [
    "# 1. Business Understanding\n",
    " \n",
    "Students are expected to identify a classification problem of your choice. You have to detail the Business Understanding part of your problem under this heading which basically addresses the following questions.\n",
    " \n",
    "   1. What is the business problem that you are trying to solve?\n",
    "   2. What data do you need to answer the above problem?\n",
    "   3. What are the different sources of data?    \n",
    "   4. What kind of analytics task are you performing?\n",
    "\n",
    "Score: 1 Mark in total (0.25 mark each)"
   ]
  },
  {
   "cell_type": "markdown",
   "id": "AGbXJouwV_ci",
   "metadata": {
    "id": "AGbXJouwV_ci"
   },
   "source": [
    "1. The business problem that we are trying to solve is to predict the ratings score of the review, given some independent feaures like product_id, user_id, reviews etc. There might some scenarios where user just write the review and does not provide ratings. Thus, creating a gap in the final analysis to present on customer satisfaction. This notebook is to reduce that gap.\n",
    "\n",
    "2. Tehe dataset we are using here is e-commerce dataset from Amazon, containing info of users who made a review on a particular product.\n",
    "\n",
    "3. The dataset has been taken from Kaggle, although it is present in other locations like UCI etc.\n",
    "\n",
    "4. Multiclass Classifcation under Predictive Analytics is what we are trying to achieve."
   ]
  },
  {
   "cell_type": "raw",
   "id": "3298e121",
   "metadata": {
    "id": "3298e121"
   },
   "source": [
    "1. The business problem that we are trying to solve is to predict the ratings score of the review, given some independent feaures like product_id, user_id, reviews etc. There might some scenarios where user just write the review and does not provide ratings. Thus, creating a gap in the final analysis to present on customer satisfaction. This notebook is to reduce that gap.\n",
    "\n",
    "2. Tehe dataset we are using here is e-commerce dataset from Amazon, containing info of users who made a review on a particular product.\n",
    "\n",
    "3. The dataset has been taken from Kaggle, although it is present in other locations like UCI etc.\n",
    "\n",
    "4. Multiclass Classifcation under Predictive Analytics is what we are trying to achieve."
   ]
  },
  {
   "cell_type": "markdown",
   "id": "3cc8e0cb",
   "metadata": {
    "id": "3cc8e0cb"
   },
   "source": [
    "# 2. Data Acquisition\n",
    " \n",
    "For the problem identified , find an appropriate data set (Your data set must \n",
    "be unique) from any public data source.\n",
    "\n",
    "---\n",
    "\n",
    "\n",
    "\n",
    "## 2.1 Download the data directly\n",
    "\n"
   ]
  },
  {
   "cell_type": "code",
   "execution_count": 1,
   "id": "4b51d895",
   "metadata": {
    "colab": {
     "base_uri": "https://localhost:8080/",
     "height": 0
    },
    "execution": {
     "iopub.execute_input": "2023-03-20T10:44:44.051630Z",
     "iopub.status.busy": "2023-03-20T10:44:44.051191Z",
     "iopub.status.idle": "2023-03-20T10:44:44.532826Z",
     "shell.execute_reply": "2023-03-20T10:44:44.531509Z",
     "shell.execute_reply.started": "2023-03-20T10:44:44.051594Z"
    },
    "id": "4b51d895",
    "outputId": "324ec342-5e16-42c1-dd85-92f60578bed1"
   },
   "outputs": [
    {
     "data": {
      "text/plain": [
       "154056"
      ]
     },
     "execution_count": 1,
     "metadata": {},
     "output_type": "execute_result"
    }
   ],
   "source": [
    "##---------Type the code below this line------------------##\n",
    "import requests\n",
    "URL = \"https://drive.google.com/file/d/1ggu_23hQFQrOqSQCNoQHtJU4U-sUYoBm/view?usp=share_link\"\n",
    "url='https://drive.google.com/uc?id=' + URL.split('/')[-2]\n",
    "\n",
    "r = requests.get(url, allow_redirects=True)\n",
    "open('reviews.csv', 'wb').write(r.content)"
   ]
  },
  {
   "cell_type": "markdown",
   "id": "49530d0c",
   "metadata": {
    "id": "49530d0c"
   },
   "source": [
    "## 2.2 Code for converting the above downloaded data into a dataframe"
   ]
  },
  {
   "cell_type": "code",
   "execution_count": 2,
   "id": "c1f4c171",
   "metadata": {
    "execution": {
     "iopub.execute_input": "2023-03-20T10:44:44.535145Z",
     "iopub.status.busy": "2023-03-20T10:44:44.534814Z",
     "iopub.status.idle": "2023-03-20T10:44:52.986105Z",
     "shell.execute_reply": "2023-03-20T10:44:52.984756Z",
     "shell.execute_reply.started": "2023-03-20T10:44:44.535115Z"
    },
    "id": "c1f4c171"
   },
   "outputs": [],
   "source": [
    "from mpl_toolkits.mplot3d import Axes3D\n",
    "from sklearn.preprocessing import StandardScaler\n",
    "from collections import Counter\n",
    "import matplotlib.pyplot as plt # plotting\n",
    "import numpy as np # linear algebra\n",
    "import os # accessing directory structure\n",
    "import pandas as pd # data processing, CSV file I/O (e.g. pd.read_csv)\n",
    "\n",
    "df1 = pd.read_csv('Reviews.csv', nrows = 10000)\n",
    "df1.columns = [c.lower() for c in df1.columns]\n"
   ]
  },
  {
   "cell_type": "markdown",
   "id": "7b1fea4d",
   "metadata": {
    "id": "7b1fea4d"
   },
   "source": [
    "## 2.3 Confirm the data has been correctly by displaying the first 5 and last 5 records."
   ]
  },
  {
   "cell_type": "code",
   "execution_count": 3,
   "id": "624e6c58",
   "metadata": {
    "colab": {
     "base_uri": "https://localhost:8080/",
     "height": 1380
    },
    "execution": {
     "iopub.execute_input": "2023-03-20T10:44:52.988010Z",
     "iopub.status.busy": "2023-03-20T10:44:52.987578Z",
     "iopub.status.idle": "2023-03-20T10:44:53.030066Z",
     "shell.execute_reply": "2023-03-20T10:44:53.028892Z",
     "shell.execute_reply.started": "2023-03-20T10:44:52.987969Z"
    },
    "id": "624e6c58",
    "outputId": "0d8cdac9-065c-4e75-9eb5-9b3d37d89d9a"
   },
   "outputs": [
    {
     "name": "stdout",
     "output_type": "stream",
     "text": [
      "First 5 rows\n"
     ]
    },
    {
     "data": {
      "text/html": [
       "\n",
       "  <div id=\"df-e2f5950d-6157-4d51-9e52-ab27f7f2601b\">\n",
       "    <div class=\"colab-df-container\">\n",
       "      <div>\n",
       "<style scoped>\n",
       "    .dataframe tbody tr th:only-of-type {\n",
       "        vertical-align: middle;\n",
       "    }\n",
       "\n",
       "    .dataframe tbody tr th {\n",
       "        vertical-align: top;\n",
       "    }\n",
       "\n",
       "    .dataframe thead th {\n",
       "        text-align: right;\n",
       "    }\n",
       "</style>\n",
       "<table border=\"1\" class=\"dataframe\">\n",
       "  <thead>\n",
       "    <tr style=\"text-align: right;\">\n",
       "      <th></th>\n",
       "      <th>id</th>\n",
       "      <th>productid</th>\n",
       "      <th>userid</th>\n",
       "      <th>profilename</th>\n",
       "      <th>helpfulnessnumerator</th>\n",
       "      <th>helpfulnessdenominator</th>\n",
       "      <th>score</th>\n",
       "      <th>time</th>\n",
       "      <th>summary</th>\n",
       "      <th>text</th>\n",
       "    </tr>\n",
       "  </thead>\n",
       "  <tbody>\n",
       "    <tr>\n",
       "      <th>0</th>\n",
       "      <td>1</td>\n",
       "      <td>B001E4KFG0</td>\n",
       "      <td>A3SGXH7AUHU8GW</td>\n",
       "      <td>delmartian</td>\n",
       "      <td>1</td>\n",
       "      <td>1</td>\n",
       "      <td>5</td>\n",
       "      <td>1303862400</td>\n",
       "      <td>Good Quality Dog Food</td>\n",
       "      <td>I have bought several of the Vitality canned d...</td>\n",
       "    </tr>\n",
       "    <tr>\n",
       "      <th>1</th>\n",
       "      <td>2</td>\n",
       "      <td>B00813GRG4</td>\n",
       "      <td>A1D87F6ZCVE5NK</td>\n",
       "      <td>dll pa</td>\n",
       "      <td>0</td>\n",
       "      <td>0</td>\n",
       "      <td>1</td>\n",
       "      <td>1346976000</td>\n",
       "      <td>Not as Advertised</td>\n",
       "      <td>Product arrived labeled as Jumbo Salted Peanut...</td>\n",
       "    </tr>\n",
       "    <tr>\n",
       "      <th>2</th>\n",
       "      <td>3</td>\n",
       "      <td>B000LQOCH0</td>\n",
       "      <td>ABXLMWJIXXAIN</td>\n",
       "      <td>Natalia Corres \"Natalia Corres\"</td>\n",
       "      <td>1</td>\n",
       "      <td>1</td>\n",
       "      <td>4</td>\n",
       "      <td>1219017600</td>\n",
       "      <td>\"Delight\" says it all</td>\n",
       "      <td>This is a confection that has been around a fe...</td>\n",
       "    </tr>\n",
       "    <tr>\n",
       "      <th>3</th>\n",
       "      <td>4</td>\n",
       "      <td>B000UA0QIQ</td>\n",
       "      <td>A395BORC6FGVXV</td>\n",
       "      <td>Karl</td>\n",
       "      <td>3</td>\n",
       "      <td>3</td>\n",
       "      <td>2</td>\n",
       "      <td>1307923200</td>\n",
       "      <td>Cough Medicine</td>\n",
       "      <td>If you are looking for the secret ingredient i...</td>\n",
       "    </tr>\n",
       "    <tr>\n",
       "      <th>4</th>\n",
       "      <td>5</td>\n",
       "      <td>B006K2ZZ7K</td>\n",
       "      <td>A1UQRSCLF8GW1T</td>\n",
       "      <td>Michael D. Bigham \"M. Wassir\"</td>\n",
       "      <td>0</td>\n",
       "      <td>0</td>\n",
       "      <td>5</td>\n",
       "      <td>1350777600</td>\n",
       "      <td>Great taffy</td>\n",
       "      <td>Great taffy at a great price.  There was a wid...</td>\n",
       "    </tr>\n",
       "  </tbody>\n",
       "</table>\n",
       "</div>\n",
       "      <button class=\"colab-df-convert\" onclick=\"convertToInteractive('df-e2f5950d-6157-4d51-9e52-ab27f7f2601b')\"\n",
       "              title=\"Convert this dataframe to an interactive table.\"\n",
       "              style=\"display:none;\">\n",
       "        \n",
       "  <svg xmlns=\"http://www.w3.org/2000/svg\" height=\"24px\"viewBox=\"0 0 24 24\"\n",
       "       width=\"24px\">\n",
       "    <path d=\"M0 0h24v24H0V0z\" fill=\"none\"/>\n",
       "    <path d=\"M18.56 5.44l.94 2.06.94-2.06 2.06-.94-2.06-.94-.94-2.06-.94 2.06-2.06.94zm-11 1L8.5 8.5l.94-2.06 2.06-.94-2.06-.94L8.5 2.5l-.94 2.06-2.06.94zm10 10l.94 2.06.94-2.06 2.06-.94-2.06-.94-.94-2.06-.94 2.06-2.06.94z\"/><path d=\"M17.41 7.96l-1.37-1.37c-.4-.4-.92-.59-1.43-.59-.52 0-1.04.2-1.43.59L10.3 9.45l-7.72 7.72c-.78.78-.78 2.05 0 2.83L4 21.41c.39.39.9.59 1.41.59.51 0 1.02-.2 1.41-.59l7.78-7.78 2.81-2.81c.8-.78.8-2.07 0-2.86zM5.41 20L4 18.59l7.72-7.72 1.47 1.35L5.41 20z\"/>\n",
       "  </svg>\n",
       "      </button>\n",
       "      \n",
       "  <style>\n",
       "    .colab-df-container {\n",
       "      display:flex;\n",
       "      flex-wrap:wrap;\n",
       "      gap: 12px;\n",
       "    }\n",
       "\n",
       "    .colab-df-convert {\n",
       "      background-color: #E8F0FE;\n",
       "      border: none;\n",
       "      border-radius: 50%;\n",
       "      cursor: pointer;\n",
       "      display: none;\n",
       "      fill: #1967D2;\n",
       "      height: 32px;\n",
       "      padding: 0 0 0 0;\n",
       "      width: 32px;\n",
       "    }\n",
       "\n",
       "    .colab-df-convert:hover {\n",
       "      background-color: #E2EBFA;\n",
       "      box-shadow: 0px 1px 2px rgba(60, 64, 67, 0.3), 0px 1px 3px 1px rgba(60, 64, 67, 0.15);\n",
       "      fill: #174EA6;\n",
       "    }\n",
       "\n",
       "    [theme=dark] .colab-df-convert {\n",
       "      background-color: #3B4455;\n",
       "      fill: #D2E3FC;\n",
       "    }\n",
       "\n",
       "    [theme=dark] .colab-df-convert:hover {\n",
       "      background-color: #434B5C;\n",
       "      box-shadow: 0px 1px 3px 1px rgba(0, 0, 0, 0.15);\n",
       "      filter: drop-shadow(0px 1px 2px rgba(0, 0, 0, 0.3));\n",
       "      fill: #FFFFFF;\n",
       "    }\n",
       "  </style>\n",
       "\n",
       "      <script>\n",
       "        const buttonEl =\n",
       "          document.querySelector('#df-e2f5950d-6157-4d51-9e52-ab27f7f2601b button.colab-df-convert');\n",
       "        buttonEl.style.display =\n",
       "          google.colab.kernel.accessAllowed ? 'block' : 'none';\n",
       "\n",
       "        async function convertToInteractive(key) {\n",
       "          const element = document.querySelector('#df-e2f5950d-6157-4d51-9e52-ab27f7f2601b');\n",
       "          const dataTable =\n",
       "            await google.colab.kernel.invokeFunction('convertToInteractive',\n",
       "                                                     [key], {});\n",
       "          if (!dataTable) return;\n",
       "\n",
       "          const docLinkHtml = 'Like what you see? Visit the ' +\n",
       "            '<a target=\"_blank\" href=https://colab.research.google.com/notebooks/data_table.ipynb>data table notebook</a>'\n",
       "            + ' to learn more about interactive tables.';\n",
       "          element.innerHTML = '';\n",
       "          dataTable['output_type'] = 'display_data';\n",
       "          await google.colab.output.renderOutput(dataTable, element);\n",
       "          const docLink = document.createElement('div');\n",
       "          docLink.innerHTML = docLinkHtml;\n",
       "          element.appendChild(docLink);\n",
       "        }\n",
       "      </script>\n",
       "    </div>\n",
       "  </div>\n",
       "  "
      ],
      "text/plain": [
       "   id   productid          userid                      profilename  \\\n",
       "0   1  B001E4KFG0  A3SGXH7AUHU8GW                       delmartian   \n",
       "1   2  B00813GRG4  A1D87F6ZCVE5NK                           dll pa   \n",
       "2   3  B000LQOCH0   ABXLMWJIXXAIN  Natalia Corres \"Natalia Corres\"   \n",
       "3   4  B000UA0QIQ  A395BORC6FGVXV                             Karl   \n",
       "4   5  B006K2ZZ7K  A1UQRSCLF8GW1T    Michael D. Bigham \"M. Wassir\"   \n",
       "\n",
       "   helpfulnessnumerator  helpfulnessdenominator  score        time  \\\n",
       "0                     1                       1      5  1303862400   \n",
       "1                     0                       0      1  1346976000   \n",
       "2                     1                       1      4  1219017600   \n",
       "3                     3                       3      2  1307923200   \n",
       "4                     0                       0      5  1350777600   \n",
       "\n",
       "                 summary                                               text  \n",
       "0  Good Quality Dog Food  I have bought several of the Vitality canned d...  \n",
       "1      Not as Advertised  Product arrived labeled as Jumbo Salted Peanut...  \n",
       "2  \"Delight\" says it all  This is a confection that has been around a fe...  \n",
       "3         Cough Medicine  If you are looking for the secret ingredient i...  \n",
       "4            Great taffy  Great taffy at a great price.  There was a wid...  "
      ]
     },
     "metadata": {},
     "output_type": "display_data"
    },
    {
     "name": "stdout",
     "output_type": "stream",
     "text": [
      "Last 5 rows\n"
     ]
    },
    {
     "data": {
      "text/html": [
       "\n",
       "  <div id=\"df-748c67a9-cb9f-4146-b006-8d881f34c56a\">\n",
       "    <div class=\"colab-df-container\">\n",
       "      <div>\n",
       "<style scoped>\n",
       "    .dataframe tbody tr th:only-of-type {\n",
       "        vertical-align: middle;\n",
       "    }\n",
       "\n",
       "    .dataframe tbody tr th {\n",
       "        vertical-align: top;\n",
       "    }\n",
       "\n",
       "    .dataframe thead th {\n",
       "        text-align: right;\n",
       "    }\n",
       "</style>\n",
       "<table border=\"1\" class=\"dataframe\">\n",
       "  <thead>\n",
       "    <tr style=\"text-align: right;\">\n",
       "      <th></th>\n",
       "      <th>id</th>\n",
       "      <th>productid</th>\n",
       "      <th>userid</th>\n",
       "      <th>profilename</th>\n",
       "      <th>helpfulnessnumerator</th>\n",
       "      <th>helpfulnessdenominator</th>\n",
       "      <th>score</th>\n",
       "      <th>time</th>\n",
       "      <th>summary</th>\n",
       "      <th>text</th>\n",
       "    </tr>\n",
       "  </thead>\n",
       "  <tbody>\n",
       "    <tr>\n",
       "      <th>9995</th>\n",
       "      <td>9996</td>\n",
       "      <td>B000P41A28</td>\n",
       "      <td>A3A63RACXR1XIL</td>\n",
       "      <td>A. Boodhoo \"deaddodo\"</td>\n",
       "      <td>10</td>\n",
       "      <td>15</td>\n",
       "      <td>1</td>\n",
       "      <td>1204502400</td>\n",
       "      <td>constipation</td>\n",
       "      <td>we switched from the advance similac to the or...</td>\n",
       "    </tr>\n",
       "    <tr>\n",
       "      <th>9996</th>\n",
       "      <td>9997</td>\n",
       "      <td>B000P41A28</td>\n",
       "      <td>A5VVRGL8JA7R</td>\n",
       "      <td>Adam</td>\n",
       "      <td>2</td>\n",
       "      <td>3</td>\n",
       "      <td>5</td>\n",
       "      <td>1306368000</td>\n",
       "      <td>Constipation Not A Problem if...</td>\n",
       "      <td>Like the bad reviews say, the organic formula ...</td>\n",
       "    </tr>\n",
       "    <tr>\n",
       "      <th>9997</th>\n",
       "      <td>9998</td>\n",
       "      <td>B000P41A28</td>\n",
       "      <td>A2TGDTJ8YCU6PD</td>\n",
       "      <td>geena77</td>\n",
       "      <td>0</td>\n",
       "      <td>0</td>\n",
       "      <td>5</td>\n",
       "      <td>1347494400</td>\n",
       "      <td>Love this formula!</td>\n",
       "      <td>I wanted to solely breastfeed but was unable t...</td>\n",
       "    </tr>\n",
       "    <tr>\n",
       "      <th>9998</th>\n",
       "      <td>9999</td>\n",
       "      <td>B000P41A28</td>\n",
       "      <td>AUV4GIZZE693O</td>\n",
       "      <td>Susan Coe \"sueysis\"</td>\n",
       "      <td>1</td>\n",
       "      <td>2</td>\n",
       "      <td>5</td>\n",
       "      <td>1203638400</td>\n",
       "      <td>very convenient</td>\n",
       "      <td>i love the fact that i can get this delieved t...</td>\n",
       "    </tr>\n",
       "    <tr>\n",
       "      <th>9999</th>\n",
       "      <td>10000</td>\n",
       "      <td>B000P41A28</td>\n",
       "      <td>A82WIMR4RSVLI</td>\n",
       "      <td>Emrose mom</td>\n",
       "      <td>0</td>\n",
       "      <td>1</td>\n",
       "      <td>4</td>\n",
       "      <td>1337472000</td>\n",
       "      <td>The best weve tried so far</td>\n",
       "      <td>We have a 7 week old... He had gas and constip...</td>\n",
       "    </tr>\n",
       "  </tbody>\n",
       "</table>\n",
       "</div>\n",
       "      <button class=\"colab-df-convert\" onclick=\"convertToInteractive('df-748c67a9-cb9f-4146-b006-8d881f34c56a')\"\n",
       "              title=\"Convert this dataframe to an interactive table.\"\n",
       "              style=\"display:none;\">\n",
       "        \n",
       "  <svg xmlns=\"http://www.w3.org/2000/svg\" height=\"24px\"viewBox=\"0 0 24 24\"\n",
       "       width=\"24px\">\n",
       "    <path d=\"M0 0h24v24H0V0z\" fill=\"none\"/>\n",
       "    <path d=\"M18.56 5.44l.94 2.06.94-2.06 2.06-.94-2.06-.94-.94-2.06-.94 2.06-2.06.94zm-11 1L8.5 8.5l.94-2.06 2.06-.94-2.06-.94L8.5 2.5l-.94 2.06-2.06.94zm10 10l.94 2.06.94-2.06 2.06-.94-2.06-.94-.94-2.06-.94 2.06-2.06.94z\"/><path d=\"M17.41 7.96l-1.37-1.37c-.4-.4-.92-.59-1.43-.59-.52 0-1.04.2-1.43.59L10.3 9.45l-7.72 7.72c-.78.78-.78 2.05 0 2.83L4 21.41c.39.39.9.59 1.41.59.51 0 1.02-.2 1.41-.59l7.78-7.78 2.81-2.81c.8-.78.8-2.07 0-2.86zM5.41 20L4 18.59l7.72-7.72 1.47 1.35L5.41 20z\"/>\n",
       "  </svg>\n",
       "      </button>\n",
       "      \n",
       "  <style>\n",
       "    .colab-df-container {\n",
       "      display:flex;\n",
       "      flex-wrap:wrap;\n",
       "      gap: 12px;\n",
       "    }\n",
       "\n",
       "    .colab-df-convert {\n",
       "      background-color: #E8F0FE;\n",
       "      border: none;\n",
       "      border-radius: 50%;\n",
       "      cursor: pointer;\n",
       "      display: none;\n",
       "      fill: #1967D2;\n",
       "      height: 32px;\n",
       "      padding: 0 0 0 0;\n",
       "      width: 32px;\n",
       "    }\n",
       "\n",
       "    .colab-df-convert:hover {\n",
       "      background-color: #E2EBFA;\n",
       "      box-shadow: 0px 1px 2px rgba(60, 64, 67, 0.3), 0px 1px 3px 1px rgba(60, 64, 67, 0.15);\n",
       "      fill: #174EA6;\n",
       "    }\n",
       "\n",
       "    [theme=dark] .colab-df-convert {\n",
       "      background-color: #3B4455;\n",
       "      fill: #D2E3FC;\n",
       "    }\n",
       "\n",
       "    [theme=dark] .colab-df-convert:hover {\n",
       "      background-color: #434B5C;\n",
       "      box-shadow: 0px 1px 3px 1px rgba(0, 0, 0, 0.15);\n",
       "      filter: drop-shadow(0px 1px 2px rgba(0, 0, 0, 0.3));\n",
       "      fill: #FFFFFF;\n",
       "    }\n",
       "  </style>\n",
       "\n",
       "      <script>\n",
       "        const buttonEl =\n",
       "          document.querySelector('#df-748c67a9-cb9f-4146-b006-8d881f34c56a button.colab-df-convert');\n",
       "        buttonEl.style.display =\n",
       "          google.colab.kernel.accessAllowed ? 'block' : 'none';\n",
       "\n",
       "        async function convertToInteractive(key) {\n",
       "          const element = document.querySelector('#df-748c67a9-cb9f-4146-b006-8d881f34c56a');\n",
       "          const dataTable =\n",
       "            await google.colab.kernel.invokeFunction('convertToInteractive',\n",
       "                                                     [key], {});\n",
       "          if (!dataTable) return;\n",
       "\n",
       "          const docLinkHtml = 'Like what you see? Visit the ' +\n",
       "            '<a target=\"_blank\" href=https://colab.research.google.com/notebooks/data_table.ipynb>data table notebook</a>'\n",
       "            + ' to learn more about interactive tables.';\n",
       "          element.innerHTML = '';\n",
       "          dataTable['output_type'] = 'display_data';\n",
       "          await google.colab.output.renderOutput(dataTable, element);\n",
       "          const docLink = document.createElement('div');\n",
       "          docLink.innerHTML = docLinkHtml;\n",
       "          element.appendChild(docLink);\n",
       "        }\n",
       "      </script>\n",
       "    </div>\n",
       "  </div>\n",
       "  "
      ],
      "text/plain": [
       "         id   productid          userid            profilename  \\\n",
       "9995   9996  B000P41A28  A3A63RACXR1XIL  A. Boodhoo \"deaddodo\"   \n",
       "9996   9997  B000P41A28    A5VVRGL8JA7R                   Adam   \n",
       "9997   9998  B000P41A28  A2TGDTJ8YCU6PD                geena77   \n",
       "9998   9999  B000P41A28   AUV4GIZZE693O    Susan Coe \"sueysis\"   \n",
       "9999  10000  B000P41A28   A82WIMR4RSVLI             Emrose mom   \n",
       "\n",
       "      helpfulnessnumerator  helpfulnessdenominator  score        time  \\\n",
       "9995                    10                      15      1  1204502400   \n",
       "9996                     2                       3      5  1306368000   \n",
       "9997                     0                       0      5  1347494400   \n",
       "9998                     1                       2      5  1203638400   \n",
       "9999                     0                       1      4  1337472000   \n",
       "\n",
       "                               summary  \\\n",
       "9995                      constipation   \n",
       "9996  Constipation Not A Problem if...   \n",
       "9997                Love this formula!   \n",
       "9998                   very convenient   \n",
       "9999        The best weve tried so far   \n",
       "\n",
       "                                                   text  \n",
       "9995  we switched from the advance similac to the or...  \n",
       "9996  Like the bad reviews say, the organic formula ...  \n",
       "9997  I wanted to solely breastfeed but was unable t...  \n",
       "9998  i love the fact that i can get this delieved t...  \n",
       "9999  We have a 7 week old... He had gas and constip...  "
      ]
     },
     "metadata": {},
     "output_type": "display_data"
    }
   ],
   "source": [
    "print('First 5 rows')\n",
    "display(df1.head())\n",
    "\n",
    "print('Last 5 rows')\n",
    "display(df1.tail())\n"
   ]
  },
  {
   "cell_type": "markdown",
   "id": "bb84fc56",
   "metadata": {
    "id": "bb84fc56"
   },
   "source": [
    "## 2.4 Display the column headings, statistical information, description and statistical summary of the data."
   ]
  },
  {
   "cell_type": "code",
   "execution_count": 4,
   "id": "086ad28e",
   "metadata": {
    "colab": {
     "base_uri": "https://localhost:8080/",
     "height": 818
    },
    "execution": {
     "iopub.execute_input": "2023-03-20T10:44:53.033014Z",
     "iopub.status.busy": "2023-03-20T10:44:53.032691Z",
     "iopub.status.idle": "2023-03-20T10:44:53.098577Z",
     "shell.execute_reply": "2023-03-20T10:44:53.097328Z",
     "shell.execute_reply.started": "2023-03-20T10:44:53.032983Z"
    },
    "id": "086ad28e",
    "outputId": "f02aba36-65db-4375-9711-a77306f64b6d"
   },
   "outputs": [
    {
     "name": "stdout",
     "output_type": "stream",
     "text": [
      "Column Present:  Index(['id', 'productid', 'userid', 'profilename', 'helpfulnessnumerator',\n",
      "       'helpfulnessdenominator', 'score', 'time', 'summary', 'text'],\n",
      "      dtype='object')\n",
      "\n",
      "\n",
      "distribution of score (1-5) in the dataset:\n",
      " 5    6183\n",
      "4    1433\n",
      "1     932\n",
      "3     862\n",
      "2     590\n",
      "Name: score, dtype: int64\n",
      "\n",
      "\n",
      " unique no. of entries in the dataset:\n",
      " id                        10000\n",
      "productid                  1422\n",
      "userid                     9015\n",
      "profilename                8679\n",
      "helpfulnessnumerator         58\n",
      "helpfulnessdenominator       64\n",
      "score                         5\n",
      "time                       1952\n",
      "summary                    8526\n",
      "text                       9513\n",
      "dtype: int64\n",
      "\n",
      "\n",
      "\n"
     ]
    },
    {
     "data": {
      "text/html": [
       "\n",
       "  <div id=\"df-601d9ea8-4e27-42c9-918e-64492038698c\">\n",
       "    <div class=\"colab-df-container\">\n",
       "      <div>\n",
       "<style scoped>\n",
       "    .dataframe tbody tr th:only-of-type {\n",
       "        vertical-align: middle;\n",
       "    }\n",
       "\n",
       "    .dataframe tbody tr th {\n",
       "        vertical-align: top;\n",
       "    }\n",
       "\n",
       "    .dataframe thead th {\n",
       "        text-align: right;\n",
       "    }\n",
       "</style>\n",
       "<table border=\"1\" class=\"dataframe\">\n",
       "  <thead>\n",
       "    <tr style=\"text-align: right;\">\n",
       "      <th></th>\n",
       "      <th>id</th>\n",
       "      <th>helpfulnessnumerator</th>\n",
       "      <th>helpfulnessdenominator</th>\n",
       "      <th>score</th>\n",
       "      <th>time</th>\n",
       "    </tr>\n",
       "  </thead>\n",
       "  <tbody>\n",
       "    <tr>\n",
       "      <th>count</th>\n",
       "      <td>10000.00000</td>\n",
       "      <td>10000.000000</td>\n",
       "      <td>10000.000000</td>\n",
       "      <td>10000.000000</td>\n",
       "      <td>1.000000e+04</td>\n",
       "    </tr>\n",
       "    <tr>\n",
       "      <th>mean</th>\n",
       "      <td>5000.50000</td>\n",
       "      <td>1.573500</td>\n",
       "      <td>2.014900</td>\n",
       "      <td>4.134500</td>\n",
       "      <td>1.294359e+09</td>\n",
       "    </tr>\n",
       "    <tr>\n",
       "      <th>std</th>\n",
       "      <td>2886.89568</td>\n",
       "      <td>5.230634</td>\n",
       "      <td>5.807551</td>\n",
       "      <td>1.327172</td>\n",
       "      <td>4.769699e+07</td>\n",
       "    </tr>\n",
       "    <tr>\n",
       "      <th>min</th>\n",
       "      <td>1.00000</td>\n",
       "      <td>0.000000</td>\n",
       "      <td>0.000000</td>\n",
       "      <td>1.000000</td>\n",
       "      <td>9.617184e+08</td>\n",
       "    </tr>\n",
       "    <tr>\n",
       "      <th>25%</th>\n",
       "      <td>2500.75000</td>\n",
       "      <td>0.000000</td>\n",
       "      <td>0.000000</td>\n",
       "      <td>4.000000</td>\n",
       "      <td>1.268762e+09</td>\n",
       "    </tr>\n",
       "    <tr>\n",
       "      <th>50%</th>\n",
       "      <td>5000.50000</td>\n",
       "      <td>0.000000</td>\n",
       "      <td>1.000000</td>\n",
       "      <td>5.000000</td>\n",
       "      <td>1.307837e+09</td>\n",
       "    </tr>\n",
       "    <tr>\n",
       "      <th>75%</th>\n",
       "      <td>7500.25000</td>\n",
       "      <td>2.000000</td>\n",
       "      <td>2.000000</td>\n",
       "      <td>5.000000</td>\n",
       "      <td>1.329955e+09</td>\n",
       "    </tr>\n",
       "    <tr>\n",
       "      <th>max</th>\n",
       "      <td>10000.00000</td>\n",
       "      <td>187.000000</td>\n",
       "      <td>216.000000</td>\n",
       "      <td>5.000000</td>\n",
       "      <td>1.351210e+09</td>\n",
       "    </tr>\n",
       "  </tbody>\n",
       "</table>\n",
       "</div>\n",
       "      <button class=\"colab-df-convert\" onclick=\"convertToInteractive('df-601d9ea8-4e27-42c9-918e-64492038698c')\"\n",
       "              title=\"Convert this dataframe to an interactive table.\"\n",
       "              style=\"display:none;\">\n",
       "        \n",
       "  <svg xmlns=\"http://www.w3.org/2000/svg\" height=\"24px\"viewBox=\"0 0 24 24\"\n",
       "       width=\"24px\">\n",
       "    <path d=\"M0 0h24v24H0V0z\" fill=\"none\"/>\n",
       "    <path d=\"M18.56 5.44l.94 2.06.94-2.06 2.06-.94-2.06-.94-.94-2.06-.94 2.06-2.06.94zm-11 1L8.5 8.5l.94-2.06 2.06-.94-2.06-.94L8.5 2.5l-.94 2.06-2.06.94zm10 10l.94 2.06.94-2.06 2.06-.94-2.06-.94-.94-2.06-.94 2.06-2.06.94z\"/><path d=\"M17.41 7.96l-1.37-1.37c-.4-.4-.92-.59-1.43-.59-.52 0-1.04.2-1.43.59L10.3 9.45l-7.72 7.72c-.78.78-.78 2.05 0 2.83L4 21.41c.39.39.9.59 1.41.59.51 0 1.02-.2 1.41-.59l7.78-7.78 2.81-2.81c.8-.78.8-2.07 0-2.86zM5.41 20L4 18.59l7.72-7.72 1.47 1.35L5.41 20z\"/>\n",
       "  </svg>\n",
       "      </button>\n",
       "      \n",
       "  <style>\n",
       "    .colab-df-container {\n",
       "      display:flex;\n",
       "      flex-wrap:wrap;\n",
       "      gap: 12px;\n",
       "    }\n",
       "\n",
       "    .colab-df-convert {\n",
       "      background-color: #E8F0FE;\n",
       "      border: none;\n",
       "      border-radius: 50%;\n",
       "      cursor: pointer;\n",
       "      display: none;\n",
       "      fill: #1967D2;\n",
       "      height: 32px;\n",
       "      padding: 0 0 0 0;\n",
       "      width: 32px;\n",
       "    }\n",
       "\n",
       "    .colab-df-convert:hover {\n",
       "      background-color: #E2EBFA;\n",
       "      box-shadow: 0px 1px 2px rgba(60, 64, 67, 0.3), 0px 1px 3px 1px rgba(60, 64, 67, 0.15);\n",
       "      fill: #174EA6;\n",
       "    }\n",
       "\n",
       "    [theme=dark] .colab-df-convert {\n",
       "      background-color: #3B4455;\n",
       "      fill: #D2E3FC;\n",
       "    }\n",
       "\n",
       "    [theme=dark] .colab-df-convert:hover {\n",
       "      background-color: #434B5C;\n",
       "      box-shadow: 0px 1px 3px 1px rgba(0, 0, 0, 0.15);\n",
       "      filter: drop-shadow(0px 1px 2px rgba(0, 0, 0, 0.3));\n",
       "      fill: #FFFFFF;\n",
       "    }\n",
       "  </style>\n",
       "\n",
       "      <script>\n",
       "        const buttonEl =\n",
       "          document.querySelector('#df-601d9ea8-4e27-42c9-918e-64492038698c button.colab-df-convert');\n",
       "        buttonEl.style.display =\n",
       "          google.colab.kernel.accessAllowed ? 'block' : 'none';\n",
       "\n",
       "        async function convertToInteractive(key) {\n",
       "          const element = document.querySelector('#df-601d9ea8-4e27-42c9-918e-64492038698c');\n",
       "          const dataTable =\n",
       "            await google.colab.kernel.invokeFunction('convertToInteractive',\n",
       "                                                     [key], {});\n",
       "          if (!dataTable) return;\n",
       "\n",
       "          const docLinkHtml = 'Like what you see? Visit the ' +\n",
       "            '<a target=\"_blank\" href=https://colab.research.google.com/notebooks/data_table.ipynb>data table notebook</a>'\n",
       "            + ' to learn more about interactive tables.';\n",
       "          element.innerHTML = '';\n",
       "          dataTable['output_type'] = 'display_data';\n",
       "          await google.colab.output.renderOutput(dataTable, element);\n",
       "          const docLink = document.createElement('div');\n",
       "          docLink.innerHTML = docLinkHtml;\n",
       "          element.appendChild(docLink);\n",
       "        }\n",
       "      </script>\n",
       "    </div>\n",
       "  </div>\n",
       "  "
      ],
      "text/plain": [
       "                id  helpfulnessnumerator  helpfulnessdenominator  \\\n",
       "count  10000.00000          10000.000000            10000.000000   \n",
       "mean    5000.50000              1.573500                2.014900   \n",
       "std     2886.89568              5.230634                5.807551   \n",
       "min        1.00000              0.000000                0.000000   \n",
       "25%     2500.75000              0.000000                0.000000   \n",
       "50%     5000.50000              0.000000                1.000000   \n",
       "75%     7500.25000              2.000000                2.000000   \n",
       "max    10000.00000            187.000000              216.000000   \n",
       "\n",
       "              score          time  \n",
       "count  10000.000000  1.000000e+04  \n",
       "mean       4.134500  1.294359e+09  \n",
       "std        1.327172  4.769699e+07  \n",
       "min        1.000000  9.617184e+08  \n",
       "25%        4.000000  1.268762e+09  \n",
       "50%        5.000000  1.307837e+09  \n",
       "75%        5.000000  1.329955e+09  \n",
       "max        5.000000  1.351210e+09  "
      ]
     },
     "metadata": {},
     "output_type": "display_data"
    }
   ],
   "source": [
    "##---------Type the code below this line------------------##\n",
    "print('Column Present: ', df1.columns)\n",
    "\n",
    "print('\\n\\ndistribution of score (1-5) in the dataset:\\n', df1['score'].value_counts())\n",
    "\n",
    "print('\\n\\n unique no. of entries in the dataset:\\n', df1.nunique())\n",
    "\n",
    "print('\\n\\n')\n",
    "display(df1.describe())"
   ]
  },
  {
   "cell_type": "markdown",
   "id": "812edb18",
   "metadata": {
    "id": "812edb18"
   },
   "source": [
    "## 2.5 Write your observations from the above. \n",
    "1. Size of the dataset\n",
    "2. What type of data attributes are there?\n",
    "3. Is there any null data that has to be cleaned?\n",
    "\n",
    "Score: 2 Marks in total (0.25 marks for 2.1, 0.25 marks for 2.2, 0.5 marks for 2.3, 0.25 marks for 2.4, 0.75 marks for 2.5)"
   ]
  },
  {
   "cell_type": "code",
   "execution_count": 5,
   "id": "eRPpNU65qxCZ",
   "metadata": {
    "colab": {
     "base_uri": "https://localhost:8080/",
     "height": 0
    },
    "execution": {
     "iopub.execute_input": "2023-03-20T10:44:53.100642Z",
     "iopub.status.busy": "2023-03-20T10:44:53.100299Z",
     "iopub.status.idle": "2023-03-20T10:44:53.114755Z",
     "shell.execute_reply": "2023-03-20T10:44:53.113121Z",
     "shell.execute_reply.started": "2023-03-20T10:44:53.100609Z"
    },
    "id": "eRPpNU65qxCZ",
    "outputId": "2db6313e-8679-4104-94e4-d171ce561f8a"
   },
   "outputs": [
    {
     "name": "stdout",
     "output_type": "stream",
     "text": [
      "size of the dataset:  (10000, 10)\n",
      "\n",
      "\n",
      "data type of columns:\n",
      "\n",
      "id<class 'str'>\n",
      "productid<class 'str'>\n",
      "userid<class 'str'>\n",
      "profilename<class 'str'>\n",
      "helpfulnessnumerator<class 'str'>\n",
      "helpfulnessdenominator<class 'str'>\n",
      "score<class 'str'>\n",
      "time<class 'str'>\n",
      "summary<class 'str'>\n",
      "text<class 'str'>\n",
      "\n",
      "\n",
      " null values info\n",
      " id                        0\n",
      "productid                 0\n",
      "userid                    0\n",
      "profilename               0\n",
      "helpfulnessnumerator      0\n",
      "helpfulnessdenominator    0\n",
      "score                     0\n",
      "time                      0\n",
      "summary                   0\n",
      "text                      0\n",
      "dtype: int64\n",
      "Is there any null data has to be cleaned:  No\n"
     ]
    }
   ],
   "source": [
    "print('size of the dataset: ', df1.shape)\n",
    "\n",
    "feature_type_list = [col + str(type(col)) for col in df1.columns]\n",
    "print('\\n\\ndata type of columns:\\n')\n",
    "for f in feature_type_list:\n",
    "    print(f)\n",
    "\n",
    "print('\\n\\n null values info\\n', df1.isna().sum())\n",
    "print('Is there any null data has to be cleaned: ','Yes' if df1.isna().sum().sum() > 0 else 'No')"
   ]
  },
  {
   "cell_type": "code",
   "execution_count": 6,
   "id": "aOwavxbSqxCZ",
   "metadata": {
    "execution": {
     "iopub.execute_input": "2023-03-20T10:44:53.116943Z",
     "iopub.status.busy": "2023-03-20T10:44:53.116482Z",
     "iopub.status.idle": "2023-03-20T10:44:53.129329Z",
     "shell.execute_reply": "2023-03-20T10:44:53.127865Z",
     "shell.execute_reply.started": "2023-03-20T10:44:53.116906Z"
    },
    "id": "aOwavxbSqxCZ"
   },
   "outputs": [],
   "source": [
    "'''Removing unimportant columns'''\n",
    "\n",
    "# Removing row ID\n",
    "del df1['id']\n",
    "\n",
    "# Removing user_id and profile name because:\n",
    "# 1. It has very large number of unique users w.r.t. size of dataset\n",
    "# 2. If converted into text vectors, won't give good results becuase people use funky usernames\n",
    "# 3. If converted as in category, the dimensions will be huge after one-hot encoding and\n",
    "# and that will be less useful because in real world, there is always a drift in people coming\n",
    "# going.\n",
    "\n",
    "del df1['userid'], df1['profilename']\n",
    "\n",
    "# Removing time feature, so as to keep it independent of time to determine score of a review.\n",
    "del df1['time']"
   ]
  },
  {
   "cell_type": "markdown",
   "id": "102e0e36",
   "metadata": {
    "id": "102e0e36"
   },
   "source": [
    "# 3. Data Preparation"
   ]
  },
  {
   "cell_type": "raw",
   "id": "637cb469",
   "metadata": {
    "id": "637cb469"
   },
   "source": [
    "If input data is numerical or categorical, do 3.1, 3.2 and 3.4\n",
    "If input data is text, do 3.3 and 3.4"
   ]
  },
  {
   "cell_type": "markdown",
   "id": "2bcb953b",
   "metadata": {
    "id": "2bcb953b"
   },
   "source": [
    "## 3.1 Check for \n",
    "\n",
    "* duplicate data\n",
    "* missing data\n",
    "* data inconsistencies\n"
   ]
  },
  {
   "cell_type": "code",
   "execution_count": 7,
   "id": "5a5b960e",
   "metadata": {
    "colab": {
     "base_uri": "https://localhost:8080/",
     "height": 0
    },
    "execution": {
     "iopub.execute_input": "2023-03-20T10:44:53.131617Z",
     "iopub.status.busy": "2023-03-20T10:44:53.131144Z",
     "iopub.status.idle": "2023-03-20T10:44:53.170247Z",
     "shell.execute_reply": "2023-03-20T10:44:53.169035Z",
     "shell.execute_reply.started": "2023-03-20T10:44:53.131579Z"
    },
    "id": "5a5b960e",
    "outputId": "393f95f8-1534-4a1c-953b-d60ab6d735f7"
   },
   "outputs": [
    {
     "name": "stdout",
     "output_type": "stream",
     "text": [
      "Are duplicates present:  True\n",
      "\n",
      " missing data stats:\n",
      " productid                 0\n",
      "helpfulnessnumerator      0\n",
      "helpfulnessdenominator    0\n",
      "score                     0\n",
      "summary                   0\n",
      "text                      0\n",
      "dtype: int64\n"
     ]
    }
   ],
   "source": [
    "##---------Type the code below this line------------------##\n",
    "print('Are duplicates present: ', df1.duplicated().any())\n",
    "print('\\n missing data stats:\\n', df1.isna().sum())"
   ]
  },
  {
   "cell_type": "markdown",
   "id": "06fdebf8",
   "metadata": {
    "id": "06fdebf8"
   },
   "source": [
    "## 3.2 Apply techiniques\n",
    "* to remove duplicate data\n",
    "* to impute or remove missing data\n",
    "* to remove data inconsistencies\n"
   ]
  },
  {
   "cell_type": "code",
   "execution_count": 8,
   "id": "dd3118eb",
   "metadata": {
    "colab": {
     "base_uri": "https://localhost:8080/",
     "height": 0
    },
    "execution": {
     "iopub.execute_input": "2023-03-20T10:44:53.171763Z",
     "iopub.status.busy": "2023-03-20T10:44:53.171425Z",
     "iopub.status.idle": "2023-03-20T10:44:53.291137Z",
     "shell.execute_reply": "2023-03-20T10:44:53.289598Z",
     "shell.execute_reply.started": "2023-03-20T10:44:53.171732Z"
    },
    "id": "dd3118eb",
    "outputId": "930eb062-53ac-441f-e9e8-594802c2b6f1"
   },
   "outputs": [
    {
     "name": "stdout",
     "output_type": "stream",
     "text": [
      "shape before removing duplicates: (10000, 6)\n",
      "shape after removing duplicates: (9997, 6)\n",
      "% records with duplicates: 0.03\n",
      "\n",
      "\n",
      "shape before removing missing values: (9997, 6)\n",
      "shape after removing missing values: (9997, 6)\n",
      "% records with missing data: 0.0\n"
     ]
    }
   ],
   "source": [
    "##---------Type the code below this line------------------##\n",
    "print('shape before removing duplicates:', df1.shape)\n",
    "a = df1.shape[0]\n",
    "df = df1.drop_duplicates(keep = 'first')\n",
    "b = df.shape[0]\n",
    "print('shape after removing duplicates:', df.shape)\n",
    "print('% records with duplicates:', (a-b)/a*100)\n",
    "\n",
    "print('\\n')\n",
    "print('shape before removing missing values:', df.shape)\n",
    "a = df.shape[0]\n",
    "df = df.dropna(axis = 0, how = 'any')\n",
    "b = df.shape[0]\n",
    "print('shape after removing missing values:', df.shape)\n",
    "print('% records with missing data:', (a-b)/a*100)"
   ]
  },
  {
   "cell_type": "markdown",
   "id": "2139fedf",
   "metadata": {
    "id": "2139fedf"
   },
   "source": [
    "## 3.3 Encode categorical data"
   ]
  },
  {
   "cell_type": "code",
   "execution_count": 9,
   "id": "da6886fc",
   "metadata": {
    "colab": {
     "base_uri": "https://localhost:8080/",
     "height": 223
    },
    "execution": {
     "iopub.execute_input": "2023-03-20T10:44:53.294629Z",
     "iopub.status.busy": "2023-03-20T10:44:53.293843Z",
     "iopub.status.idle": "2023-03-20T10:44:53.340888Z",
     "shell.execute_reply": "2023-03-20T10:44:53.339253Z",
     "shell.execute_reply.started": "2023-03-20T10:44:53.294587Z"
    },
    "id": "da6886fc",
    "outputId": "7bb0f39a-0953-474e-af22-8b3611464803"
   },
   "outputs": [
    {
     "data": {
      "text/html": [
       "\n",
       "  <div id=\"df-0d755da4-c8f9-4016-950c-68e6f79776d7\">\n",
       "    <div class=\"colab-df-container\">\n",
       "      <div>\n",
       "<style scoped>\n",
       "    .dataframe tbody tr th:only-of-type {\n",
       "        vertical-align: middle;\n",
       "    }\n",
       "\n",
       "    .dataframe tbody tr th {\n",
       "        vertical-align: top;\n",
       "    }\n",
       "\n",
       "    .dataframe thead th {\n",
       "        text-align: right;\n",
       "    }\n",
       "</style>\n",
       "<table border=\"1\" class=\"dataframe\">\n",
       "  <thead>\n",
       "    <tr style=\"text-align: right;\">\n",
       "      <th></th>\n",
       "      <th>prod__B00002Z754</th>\n",
       "      <th>prod__B00005V3DC</th>\n",
       "      <th>prod__B000084DVR</th>\n",
       "      <th>prod__B000084E1U</th>\n",
       "      <th>prod__B000084EK4</th>\n",
       "      <th>prod__B000084EK5</th>\n",
       "      <th>prod__B000084EK6</th>\n",
       "      <th>prod__B000084EK7</th>\n",
       "      <th>prod__B000084EK8</th>\n",
       "      <th>prod__B000084EK9</th>\n",
       "      <th>...</th>\n",
       "      <th>prod__B0092XAMDQ</th>\n",
       "      <th>prod__B0093NIWVO</th>\n",
       "      <th>prod__B00959DMWK</th>\n",
       "      <th>prod__B00961CUXO</th>\n",
       "      <th>prod__B0096E5196</th>\n",
       "      <th>prod__B009AVDFCK</th>\n",
       "      <th>prod__B009D668KS</th>\n",
       "      <th>prod__B009HINRX8</th>\n",
       "      <th>prod__B009UOFU20</th>\n",
       "      <th>prod__B009WSNWC4</th>\n",
       "    </tr>\n",
       "  </thead>\n",
       "  <tbody>\n",
       "    <tr>\n",
       "      <th>0</th>\n",
       "      <td>0</td>\n",
       "      <td>0</td>\n",
       "      <td>0</td>\n",
       "      <td>0</td>\n",
       "      <td>0</td>\n",
       "      <td>0</td>\n",
       "      <td>0</td>\n",
       "      <td>0</td>\n",
       "      <td>0</td>\n",
       "      <td>0</td>\n",
       "      <td>...</td>\n",
       "      <td>0</td>\n",
       "      <td>0</td>\n",
       "      <td>0</td>\n",
       "      <td>0</td>\n",
       "      <td>0</td>\n",
       "      <td>0</td>\n",
       "      <td>0</td>\n",
       "      <td>0</td>\n",
       "      <td>0</td>\n",
       "      <td>0</td>\n",
       "    </tr>\n",
       "    <tr>\n",
       "      <th>1</th>\n",
       "      <td>0</td>\n",
       "      <td>0</td>\n",
       "      <td>0</td>\n",
       "      <td>0</td>\n",
       "      <td>0</td>\n",
       "      <td>0</td>\n",
       "      <td>0</td>\n",
       "      <td>0</td>\n",
       "      <td>0</td>\n",
       "      <td>0</td>\n",
       "      <td>...</td>\n",
       "      <td>0</td>\n",
       "      <td>0</td>\n",
       "      <td>0</td>\n",
       "      <td>0</td>\n",
       "      <td>0</td>\n",
       "      <td>0</td>\n",
       "      <td>0</td>\n",
       "      <td>0</td>\n",
       "      <td>0</td>\n",
       "      <td>0</td>\n",
       "    </tr>\n",
       "  </tbody>\n",
       "</table>\n",
       "<p>2 rows × 1421 columns</p>\n",
       "</div>\n",
       "      <button class=\"colab-df-convert\" onclick=\"convertToInteractive('df-0d755da4-c8f9-4016-950c-68e6f79776d7')\"\n",
       "              title=\"Convert this dataframe to an interactive table.\"\n",
       "              style=\"display:none;\">\n",
       "        \n",
       "  <svg xmlns=\"http://www.w3.org/2000/svg\" height=\"24px\"viewBox=\"0 0 24 24\"\n",
       "       width=\"24px\">\n",
       "    <path d=\"M0 0h24v24H0V0z\" fill=\"none\"/>\n",
       "    <path d=\"M18.56 5.44l.94 2.06.94-2.06 2.06-.94-2.06-.94-.94-2.06-.94 2.06-2.06.94zm-11 1L8.5 8.5l.94-2.06 2.06-.94-2.06-.94L8.5 2.5l-.94 2.06-2.06.94zm10 10l.94 2.06.94-2.06 2.06-.94-2.06-.94-.94-2.06-.94 2.06-2.06.94z\"/><path d=\"M17.41 7.96l-1.37-1.37c-.4-.4-.92-.59-1.43-.59-.52 0-1.04.2-1.43.59L10.3 9.45l-7.72 7.72c-.78.78-.78 2.05 0 2.83L4 21.41c.39.39.9.59 1.41.59.51 0 1.02-.2 1.41-.59l7.78-7.78 2.81-2.81c.8-.78.8-2.07 0-2.86zM5.41 20L4 18.59l7.72-7.72 1.47 1.35L5.41 20z\"/>\n",
       "  </svg>\n",
       "      </button>\n",
       "      \n",
       "  <style>\n",
       "    .colab-df-container {\n",
       "      display:flex;\n",
       "      flex-wrap:wrap;\n",
       "      gap: 12px;\n",
       "    }\n",
       "\n",
       "    .colab-df-convert {\n",
       "      background-color: #E8F0FE;\n",
       "      border: none;\n",
       "      border-radius: 50%;\n",
       "      cursor: pointer;\n",
       "      display: none;\n",
       "      fill: #1967D2;\n",
       "      height: 32px;\n",
       "      padding: 0 0 0 0;\n",
       "      width: 32px;\n",
       "    }\n",
       "\n",
       "    .colab-df-convert:hover {\n",
       "      background-color: #E2EBFA;\n",
       "      box-shadow: 0px 1px 2px rgba(60, 64, 67, 0.3), 0px 1px 3px 1px rgba(60, 64, 67, 0.15);\n",
       "      fill: #174EA6;\n",
       "    }\n",
       "\n",
       "    [theme=dark] .colab-df-convert {\n",
       "      background-color: #3B4455;\n",
       "      fill: #D2E3FC;\n",
       "    }\n",
       "\n",
       "    [theme=dark] .colab-df-convert:hover {\n",
       "      background-color: #434B5C;\n",
       "      box-shadow: 0px 1px 3px 1px rgba(0, 0, 0, 0.15);\n",
       "      filter: drop-shadow(0px 1px 2px rgba(0, 0, 0, 0.3));\n",
       "      fill: #FFFFFF;\n",
       "    }\n",
       "  </style>\n",
       "\n",
       "      <script>\n",
       "        const buttonEl =\n",
       "          document.querySelector('#df-0d755da4-c8f9-4016-950c-68e6f79776d7 button.colab-df-convert');\n",
       "        buttonEl.style.display =\n",
       "          google.colab.kernel.accessAllowed ? 'block' : 'none';\n",
       "\n",
       "        async function convertToInteractive(key) {\n",
       "          const element = document.querySelector('#df-0d755da4-c8f9-4016-950c-68e6f79776d7');\n",
       "          const dataTable =\n",
       "            await google.colab.kernel.invokeFunction('convertToInteractive',\n",
       "                                                     [key], {});\n",
       "          if (!dataTable) return;\n",
       "\n",
       "          const docLinkHtml = 'Like what you see? Visit the ' +\n",
       "            '<a target=\"_blank\" href=https://colab.research.google.com/notebooks/data_table.ipynb>data table notebook</a>'\n",
       "            + ' to learn more about interactive tables.';\n",
       "          element.innerHTML = '';\n",
       "          dataTable['output_type'] = 'display_data';\n",
       "          await google.colab.output.renderOutput(dataTable, element);\n",
       "          const docLink = document.createElement('div');\n",
       "          docLink.innerHTML = docLinkHtml;\n",
       "          element.appendChild(docLink);\n",
       "        }\n",
       "      </script>\n",
       "    </div>\n",
       "  </div>\n",
       "  "
      ],
      "text/plain": [
       "   prod__B00002Z754  prod__B00005V3DC  prod__B000084DVR  prod__B000084E1U  \\\n",
       "0                 0                 0                 0                 0   \n",
       "1                 0                 0                 0                 0   \n",
       "\n",
       "   prod__B000084EK4  prod__B000084EK5  prod__B000084EK6  prod__B000084EK7  \\\n",
       "0                 0                 0                 0                 0   \n",
       "1                 0                 0                 0                 0   \n",
       "\n",
       "   prod__B000084EK8  prod__B000084EK9  ...  prod__B0092XAMDQ  \\\n",
       "0                 0                 0  ...                 0   \n",
       "1                 0                 0  ...                 0   \n",
       "\n",
       "   prod__B0093NIWVO  prod__B00959DMWK  prod__B00961CUXO  prod__B0096E5196  \\\n",
       "0                 0                 0                 0                 0   \n",
       "1                 0                 0                 0                 0   \n",
       "\n",
       "   prod__B009AVDFCK  prod__B009D668KS  prod__B009HINRX8  prod__B009UOFU20  \\\n",
       "0                 0                 0                 0                 0   \n",
       "1                 0                 0                 0                 0   \n",
       "\n",
       "   prod__B009WSNWC4  \n",
       "0                 0  \n",
       "1                 0  \n",
       "\n",
       "[2 rows x 1421 columns]"
      ]
     },
     "metadata": {},
     "output_type": "display_data"
    },
    {
     "name": "stdout",
     "output_type": "stream",
     "text": [
      "dummies data shape:  (9997, 1421)\n"
     ]
    }
   ],
   "source": [
    "##---------Type the code below this line------------------##\n",
    "'''Product ID is categorical feauture here'''\n",
    "\n",
    "dummies_productid_df = pd.get_dummies(df['productid'], prefix = 'prod_', drop_first=True)\n",
    "display(dummies_productid_df.head(2))\n",
    "print('dummies data shape: ', dummies_productid_df.shape)"
   ]
  },
  {
   "cell_type": "markdown",
   "id": "ae5a2917",
   "metadata": {
    "id": "ae5a2917"
   },
   "source": [
    "## 3.4 Text data\n",
    "\n",
    "1. Remove special characters\n",
    "2. Change the case (up-casing and down-casing).\n",
    "3. Tokenization — process of discretizing words within a document.\n",
    "4. Filter Stop Words."
   ]
  },
  {
   "cell_type": "code",
   "execution_count": 10,
   "id": "c86d5b0b",
   "metadata": {
    "colab": {
     "base_uri": "https://localhost:8080/",
     "height": 0
    },
    "execution": {
     "iopub.execute_input": "2023-03-20T10:44:53.347308Z",
     "iopub.status.busy": "2023-03-20T10:44:53.346367Z",
     "iopub.status.idle": "2023-03-20T10:44:53.355062Z",
     "shell.execute_reply": "2023-03-20T10:44:53.353743Z",
     "shell.execute_reply.started": "2023-03-20T10:44:53.347253Z"
    },
    "id": "c86d5b0b",
    "outputId": "609092c5-4214-4506-bf1c-4445868ebec6"
   },
   "outputs": [
    {
     "name": "stdout",
     "output_type": "stream",
     "text": [
      "Good Quality Dog Food \n",
      " I have bought several of the Vitality canned dog food products and have found them all to be of good quality. The product looks more like a stew than a processed meat and it smells better. My Labrador is finicky and she appreciates this product better than  most.\n",
      "\n",
      "Not as Advertised \n",
      " Product arrived labeled as Jumbo Salted Peanuts...the peanuts were actually small sized unsalted. Not sure if this was an error or if the vendor intended to represent the product as \"Jumbo\".\n",
      "\n"
     ]
    }
   ],
   "source": [
    "##---------Type the code below this line------------------##\n",
    "for i, row in df[:2].iterrows():\n",
    "    print(row['summary'],'\\n', row['text'])\n",
    "    print()"
   ]
  },
  {
   "cell_type": "code",
   "execution_count": 11,
   "id": "a3b2cdee",
   "metadata": {
    "execution": {
     "iopub.execute_input": "2023-03-20T10:44:53.357134Z",
     "iopub.status.busy": "2023-03-20T10:44:53.356662Z",
     "iopub.status.idle": "2023-03-20T10:44:53.366031Z",
     "shell.execute_reply": "2023-03-20T10:44:53.365067Z",
     "shell.execute_reply.started": "2023-03-20T10:44:53.357095Z"
    },
    "id": "a3b2cdee"
   },
   "outputs": [],
   "source": [
    "##---------Type the code below this line------------------##\n",
    "'''Removing the 'text' feature because:\n",
    "1. We already have a 'summary' feature that represents almost the same picture\n",
    "2. It will unnecessarily create very large matrix after TF-IDF computation\n",
    "3. very large fraction of words will be not useful in determining target'''\n",
    "\n",
    "del df['text']"
   ]
  },
  {
   "cell_type": "code",
   "execution_count": 12,
   "id": "WuEY4wZotL3R",
   "metadata": {
    "colab": {
     "base_uri": "https://localhost:8080/",
     "height": 0
    },
    "id": "WuEY4wZotL3R",
    "outputId": "adccd1f7-5685-4f47-aee0-dacacf3f2737"
   },
   "outputs": [
    {
     "name": "stderr",
     "output_type": "stream",
     "text": [
      "[nltk_data] Downloading package stopwords to /root/nltk_data...\n",
      "[nltk_data]   Package stopwords is already up-to-date!\n",
      "[nltk_data] Downloading package punkt to /root/nltk_data...\n",
      "[nltk_data]   Package punkt is already up-to-date!\n",
      "[nltk_data] Downloading package wordnet to /root/nltk_data...\n",
      "[nltk_data]   Package wordnet is already up-to-date!\n"
     ]
    },
    {
     "data": {
      "text/plain": [
       "True"
      ]
     },
     "execution_count": 12,
     "metadata": {},
     "output_type": "execute_result"
    }
   ],
   "source": [
    "import string\n",
    "import nltk, re\n",
    "from nltk.tokenize import sent_tokenize, word_tokenize\n",
    "from nltk.stem import WordNetLemmatizer\n",
    "from nltk.stem.porter import PorterStemmer\n",
    "\n",
    "nltk.download('stopwords')\n",
    "nltk.download('punkt')\n",
    "nltk.download('wordnet')"
   ]
  },
  {
   "cell_type": "code",
   "execution_count": 13,
   "id": "A5Hp65mRqxCa",
   "metadata": {
    "colab": {
     "base_uri": "https://localhost:8080/",
     "height": 191
    },
    "execution": {
     "iopub.execute_input": "2023-03-20T10:56:10.829525Z",
     "iopub.status.busy": "2023-03-20T10:56:10.829077Z",
     "iopub.status.idle": "2023-03-20T10:56:12.048263Z",
     "shell.execute_reply": "2023-03-20T10:56:12.046369Z",
     "shell.execute_reply.started": "2023-03-20T10:56:10.829485Z"
    },
    "id": "A5Hp65mRqxCa",
    "outputId": "d4151c25-9082-48c5-b27a-cccaabb5b5d9"
   },
   "outputs": [
    {
     "data": {
      "text/html": [
       "\n",
       "  <div id=\"df-83d1fc76-6074-46b8-8460-02ad80349b47\">\n",
       "    <div class=\"colab-df-container\">\n",
       "      <div>\n",
       "<style scoped>\n",
       "    .dataframe tbody tr th:only-of-type {\n",
       "        vertical-align: middle;\n",
       "    }\n",
       "\n",
       "    .dataframe tbody tr th {\n",
       "        vertical-align: top;\n",
       "    }\n",
       "\n",
       "    .dataframe thead th {\n",
       "        text-align: right;\n",
       "    }\n",
       "</style>\n",
       "<table border=\"1\" class=\"dataframe\">\n",
       "  <thead>\n",
       "    <tr style=\"text-align: right;\">\n",
       "      <th></th>\n",
       "      <th>summary</th>\n",
       "      <th>clean_msg</th>\n",
       "      <th>msg_lower</th>\n",
       "      <th>no_numbers</th>\n",
       "      <th>tokenized</th>\n",
       "      <th>no_stopwords</th>\n",
       "      <th>msg_lemmatized</th>\n",
       "      <th>msg_stemmed</th>\n",
       "    </tr>\n",
       "  </thead>\n",
       "  <tbody>\n",
       "    <tr>\n",
       "      <th>0</th>\n",
       "      <td>Good Quality Dog Food</td>\n",
       "      <td>good quality dog food</td>\n",
       "      <td>good quality dog food</td>\n",
       "      <td>good quality dog food</td>\n",
       "      <td>[good, quality, dog, food]</td>\n",
       "      <td>[good, quality, dog, food]</td>\n",
       "      <td>[good, quality, dog, food]</td>\n",
       "      <td>[good, qualiti, dog, food]</td>\n",
       "    </tr>\n",
       "    <tr>\n",
       "      <th>1</th>\n",
       "      <td>Not as Advertised</td>\n",
       "      <td>not as advertised</td>\n",
       "      <td>not as advertised</td>\n",
       "      <td>not as advertised</td>\n",
       "      <td>[not, as, advertised]</td>\n",
       "      <td>[advertised]</td>\n",
       "      <td>[advertised]</td>\n",
       "      <td>[advertis]</td>\n",
       "    </tr>\n",
       "  </tbody>\n",
       "</table>\n",
       "</div>\n",
       "      <button class=\"colab-df-convert\" onclick=\"convertToInteractive('df-83d1fc76-6074-46b8-8460-02ad80349b47')\"\n",
       "              title=\"Convert this dataframe to an interactive table.\"\n",
       "              style=\"display:none;\">\n",
       "        \n",
       "  <svg xmlns=\"http://www.w3.org/2000/svg\" height=\"24px\"viewBox=\"0 0 24 24\"\n",
       "       width=\"24px\">\n",
       "    <path d=\"M0 0h24v24H0V0z\" fill=\"none\"/>\n",
       "    <path d=\"M18.56 5.44l.94 2.06.94-2.06 2.06-.94-2.06-.94-.94-2.06-.94 2.06-2.06.94zm-11 1L8.5 8.5l.94-2.06 2.06-.94-2.06-.94L8.5 2.5l-.94 2.06-2.06.94zm10 10l.94 2.06.94-2.06 2.06-.94-2.06-.94-.94-2.06-.94 2.06-2.06.94z\"/><path d=\"M17.41 7.96l-1.37-1.37c-.4-.4-.92-.59-1.43-.59-.52 0-1.04.2-1.43.59L10.3 9.45l-7.72 7.72c-.78.78-.78 2.05 0 2.83L4 21.41c.39.39.9.59 1.41.59.51 0 1.02-.2 1.41-.59l7.78-7.78 2.81-2.81c.8-.78.8-2.07 0-2.86zM5.41 20L4 18.59l7.72-7.72 1.47 1.35L5.41 20z\"/>\n",
       "  </svg>\n",
       "      </button>\n",
       "      \n",
       "  <style>\n",
       "    .colab-df-container {\n",
       "      display:flex;\n",
       "      flex-wrap:wrap;\n",
       "      gap: 12px;\n",
       "    }\n",
       "\n",
       "    .colab-df-convert {\n",
       "      background-color: #E8F0FE;\n",
       "      border: none;\n",
       "      border-radius: 50%;\n",
       "      cursor: pointer;\n",
       "      display: none;\n",
       "      fill: #1967D2;\n",
       "      height: 32px;\n",
       "      padding: 0 0 0 0;\n",
       "      width: 32px;\n",
       "    }\n",
       "\n",
       "    .colab-df-convert:hover {\n",
       "      background-color: #E2EBFA;\n",
       "      box-shadow: 0px 1px 2px rgba(60, 64, 67, 0.3), 0px 1px 3px 1px rgba(60, 64, 67, 0.15);\n",
       "      fill: #174EA6;\n",
       "    }\n",
       "\n",
       "    [theme=dark] .colab-df-convert {\n",
       "      background-color: #3B4455;\n",
       "      fill: #D2E3FC;\n",
       "    }\n",
       "\n",
       "    [theme=dark] .colab-df-convert:hover {\n",
       "      background-color: #434B5C;\n",
       "      box-shadow: 0px 1px 3px 1px rgba(0, 0, 0, 0.15);\n",
       "      filter: drop-shadow(0px 1px 2px rgba(0, 0, 0, 0.3));\n",
       "      fill: #FFFFFF;\n",
       "    }\n",
       "  </style>\n",
       "\n",
       "      <script>\n",
       "        const buttonEl =\n",
       "          document.querySelector('#df-83d1fc76-6074-46b8-8460-02ad80349b47 button.colab-df-convert');\n",
       "        buttonEl.style.display =\n",
       "          google.colab.kernel.accessAllowed ? 'block' : 'none';\n",
       "\n",
       "        async function convertToInteractive(key) {\n",
       "          const element = document.querySelector('#df-83d1fc76-6074-46b8-8460-02ad80349b47');\n",
       "          const dataTable =\n",
       "            await google.colab.kernel.invokeFunction('convertToInteractive',\n",
       "                                                     [key], {});\n",
       "          if (!dataTable) return;\n",
       "\n",
       "          const docLinkHtml = 'Like what you see? Visit the ' +\n",
       "            '<a target=\"_blank\" href=https://colab.research.google.com/notebooks/data_table.ipynb>data table notebook</a>'\n",
       "            + ' to learn more about interactive tables.';\n",
       "          element.innerHTML = '';\n",
       "          dataTable['output_type'] = 'display_data';\n",
       "          await google.colab.output.renderOutput(dataTable, element);\n",
       "          const docLink = document.createElement('div');\n",
       "          docLink.innerHTML = docLinkHtml;\n",
       "          element.appendChild(docLink);\n",
       "        }\n",
       "      </script>\n",
       "    </div>\n",
       "  </div>\n",
       "  "
      ],
      "text/plain": [
       "                 summary              clean_msg              msg_lower  \\\n",
       "0  Good Quality Dog Food  good quality dog food  good quality dog food   \n",
       "1      Not as Advertised      not as advertised      not as advertised   \n",
       "\n",
       "              no_numbers                   tokenized  \\\n",
       "0  good quality dog food  [good, quality, dog, food]   \n",
       "1      not as advertised       [not, as, advertised]   \n",
       "\n",
       "                 no_stopwords              msg_lemmatized  \\\n",
       "0  [good, quality, dog, food]  [good, quality, dog, food]   \n",
       "1                [advertised]                [advertised]   \n",
       "\n",
       "                  msg_stemmed  \n",
       "0  [good, qualiti, dog, food]  \n",
       "1                  [advertis]  "
      ]
     },
     "execution_count": 13,
     "metadata": {},
     "output_type": "execute_result"
    }
   ],
   "source": [
    "\n",
    "def process_text(df1, text_feature_name):\n",
    "    #Stop words present in the library\n",
    "    stopwords = nltk.corpus.stopwords.words('english')\n",
    "\n",
    "    string.punctuation\n",
    "    #defining the function to remove punctuation\n",
    "\n",
    "    def remove_special_characters(text):\n",
    "        punctuationfree=\"\".join([i for i in text if i not in string.punctuation])\n",
    "        return punctuationfree.lower()\n",
    "\n",
    "    #defining the function to tokenize the given text\n",
    "    def tokenize(text):\n",
    "        return word_tokenize(text)\n",
    "\n",
    "    #defining the function to remove stopwords from tokenized text\n",
    "    def remove_stopwords(text):\n",
    "        output= [i for i in text if i not in stopwords]\n",
    "        return output\n",
    "\n",
    "    #defining the object and function for function for lemmatization\n",
    "    wordnet_lemmatizer = WordNetLemmatizer()\n",
    "    def lemmatizer(text):\n",
    "        lemm_text = [wordnet_lemmatizer.lemmatize(word) for word in text]\n",
    "        return lemm_text\n",
    "    \n",
    "    #defining the object and function for stemming\n",
    "    porter_stemmer = PorterStemmer()\n",
    "    #defining a function for stemming\n",
    "    def stemming(text):\n",
    "        stem_text = [porter_stemmer.stem(word) for word in text]\n",
    "        return stem_text\n",
    "    \n",
    "    def remove_numbers(text):\n",
    "        text = re.sub(\"^\\d+\\s|\\s\\d+\\s|\\s\\d+$\", \" \", text)\n",
    "        return text\n",
    "\n",
    "    #storing the puntuation free text\n",
    "    df1['clean_msg']= df1[text_feature_name].apply(lambda x:remove_special_characters(x))\n",
    "    df1['msg_lower']= df1['clean_msg'].apply(lambda x: x.lower())\n",
    "    df1['no_numbers']=df1['msg_lower'].apply(lambda x: remove_numbers(x))\n",
    "    df1['tokenized'] = df1['no_numbers'].apply(lambda x: tokenize(x))\n",
    "    df1['no_stopwords']= df1['tokenized'].apply(lambda x:remove_stopwords(x))\n",
    "    df1['msg_lemmatized']=df1['no_stopwords'].apply(lambda x:lemmatizer(x))\n",
    "    df1['msg_stemmed']=df1['no_stopwords'].apply(lambda x: stemming(x))\n",
    "    return df1\n",
    "\n",
    "\n",
    "text_feature_name = 'summary'\n",
    "text_feature_df = process_text(df, text_feature_name).loc[:, [text_feature_name, 'clean_msg', 'msg_lower', 'no_numbers','tokenized', 'no_stopwords', 'msg_lemmatized', 'msg_stemmed']]\n",
    "df = df[['productid', 'helpfulnessnumerator', 'helpfulnessdenominator', 'summary','score']]\n",
    "text_feature_df.head(2)"
   ]
  },
  {
   "cell_type": "code",
   "execution_count": 14,
   "id": "gdqgyGpr0lhE",
   "metadata": {
    "colab": {
     "base_uri": "https://localhost:8080/",
     "height": 0
    },
    "id": "gdqgyGpr0lhE",
    "outputId": "19ea24a4-a0b5-48e6-92ec-a0eb0862560f"
   },
   "outputs": [
    {
     "name": "stdout",
     "output_type": "stream",
     "text": [
      "Token Length Analysis for first 3 rows\n",
      "row:  0\n",
      "Tokenized Length initially:  4\n",
      "Token Length after stopwords removal:  4\n",
      "\n",
      "row:  1\n",
      "Tokenized Length initially:  3\n",
      "Token Length after stopwords removal:  1\n",
      "\n",
      "row:  2\n",
      "Tokenized Length initially:  4\n",
      "Token Length after stopwords removal:  2\n",
      "\n",
      "average token len initially: 3.998599579873962\n",
      "average token len after stopwords removed: 2.8591577473241974\n"
     ]
    }
   ],
   "source": [
    "print('Token Length Analysis for first 3 rows')\n",
    "for i, row in text_feature_df[:3].iterrows():\n",
    "  print('row: ', i)\n",
    "  print('Tokenized Length initially: ',len(row['tokenized']))\n",
    "  print('Token Length after stopwords removal: ', len(row['no_stopwords']))\n",
    "  print()\n",
    "\n",
    "\n",
    "'''Taking the average of token length before and after removing of stopwords'''\n",
    "token_len_list = text_feature_df['tokenized'].apply(lambda x: len(x))\n",
    "token_len_list_no_stop = text_feature_df['no_stopwords'].apply(lambda x: len(x))\n",
    "\n",
    "a = (token_len_list).mean()\n",
    "b = (token_len_list_no_stop).mean()\n",
    "\n",
    "print('average token len initially: {0}\\naverage token len after stopwords removed: {1}'.format(a,b))"
   ]
  },
  {
   "cell_type": "code",
   "execution_count": 15,
   "id": "H2Oyi9m_Ch3S",
   "metadata": {
    "colab": {
     "base_uri": "https://localhost:8080/",
     "height": 0
    },
    "id": "H2Oyi9m_Ch3S",
    "outputId": "d4aae093-b3d0-4e5d-9480-467b7c93902b"
   },
   "outputs": [
    {
     "name": "stdout",
     "output_type": "stream",
     "text": [
      "\n",
      "Sparse Matrix n (9997, 4129) n [[0. 0. 0. ... 0. 0. 0.]\n",
      " [0. 0. 0. ... 0. 0. 0.]\n",
      " [0. 0. 0. ... 0. 0. 0.]\n",
      " ...\n",
      " [0. 0. 0. ... 0. 0. 0.]\n",
      " [0. 0. 0. ... 0. 0. 0.]\n",
      " [0. 0. 0. ... 0. 0. 0.]]\n"
     ]
    }
   ],
   "source": [
    "from sklearn.feature_extraction.text import TfidfVectorizer\n",
    "\n",
    "vec = TfidfVectorizer(stop_words='english')\n",
    "matrix = vec.fit_transform(text_feature_df['msg_lemmatized'].apply(lambda x: ' '.join(x)))\n",
    "print()\n",
    "print(\"Sparse Matrix n\",matrix.shape,\"n\",matrix.toarray())"
   ]
  },
  {
   "cell_type": "code",
   "execution_count": 16,
   "id": "uH93g-fSC0dq",
   "metadata": {
    "colab": {
     "base_uri": "https://localhost:8080/",
     "height": 205
    },
    "id": "uH93g-fSC0dq",
    "outputId": "5de59607-2077-4aa6-8097-999fd1700800"
   },
   "outputs": [
    {
     "data": {
      "text/html": [
       "\n",
       "  <div id=\"df-e08b61c0-6652-44e6-8f6c-6a396f503981\">\n",
       "    <div class=\"colab-df-container\">\n",
       "      <div>\n",
       "<style scoped>\n",
       "    .dataframe tbody tr th:only-of-type {\n",
       "        vertical-align: middle;\n",
       "    }\n",
       "\n",
       "    .dataframe tbody tr th {\n",
       "        vertical-align: top;\n",
       "    }\n",
       "\n",
       "    .dataframe thead th {\n",
       "        text-align: right;\n",
       "    }\n",
       "</style>\n",
       "<table border=\"1\" class=\"dataframe\">\n",
       "  <thead>\n",
       "    <tr style=\"text-align: right;\">\n",
       "      <th></th>\n",
       "      <th>word_0</th>\n",
       "      <th>word_1</th>\n",
       "      <th>word_2</th>\n",
       "      <th>word_3</th>\n",
       "      <th>word_4</th>\n",
       "      <th>word_5</th>\n",
       "      <th>word_6</th>\n",
       "      <th>word_7</th>\n",
       "      <th>word_8</th>\n",
       "      <th>word_9</th>\n",
       "      <th>...</th>\n",
       "      <th>word_4118</th>\n",
       "      <th>word_4119</th>\n",
       "      <th>word_4120</th>\n",
       "      <th>word_4121</th>\n",
       "      <th>word_4122</th>\n",
       "      <th>word_4123</th>\n",
       "      <th>word_4124</th>\n",
       "      <th>word_4125</th>\n",
       "      <th>word_4126</th>\n",
       "      <th>word_4127</th>\n",
       "    </tr>\n",
       "  </thead>\n",
       "  <tbody>\n",
       "    <tr>\n",
       "      <th>0</th>\n",
       "      <td>0.0</td>\n",
       "      <td>0.0</td>\n",
       "      <td>0.0</td>\n",
       "      <td>0.0</td>\n",
       "      <td>0.0</td>\n",
       "      <td>0.0</td>\n",
       "      <td>0.0</td>\n",
       "      <td>0.0</td>\n",
       "      <td>0.0</td>\n",
       "      <td>0.0</td>\n",
       "      <td>...</td>\n",
       "      <td>0.0</td>\n",
       "      <td>0.0</td>\n",
       "      <td>0.0</td>\n",
       "      <td>0.0</td>\n",
       "      <td>0.0</td>\n",
       "      <td>0.0</td>\n",
       "      <td>0.0</td>\n",
       "      <td>0.0</td>\n",
       "      <td>0.0</td>\n",
       "      <td>0.0</td>\n",
       "    </tr>\n",
       "    <tr>\n",
       "      <th>1</th>\n",
       "      <td>0.0</td>\n",
       "      <td>0.0</td>\n",
       "      <td>0.0</td>\n",
       "      <td>0.0</td>\n",
       "      <td>0.0</td>\n",
       "      <td>0.0</td>\n",
       "      <td>0.0</td>\n",
       "      <td>0.0</td>\n",
       "      <td>0.0</td>\n",
       "      <td>0.0</td>\n",
       "      <td>...</td>\n",
       "      <td>0.0</td>\n",
       "      <td>0.0</td>\n",
       "      <td>0.0</td>\n",
       "      <td>0.0</td>\n",
       "      <td>0.0</td>\n",
       "      <td>0.0</td>\n",
       "      <td>0.0</td>\n",
       "      <td>0.0</td>\n",
       "      <td>0.0</td>\n",
       "      <td>0.0</td>\n",
       "    </tr>\n",
       "  </tbody>\n",
       "</table>\n",
       "<p>2 rows × 4128 columns</p>\n",
       "</div>\n",
       "      <button class=\"colab-df-convert\" onclick=\"convertToInteractive('df-e08b61c0-6652-44e6-8f6c-6a396f503981')\"\n",
       "              title=\"Convert this dataframe to an interactive table.\"\n",
       "              style=\"display:none;\">\n",
       "        \n",
       "  <svg xmlns=\"http://www.w3.org/2000/svg\" height=\"24px\"viewBox=\"0 0 24 24\"\n",
       "       width=\"24px\">\n",
       "    <path d=\"M0 0h24v24H0V0z\" fill=\"none\"/>\n",
       "    <path d=\"M18.56 5.44l.94 2.06.94-2.06 2.06-.94-2.06-.94-.94-2.06-.94 2.06-2.06.94zm-11 1L8.5 8.5l.94-2.06 2.06-.94-2.06-.94L8.5 2.5l-.94 2.06-2.06.94zm10 10l.94 2.06.94-2.06 2.06-.94-2.06-.94-.94-2.06-.94 2.06-2.06.94z\"/><path d=\"M17.41 7.96l-1.37-1.37c-.4-.4-.92-.59-1.43-.59-.52 0-1.04.2-1.43.59L10.3 9.45l-7.72 7.72c-.78.78-.78 2.05 0 2.83L4 21.41c.39.39.9.59 1.41.59.51 0 1.02-.2 1.41-.59l7.78-7.78 2.81-2.81c.8-.78.8-2.07 0-2.86zM5.41 20L4 18.59l7.72-7.72 1.47 1.35L5.41 20z\"/>\n",
       "  </svg>\n",
       "      </button>\n",
       "      \n",
       "  <style>\n",
       "    .colab-df-container {\n",
       "      display:flex;\n",
       "      flex-wrap:wrap;\n",
       "      gap: 12px;\n",
       "    }\n",
       "\n",
       "    .colab-df-convert {\n",
       "      background-color: #E8F0FE;\n",
       "      border: none;\n",
       "      border-radius: 50%;\n",
       "      cursor: pointer;\n",
       "      display: none;\n",
       "      fill: #1967D2;\n",
       "      height: 32px;\n",
       "      padding: 0 0 0 0;\n",
       "      width: 32px;\n",
       "    }\n",
       "\n",
       "    .colab-df-convert:hover {\n",
       "      background-color: #E2EBFA;\n",
       "      box-shadow: 0px 1px 2px rgba(60, 64, 67, 0.3), 0px 1px 3px 1px rgba(60, 64, 67, 0.15);\n",
       "      fill: #174EA6;\n",
       "    }\n",
       "\n",
       "    [theme=dark] .colab-df-convert {\n",
       "      background-color: #3B4455;\n",
       "      fill: #D2E3FC;\n",
       "    }\n",
       "\n",
       "    [theme=dark] .colab-df-convert:hover {\n",
       "      background-color: #434B5C;\n",
       "      box-shadow: 0px 1px 3px 1px rgba(0, 0, 0, 0.15);\n",
       "      filter: drop-shadow(0px 1px 2px rgba(0, 0, 0, 0.3));\n",
       "      fill: #FFFFFF;\n",
       "    }\n",
       "  </style>\n",
       "\n",
       "      <script>\n",
       "        const buttonEl =\n",
       "          document.querySelector('#df-e08b61c0-6652-44e6-8f6c-6a396f503981 button.colab-df-convert');\n",
       "        buttonEl.style.display =\n",
       "          google.colab.kernel.accessAllowed ? 'block' : 'none';\n",
       "\n",
       "        async function convertToInteractive(key) {\n",
       "          const element = document.querySelector('#df-e08b61c0-6652-44e6-8f6c-6a396f503981');\n",
       "          const dataTable =\n",
       "            await google.colab.kernel.invokeFunction('convertToInteractive',\n",
       "                                                     [key], {});\n",
       "          if (!dataTable) return;\n",
       "\n",
       "          const docLinkHtml = 'Like what you see? Visit the ' +\n",
       "            '<a target=\"_blank\" href=https://colab.research.google.com/notebooks/data_table.ipynb>data table notebook</a>'\n",
       "            + ' to learn more about interactive tables.';\n",
       "          element.innerHTML = '';\n",
       "          dataTable['output_type'] = 'display_data';\n",
       "          await google.colab.output.renderOutput(dataTable, element);\n",
       "          const docLink = document.createElement('div');\n",
       "          docLink.innerHTML = docLinkHtml;\n",
       "          element.appendChild(docLink);\n",
       "        }\n",
       "      </script>\n",
       "    </div>\n",
       "  </div>\n",
       "  "
      ],
      "text/plain": [
       "   word_0  word_1  word_2  word_3  word_4  word_5  word_6  word_7  word_8  \\\n",
       "0     0.0     0.0     0.0     0.0     0.0     0.0     0.0     0.0     0.0   \n",
       "1     0.0     0.0     0.0     0.0     0.0     0.0     0.0     0.0     0.0   \n",
       "\n",
       "   word_9  ...  word_4118  word_4119  word_4120  word_4121  word_4122  \\\n",
       "0     0.0  ...        0.0        0.0        0.0        0.0        0.0   \n",
       "1     0.0  ...        0.0        0.0        0.0        0.0        0.0   \n",
       "\n",
       "   word_4123  word_4124  word_4125  word_4126  word_4127  \n",
       "0        0.0        0.0        0.0        0.0        0.0  \n",
       "1        0.0        0.0        0.0        0.0        0.0  \n",
       "\n",
       "[2 rows x 4128 columns]"
      ]
     },
     "execution_count": 16,
     "metadata": {},
     "output_type": "execute_result"
    }
   ],
   "source": [
    "text_matrix_df = pd.DataFrame.sparse.from_spmatrix(matrix, columns = ['word_'+str(i) for i in range(matrix.shape[1])])\n",
    "\n",
    "'''Removing one feature to avoid dummy variable trap'''\n",
    "text_matrix_df = text_matrix_df.iloc[:,:-1]\n",
    "text_matrix_df.head(2)"
   ]
  },
  {
   "cell_type": "code",
   "execution_count": 17,
   "id": "XaORb96rC0Vf",
   "metadata": {
    "colab": {
     "base_uri": "https://localhost:8080/",
     "height": 205
    },
    "id": "XaORb96rC0Vf",
    "outputId": "8767a545-1318-4816-bc9c-ae86c525b4b5"
   },
   "outputs": [
    {
     "data": {
      "text/html": [
       "\n",
       "  <div id=\"df-0597e389-fb69-4ccd-a3b9-24a6ee648622\">\n",
       "    <div class=\"colab-df-container\">\n",
       "      <div>\n",
       "<style scoped>\n",
       "    .dataframe tbody tr th:only-of-type {\n",
       "        vertical-align: middle;\n",
       "    }\n",
       "\n",
       "    .dataframe tbody tr th {\n",
       "        vertical-align: top;\n",
       "    }\n",
       "\n",
       "    .dataframe thead th {\n",
       "        text-align: right;\n",
       "    }\n",
       "</style>\n",
       "<table border=\"1\" class=\"dataframe\">\n",
       "  <thead>\n",
       "    <tr style=\"text-align: right;\">\n",
       "      <th></th>\n",
       "      <th>word_0</th>\n",
       "      <th>word_1</th>\n",
       "      <th>word_2</th>\n",
       "      <th>word_3</th>\n",
       "      <th>word_4</th>\n",
       "      <th>word_5</th>\n",
       "      <th>word_6</th>\n",
       "      <th>word_7</th>\n",
       "      <th>word_8</th>\n",
       "      <th>word_9</th>\n",
       "      <th>...</th>\n",
       "      <th>prod__B00961CUXO</th>\n",
       "      <th>prod__B0096E5196</th>\n",
       "      <th>prod__B009AVDFCK</th>\n",
       "      <th>prod__B009D668KS</th>\n",
       "      <th>prod__B009HINRX8</th>\n",
       "      <th>prod__B009UOFU20</th>\n",
       "      <th>prod__B009WSNWC4</th>\n",
       "      <th>helpfulnessnumerator</th>\n",
       "      <th>helpfulnessdenominator</th>\n",
       "      <th>score</th>\n",
       "    </tr>\n",
       "  </thead>\n",
       "  <tbody>\n",
       "    <tr>\n",
       "      <th>0</th>\n",
       "      <td>0.0</td>\n",
       "      <td>0.0</td>\n",
       "      <td>0.0</td>\n",
       "      <td>0.0</td>\n",
       "      <td>0.0</td>\n",
       "      <td>0.0</td>\n",
       "      <td>0.0</td>\n",
       "      <td>0.0</td>\n",
       "      <td>0.0</td>\n",
       "      <td>0.0</td>\n",
       "      <td>...</td>\n",
       "      <td>0.0</td>\n",
       "      <td>0.0</td>\n",
       "      <td>0.0</td>\n",
       "      <td>0.0</td>\n",
       "      <td>0.0</td>\n",
       "      <td>0.0</td>\n",
       "      <td>0.0</td>\n",
       "      <td>1.0</td>\n",
       "      <td>1.0</td>\n",
       "      <td>5.0</td>\n",
       "    </tr>\n",
       "    <tr>\n",
       "      <th>1</th>\n",
       "      <td>0.0</td>\n",
       "      <td>0.0</td>\n",
       "      <td>0.0</td>\n",
       "      <td>0.0</td>\n",
       "      <td>0.0</td>\n",
       "      <td>0.0</td>\n",
       "      <td>0.0</td>\n",
       "      <td>0.0</td>\n",
       "      <td>0.0</td>\n",
       "      <td>0.0</td>\n",
       "      <td>...</td>\n",
       "      <td>0.0</td>\n",
       "      <td>0.0</td>\n",
       "      <td>0.0</td>\n",
       "      <td>0.0</td>\n",
       "      <td>0.0</td>\n",
       "      <td>0.0</td>\n",
       "      <td>0.0</td>\n",
       "      <td>0.0</td>\n",
       "      <td>0.0</td>\n",
       "      <td>1.0</td>\n",
       "    </tr>\n",
       "  </tbody>\n",
       "</table>\n",
       "<p>2 rows × 5552 columns</p>\n",
       "</div>\n",
       "      <button class=\"colab-df-convert\" onclick=\"convertToInteractive('df-0597e389-fb69-4ccd-a3b9-24a6ee648622')\"\n",
       "              title=\"Convert this dataframe to an interactive table.\"\n",
       "              style=\"display:none;\">\n",
       "        \n",
       "  <svg xmlns=\"http://www.w3.org/2000/svg\" height=\"24px\"viewBox=\"0 0 24 24\"\n",
       "       width=\"24px\">\n",
       "    <path d=\"M0 0h24v24H0V0z\" fill=\"none\"/>\n",
       "    <path d=\"M18.56 5.44l.94 2.06.94-2.06 2.06-.94-2.06-.94-.94-2.06-.94 2.06-2.06.94zm-11 1L8.5 8.5l.94-2.06 2.06-.94-2.06-.94L8.5 2.5l-.94 2.06-2.06.94zm10 10l.94 2.06.94-2.06 2.06-.94-2.06-.94-.94-2.06-.94 2.06-2.06.94z\"/><path d=\"M17.41 7.96l-1.37-1.37c-.4-.4-.92-.59-1.43-.59-.52 0-1.04.2-1.43.59L10.3 9.45l-7.72 7.72c-.78.78-.78 2.05 0 2.83L4 21.41c.39.39.9.59 1.41.59.51 0 1.02-.2 1.41-.59l7.78-7.78 2.81-2.81c.8-.78.8-2.07 0-2.86zM5.41 20L4 18.59l7.72-7.72 1.47 1.35L5.41 20z\"/>\n",
       "  </svg>\n",
       "      </button>\n",
       "      \n",
       "  <style>\n",
       "    .colab-df-container {\n",
       "      display:flex;\n",
       "      flex-wrap:wrap;\n",
       "      gap: 12px;\n",
       "    }\n",
       "\n",
       "    .colab-df-convert {\n",
       "      background-color: #E8F0FE;\n",
       "      border: none;\n",
       "      border-radius: 50%;\n",
       "      cursor: pointer;\n",
       "      display: none;\n",
       "      fill: #1967D2;\n",
       "      height: 32px;\n",
       "      padding: 0 0 0 0;\n",
       "      width: 32px;\n",
       "    }\n",
       "\n",
       "    .colab-df-convert:hover {\n",
       "      background-color: #E2EBFA;\n",
       "      box-shadow: 0px 1px 2px rgba(60, 64, 67, 0.3), 0px 1px 3px 1px rgba(60, 64, 67, 0.15);\n",
       "      fill: #174EA6;\n",
       "    }\n",
       "\n",
       "    [theme=dark] .colab-df-convert {\n",
       "      background-color: #3B4455;\n",
       "      fill: #D2E3FC;\n",
       "    }\n",
       "\n",
       "    [theme=dark] .colab-df-convert:hover {\n",
       "      background-color: #434B5C;\n",
       "      box-shadow: 0px 1px 3px 1px rgba(0, 0, 0, 0.15);\n",
       "      filter: drop-shadow(0px 1px 2px rgba(0, 0, 0, 0.3));\n",
       "      fill: #FFFFFF;\n",
       "    }\n",
       "  </style>\n",
       "\n",
       "      <script>\n",
       "        const buttonEl =\n",
       "          document.querySelector('#df-0597e389-fb69-4ccd-a3b9-24a6ee648622 button.colab-df-convert');\n",
       "        buttonEl.style.display =\n",
       "          google.colab.kernel.accessAllowed ? 'block' : 'none';\n",
       "\n",
       "        async function convertToInteractive(key) {\n",
       "          const element = document.querySelector('#df-0597e389-fb69-4ccd-a3b9-24a6ee648622');\n",
       "          const dataTable =\n",
       "            await google.colab.kernel.invokeFunction('convertToInteractive',\n",
       "                                                     [key], {});\n",
       "          if (!dataTable) return;\n",
       "\n",
       "          const docLinkHtml = 'Like what you see? Visit the ' +\n",
       "            '<a target=\"_blank\" href=https://colab.research.google.com/notebooks/data_table.ipynb>data table notebook</a>'\n",
       "            + ' to learn more about interactive tables.';\n",
       "          element.innerHTML = '';\n",
       "          dataTable['output_type'] = 'display_data';\n",
       "          await google.colab.output.renderOutput(dataTable, element);\n",
       "          const docLink = document.createElement('div');\n",
       "          docLink.innerHTML = docLinkHtml;\n",
       "          element.appendChild(docLink);\n",
       "        }\n",
       "      </script>\n",
       "    </div>\n",
       "  </div>\n",
       "  "
      ],
      "text/plain": [
       "   word_0  word_1  word_2  word_3  word_4  word_5  word_6  word_7  word_8  \\\n",
       "0     0.0     0.0     0.0     0.0     0.0     0.0     0.0     0.0     0.0   \n",
       "1     0.0     0.0     0.0     0.0     0.0     0.0     0.0     0.0     0.0   \n",
       "\n",
       "   word_9  ...  prod__B00961CUXO  prod__B0096E5196  prod__B009AVDFCK  \\\n",
       "0     0.0  ...               0.0               0.0               0.0   \n",
       "1     0.0  ...               0.0               0.0               0.0   \n",
       "\n",
       "   prod__B009D668KS  prod__B009HINRX8  prod__B009UOFU20  prod__B009WSNWC4  \\\n",
       "0               0.0               0.0               0.0               0.0   \n",
       "1               0.0               0.0               0.0               0.0   \n",
       "\n",
       "   helpfulnessnumerator  helpfulnessdenominator  score  \n",
       "0                   1.0                     1.0    5.0  \n",
       "1                   0.0                     0.0    1.0  \n",
       "\n",
       "[2 rows x 5552 columns]"
      ]
     },
     "execution_count": 17,
     "metadata": {},
     "output_type": "execute_result"
    }
   ],
   "source": [
    "final_df = pd.concat([text_matrix_df, dummies_productid_df, df[['helpfulnessnumerator', 'helpfulnessdenominator', 'score']]], axis = 1)\n",
    "final_df.head(2)"
   ]
  },
  {
   "cell_type": "markdown",
   "id": "e3cec4fc",
   "metadata": {
    "id": "e3cec4fc"
   },
   "source": [
    "## 3.4 Report\n",
    "\n",
    "Mention and justify the method adopted \n",
    "* to remove duplicate data, if present \n",
    "* to impute or remove missing data, if present \n",
    "* to remove data inconsistencies, if present \n",
    "\n",
    "OR for textdata\n",
    "* How many tokens after step 3?\n",
    "* how may tokens after stop words filtering?\n",
    "\n",
    "If the any of the above are not present, then also add in the report below.\n",
    "\n",
    "Score: 2 Marks (based on the dataset you have, the data prepreation you had to do and report typed, marks will be distributed between 3.1, 3.2, 3.3 and 3.4)"
   ]
  },
  {
   "cell_type": "markdown",
   "id": "sqU-gtY_yGDi",
   "metadata": {
    "id": "sqU-gtY_yGDi"
   },
   "source": [
    "Justification of method adopted:\n",
    "\n",
    "\n",
    "*   Duplicate Data: Removed the duplicates if all features of two or more rows have duplicate values. The strategy used here is to keep 'First' row of every duplicate entry. We can also keep 'Last' entry as the rows are same.\n",
    "\n",
    "*   Missing Data: Since the percentage of missing values were small, we removed the rows if any feature is missing. Since we have already shortlisted important feautres, so we can't ingest data that have atleast one feature missing.\n",
    "\n",
    "For Text Data:\n",
    "\n",
    "\n",
    "*   Average Token Length Before performing Stopwords removal: 3.99\n",
    "*   Average Token Length After performing Stopwords removal: 2.85\n",
    "*   Which means on an average 'summary' column has ~1 stopword\n",
    "\n",
    "\n",
    "\n"
   ]
  },
  {
   "cell_type": "markdown",
   "id": "793cd04b",
   "metadata": {
    "id": "793cd04b"
   },
   "source": [
    "## 3.5 Identify the target variables.\n",
    "\n",
    "* Separate the data from the target such that the dataset is in the form of (X,y) or (Features, Label)\n",
    "\n",
    "* Discretize / Encode the target variable or perform one-hot encoding on the target or any other as and if required.\n",
    "\n",
    "* Report the observations\n",
    "\n",
    "Score: 1 Mark"
   ]
  },
  {
   "cell_type": "code",
   "execution_count": 18,
   "id": "c9089b57",
   "metadata": {
    "colab": {
     "base_uri": "https://localhost:8080/",
     "height": 0
    },
    "execution": {
     "iopub.status.busy": "2023-03-20T10:44:55.279220Z",
     "iopub.status.idle": "2023-03-20T10:44:55.279656Z",
     "shell.execute_reply": "2023-03-20T10:44:55.279465Z",
     "shell.execute_reply.started": "2023-03-20T10:44:55.279443Z"
    },
    "id": "c9089b57",
    "outputId": "b69b5d34-d9f2-441a-b93d-9586693218fc"
   },
   "outputs": [
    {
     "name": "stdout",
     "output_type": "stream",
     "text": [
      "(9994, 5551) (9994,)\n",
      "Observation: we have now 5551 columns, most of them are sparse\n"
     ]
    }
   ],
   "source": [
    "##---------Type the code below this line------------------##\n",
    "final_df.dropna(inplace = True)\n",
    "y = final_df.iloc[:, -1]\n",
    "X = final_df.iloc[:, :-1]\n",
    "\n",
    "print(X.shape, y.shape)\n",
    "print('Observation: we have now {0} columns, most of them are sparse'.format(X.shape[1]))"
   ]
  },
  {
   "cell_type": "markdown",
   "id": "3ae0b5d2",
   "metadata": {
    "id": "3ae0b5d2"
   },
   "source": [
    "# 4. Data Exploration using various plots\n",
    "\n"
   ]
  },
  {
   "cell_type": "markdown",
   "id": "186bf4d7",
   "metadata": {
    "id": "186bf4d7"
   },
   "source": [
    "## 4.1 Scatter plot of each quantitative attribute with the target.\n",
    "\n",
    "Score: 1 Mark"
   ]
  },
  {
   "cell_type": "code",
   "execution_count": 19,
   "id": "868d7b27",
   "metadata": {
    "colab": {
     "base_uri": "https://localhost:8080/",
     "height": 651
    },
    "execution": {
     "iopub.status.busy": "2023-03-20T10:44:55.282189Z",
     "iopub.status.idle": "2023-03-20T10:44:55.282672Z",
     "shell.execute_reply": "2023-03-20T10:44:55.282454Z",
     "shell.execute_reply.started": "2023-03-20T10:44:55.282431Z"
    },
    "id": "868d7b27",
    "outputId": "500ea828-dd74-4605-e2da-04c6ad29b947"
   },
   "outputs": [
    {
     "data": {
      "image/png": "[encoded data removed]",
      "text/plain": [
       "<Figure size 360x360 with 1 Axes>"
      ]
     },
     "metadata": {
      "needs_background": "light"
     },
     "output_type": "display_data"
    },
    {
     "data": {
      "image/png": "[encoded data removed]",
      "text/plain": [
       "<Figure size 360x360 with 1 Axes>"
      ]
     },
     "metadata": {
      "needs_background": "light"
     },
     "output_type": "display_data"
    }
   ],
   "source": [
    "##---------Type the code below this line------------------##\n",
    "\n",
    "# list of quantitative feautures\n",
    "col = ['helpfulnessnumerator', 'helpfulnessdenominator']\n",
    "for c in col:\n",
    "  plt.figure(figsize = (5,5))\n",
    "  plt.scatter(final_df[c],y)\n",
    "  plt.xlabel('c')\n",
    "  plt.ylabel('score')"
   ]
  },
  {
   "cell_type": "markdown",
   "id": "S5i_mK1OdhYm",
   "metadata": {
    "id": "S5i_mK1OdhYm"
   },
   "source": [
    "The quantitave attributes are mostly independent of the target variable."
   ]
  },
  {
   "cell_type": "markdown",
   "id": "575f9e37",
   "metadata": {
    "id": "575f9e37"
   },
   "source": [
    "## 4.2 EDA using visuals\n",
    "* Use (minimum) 2 plots (pair plot, heat map, correlation plot, regression plot...) to identify the optimal set of attributes that can be used for classification. \n",
    "* Name them, explain why you think they can be helpful in the task and perform the plot as well. Unless proper justification for the choice of plots given, no credit will be awarded.\n",
    "\n",
    "Score: 2 Marks"
   ]
  },
  {
   "cell_type": "code",
   "execution_count": 20,
   "id": "xrVbx2jT_-gO",
   "metadata": {
    "colab": {
     "base_uri": "https://localhost:8080/",
     "height": 205
    },
    "id": "xrVbx2jT_-gO",
    "outputId": "8e47dbe1-61e8-45c4-9f6a-266c39c3e6f0"
   },
   "outputs": [
    {
     "data": {
      "text/html": [
       "\n",
       "  <div id=\"df-4091b5b7-dd9a-43b5-a2b1-08f28d96c8c9\">\n",
       "    <div class=\"colab-df-container\">\n",
       "      <div>\n",
       "<style scoped>\n",
       "    .dataframe tbody tr th:only-of-type {\n",
       "        vertical-align: middle;\n",
       "    }\n",
       "\n",
       "    .dataframe tbody tr th {\n",
       "        vertical-align: top;\n",
       "    }\n",
       "\n",
       "    .dataframe thead th {\n",
       "        text-align: right;\n",
       "    }\n",
       "</style>\n",
       "<table border=\"1\" class=\"dataframe\">\n",
       "  <thead>\n",
       "    <tr style=\"text-align: right;\">\n",
       "      <th></th>\n",
       "      <th>word_0</th>\n",
       "      <th>word_1</th>\n",
       "      <th>word_2</th>\n",
       "      <th>word_3</th>\n",
       "      <th>word_4</th>\n",
       "      <th>word_5</th>\n",
       "      <th>word_6</th>\n",
       "      <th>word_7</th>\n",
       "      <th>word_8</th>\n",
       "      <th>word_9</th>\n",
       "      <th>...</th>\n",
       "      <th>prod__B00961CUXO</th>\n",
       "      <th>prod__B0096E5196</th>\n",
       "      <th>prod__B009AVDFCK</th>\n",
       "      <th>prod__B009D668KS</th>\n",
       "      <th>prod__B009HINRX8</th>\n",
       "      <th>prod__B009UOFU20</th>\n",
       "      <th>prod__B009WSNWC4</th>\n",
       "      <th>helpfulnessnumerator</th>\n",
       "      <th>helpfulnessdenominator</th>\n",
       "      <th>score</th>\n",
       "    </tr>\n",
       "  </thead>\n",
       "  <tbody>\n",
       "    <tr>\n",
       "      <th>0</th>\n",
       "      <td>0.0</td>\n",
       "      <td>0.0</td>\n",
       "      <td>0.0</td>\n",
       "      <td>0.0</td>\n",
       "      <td>0.0</td>\n",
       "      <td>0.0</td>\n",
       "      <td>0.0</td>\n",
       "      <td>0.0</td>\n",
       "      <td>0.0</td>\n",
       "      <td>0.0</td>\n",
       "      <td>...</td>\n",
       "      <td>0.0</td>\n",
       "      <td>0.0</td>\n",
       "      <td>0.0</td>\n",
       "      <td>0.0</td>\n",
       "      <td>0.0</td>\n",
       "      <td>0.0</td>\n",
       "      <td>0.0</td>\n",
       "      <td>1.0</td>\n",
       "      <td>1.0</td>\n",
       "      <td>5.0</td>\n",
       "    </tr>\n",
       "    <tr>\n",
       "      <th>1</th>\n",
       "      <td>0.0</td>\n",
       "      <td>0.0</td>\n",
       "      <td>0.0</td>\n",
       "      <td>0.0</td>\n",
       "      <td>0.0</td>\n",
       "      <td>0.0</td>\n",
       "      <td>0.0</td>\n",
       "      <td>0.0</td>\n",
       "      <td>0.0</td>\n",
       "      <td>0.0</td>\n",
       "      <td>...</td>\n",
       "      <td>0.0</td>\n",
       "      <td>0.0</td>\n",
       "      <td>0.0</td>\n",
       "      <td>0.0</td>\n",
       "      <td>0.0</td>\n",
       "      <td>0.0</td>\n",
       "      <td>0.0</td>\n",
       "      <td>0.0</td>\n",
       "      <td>0.0</td>\n",
       "      <td>1.0</td>\n",
       "    </tr>\n",
       "  </tbody>\n",
       "</table>\n",
       "<p>2 rows × 5552 columns</p>\n",
       "</div>\n",
       "      <button class=\"colab-df-convert\" onclick=\"convertToInteractive('df-4091b5b7-dd9a-43b5-a2b1-08f28d96c8c9')\"\n",
       "              title=\"Convert this dataframe to an interactive table.\"\n",
       "              style=\"display:none;\">\n",
       "        \n",
       "  <svg xmlns=\"http://www.w3.org/2000/svg\" height=\"24px\"viewBox=\"0 0 24 24\"\n",
       "       width=\"24px\">\n",
       "    <path d=\"M0 0h24v24H0V0z\" fill=\"none\"/>\n",
       "    <path d=\"M18.56 5.44l.94 2.06.94-2.06 2.06-.94-2.06-.94-.94-2.06-.94 2.06-2.06.94zm-11 1L8.5 8.5l.94-2.06 2.06-.94-2.06-.94L8.5 2.5l-.94 2.06-2.06.94zm10 10l.94 2.06.94-2.06 2.06-.94-2.06-.94-.94-2.06-.94 2.06-2.06.94z\"/><path d=\"M17.41 7.96l-1.37-1.37c-.4-.4-.92-.59-1.43-.59-.52 0-1.04.2-1.43.59L10.3 9.45l-7.72 7.72c-.78.78-.78 2.05 0 2.83L4 21.41c.39.39.9.59 1.41.59.51 0 1.02-.2 1.41-.59l7.78-7.78 2.81-2.81c.8-.78.8-2.07 0-2.86zM5.41 20L4 18.59l7.72-7.72 1.47 1.35L5.41 20z\"/>\n",
       "  </svg>\n",
       "      </button>\n",
       "      \n",
       "  <style>\n",
       "    .colab-df-container {\n",
       "      display:flex;\n",
       "      flex-wrap:wrap;\n",
       "      gap: 12px;\n",
       "    }\n",
       "\n",
       "    .colab-df-convert {\n",
       "      background-color: #E8F0FE;\n",
       "      border: none;\n",
       "      border-radius: 50%;\n",
       "      cursor: pointer;\n",
       "      display: none;\n",
       "      fill: #1967D2;\n",
       "      height: 32px;\n",
       "      padding: 0 0 0 0;\n",
       "      width: 32px;\n",
       "    }\n",
       "\n",
       "    .colab-df-convert:hover {\n",
       "      background-color: #E2EBFA;\n",
       "      box-shadow: 0px 1px 2px rgba(60, 64, 67, 0.3), 0px 1px 3px 1px rgba(60, 64, 67, 0.15);\n",
       "      fill: #174EA6;\n",
       "    }\n",
       "\n",
       "    [theme=dark] .colab-df-convert {\n",
       "      background-color: #3B4455;\n",
       "      fill: #D2E3FC;\n",
       "    }\n",
       "\n",
       "    [theme=dark] .colab-df-convert:hover {\n",
       "      background-color: #434B5C;\n",
       "      box-shadow: 0px 1px 3px 1px rgba(0, 0, 0, 0.15);\n",
       "      filter: drop-shadow(0px 1px 2px rgba(0, 0, 0, 0.3));\n",
       "      fill: #FFFFFF;\n",
       "    }\n",
       "  </style>\n",
       "\n",
       "      <script>\n",
       "        const buttonEl =\n",
       "          document.querySelector('#df-4091b5b7-dd9a-43b5-a2b1-08f28d96c8c9 button.colab-df-convert');\n",
       "        buttonEl.style.display =\n",
       "          google.colab.kernel.accessAllowed ? 'block' : 'none';\n",
       "\n",
       "        async function convertToInteractive(key) {\n",
       "          const element = document.querySelector('#df-4091b5b7-dd9a-43b5-a2b1-08f28d96c8c9');\n",
       "          const dataTable =\n",
       "            await google.colab.kernel.invokeFunction('convertToInteractive',\n",
       "                                                     [key], {});\n",
       "          if (!dataTable) return;\n",
       "\n",
       "          const docLinkHtml = 'Like what you see? Visit the ' +\n",
       "            '<a target=\"_blank\" href=https://colab.research.google.com/notebooks/data_table.ipynb>data table notebook</a>'\n",
       "            + ' to learn more about interactive tables.';\n",
       "          element.innerHTML = '';\n",
       "          dataTable['output_type'] = 'display_data';\n",
       "          await google.colab.output.renderOutput(dataTable, element);\n",
       "          const docLink = document.createElement('div');\n",
       "          docLink.innerHTML = docLinkHtml;\n",
       "          element.appendChild(docLink);\n",
       "        }\n",
       "      </script>\n",
       "    </div>\n",
       "  </div>\n",
       "  "
      ],
      "text/plain": [
       "   word_0  word_1  word_2  word_3  word_4  word_5  word_6  word_7  word_8  \\\n",
       "0     0.0     0.0     0.0     0.0     0.0     0.0     0.0     0.0     0.0   \n",
       "1     0.0     0.0     0.0     0.0     0.0     0.0     0.0     0.0     0.0   \n",
       "\n",
       "   word_9  ...  prod__B00961CUXO  prod__B0096E5196  prod__B009AVDFCK  \\\n",
       "0     0.0  ...               0.0               0.0               0.0   \n",
       "1     0.0  ...               0.0               0.0               0.0   \n",
       "\n",
       "   prod__B009D668KS  prod__B009HINRX8  prod__B009UOFU20  prod__B009WSNWC4  \\\n",
       "0               0.0               0.0               0.0               0.0   \n",
       "1               0.0               0.0               0.0               0.0   \n",
       "\n",
       "   helpfulnessnumerator  helpfulnessdenominator  score  \n",
       "0                   1.0                     1.0    5.0  \n",
       "1                   0.0                     0.0    1.0  \n",
       "\n",
       "[2 rows x 5552 columns]"
      ]
     },
     "execution_count": 20,
     "metadata": {},
     "output_type": "execute_result"
    }
   ],
   "source": [
    "final_df.head(2)"
   ]
  },
  {
   "cell_type": "markdown",
   "id": "QrVCqF1mbwnT",
   "metadata": {
    "id": "QrVCqF1mbwnT"
   },
   "source": [
    "HeatMap"
   ]
  },
  {
   "cell_type": "code",
   "execution_count": 21,
   "id": "4d614311",
   "metadata": {
    "colab": {
     "base_uri": "https://localhost:8080/",
     "height": 435
    },
    "execution": {
     "iopub.status.busy": "2023-03-20T10:44:55.284404Z",
     "iopub.status.idle": "2023-03-20T10:44:55.284874Z",
     "shell.execute_reply": "2023-03-20T10:44:55.284681Z",
     "shell.execute_reply.started": "2023-03-20T10:44:55.284652Z"
    },
    "id": "4d614311",
    "outputId": "0d9a349d-6911-4139-b675-75f585f9c7ea"
   },
   "outputs": [
    {
     "data": {
      "image/png": "[encoded data removed]",
      "text/plain": [
       "<Figure size 432x288 with 2 Axes>"
      ]
     },
     "metadata": {
      "needs_background": "light"
     },
     "output_type": "display_data"
    },
    {
     "name": "stdout",
     "output_type": "stream",
     "text": [
      "Justfication: We wanted to identify how the feautres are correlated among each other in the compact form\n",
      "Observation: The dependency of score among quantitative independent variables are less. But we see\n",
      " that there are some collinearity among the independent variables\n"
     ]
    }
   ],
   "source": [
    "##---------Type the code below this line------------------##\n",
    "\n",
    "'''\n",
    "NOTE:\n",
    "1. Please refer 'removing unimportant columns' cell where we removed 'id', 'user_id', 'profile_name' etc with justfication given\n",
    "2. Also refer cell where we have deleted 'text' feauture with given justification\n",
    "3. Plotting the plots on the base features, because of huge number of features\n",
    "'''\n",
    "\n",
    "import seaborn as sn\n",
    "  \n",
    "# plotting the heatmap\n",
    "hm = sn.heatmap(data = df.corr()) \n",
    "\n",
    "# displaying the plotted heatmap\n",
    "plt.show()\n",
    "print('Justfication: We wanted to identify how the feautres are correlated among each other in the compact form')\n",
    "print('Observation: The dependency of score among quantitative independent variables are less. But we see\\n \\\n",
    "that there are some collinearity among the independent variables')\n"
   ]
  },
  {
   "cell_type": "markdown",
   "id": "fze656mJbzcC",
   "metadata": {
    "id": "fze656mJbzcC"
   },
   "source": [
    "PairPlots"
   ]
  },
  {
   "cell_type": "code",
   "execution_count": 35,
   "id": "PVbJMQ3_-RN_",
   "metadata": {
    "colab": {
     "base_uri": "https://localhost:8080/",
     "height": 606
    },
    "id": "PVbJMQ3_-RN_",
    "outputId": "29b19042-6eb3-4c02-b940-71b20581923a"
   },
   "outputs": [
    {
     "data": {
      "image/png": "[encoded data removed]",
      "text/plain": [
       "<Figure size 540x540 with 12 Axes>"
      ]
     },
     "metadata": {
      "needs_background": "light"
     },
     "output_type": "display_data"
    },
    {
     "name": "stdout",
     "output_type": "stream",
     "text": [
      "Justification: Based on the above heatmap, we saw in magnitude the correlation. But we dont know HOW arethey being correlated. So Pair Plots would be a good choice.\n",
      "Pair Plots for analyzing the dependency among features\n"
     ]
    }
   ],
   "source": [
    "sn.pairplot(df)\n",
    "plt.show()\n",
    "print('Justification: Based on the above heatmap, \\\n",
    "we saw in magnitude the correlation. But we dont know HOW are\\\n",
    "they being correlated. So Pair Plots would be a good choice.')\n",
    "print('Pair Plots for analyzing the dependency among features')"
   ]
  },
  {
   "cell_type": "markdown",
   "id": "bdbc82a1",
   "metadata": {
    "id": "bdbc82a1"
   },
   "source": [
    "# 5. Data Wrangling\n",
    "\n"
   ]
  },
  {
   "cell_type": "markdown",
   "id": "ca214eb3",
   "metadata": {
    "id": "ca214eb3"
   },
   "source": [
    "## 5.1 Univariate Filters \n",
    "\n",
    "#### Numerical and Categorical Data\n",
    "* Identify top 5 significant features by evaluating each feature independently with respect to the target variable by exploring \n",
    "1. Mutual Information (Information Gain)\n",
    "2. Gini index\n",
    "3. Gain Ratio\n",
    "4. Chi-Squared test\n",
    "5. Fisher Score\n",
    "(From the above 5 you are required to use only any <b>two</b>) \n",
    "\n",
    "#### For Text data\n",
    "\n",
    "1. Stemming / Lemmatization.\n",
    "2. Forming n-grams and storing them in the document vector.\n",
    "3. TF-IDF\n",
    "(From the above 2 you are required to use only any <b>two</b>)\n",
    "\n",
    "\n",
    "Score: 3 Marks"
   ]
  },
  {
   "cell_type": "code",
   "execution_count": 23,
   "id": "wn8j1yWh-5d1",
   "metadata": {
    "colab": {
     "base_uri": "https://localhost:8080/",
     "height": 0
    },
    "id": "wn8j1yWh-5d1",
    "outputId": "df9bfae8-2940-466d-8962-31810c5fde4e"
   },
   "outputs": [
    {
     "name": "stdout",
     "output_type": "stream",
     "text": [
      "final_df shape: (9994, 5552)\n"
     ]
    },
    {
     "data": {
      "text/plain": [
       "((8994, 5551), (1000, 5551), (8994,), (1000,))"
      ]
     },
     "execution_count": 23,
     "metadata": {},
     "output_type": "execute_result"
    }
   ],
   "source": [
    "from sklearn.model_selection import train_test_split\n",
    " \n",
    "# split the dataset into 90-10\n",
    "X_train, X_test, y_train, y_test = train_test_split(\n",
    "    X, y, test_size=0.1, random_state=42)\n",
    "\n",
    "print('final_df shape:', final_df.shape)\n",
    "X_train.shape, X_test.shape, y_train.shape, y_test.shape"
   ]
  },
  {
   "cell_type": "markdown",
   "id": "f-lXDR8fHynY",
   "metadata": {
    "id": "f-lXDR8fHynY"
   },
   "source": [
    "Information Gain\n",
    "* It measures the reduction in uncertainty in variable A when variable B is known.\n",
    "* To select variables, we are interested in the mutual information between the predictor\n",
    "variables and the target. Higher mutual information values, indicate little uncertainty about\n",
    "the target Y given the predictor X.\n",
    "* Smaller the value of the mi, the less information we can infer from the feature about the\n",
    "target"
   ]
  },
  {
   "cell_type": "code",
   "execution_count": 24,
   "id": "a85e9754",
   "metadata": {
    "colab": {
     "base_uri": "https://localhost:8080/",
     "height": 0
    },
    "execution": {
     "iopub.status.busy": "2023-03-20T10:44:55.286601Z",
     "iopub.status.idle": "2023-03-20T10:44:55.287007Z",
     "shell.execute_reply": "2023-03-20T10:44:55.286830Z",
     "shell.execute_reply.started": "2023-03-20T10:44:55.286809Z"
    },
    "id": "a85e9754",
    "outputId": "132e4050-7b9e-4d44-b706-2acbccc2b642"
   },
   "outputs": [
    {
     "name": "stderr",
     "output_type": "stream",
     "text": [
      "/usr/local/lib/python3.9/dist-packages/sklearn/utils/validation.py:768: UserWarning: pandas.DataFrame with sparse columns found.It will be converted to a dense numpy array.\n",
      "  warnings.warn(\n"
     ]
    },
    {
     "data": {
      "text/plain": [
       "array([0.        , 0.00246003, 0.        , ..., 0.00375179, 0.        ,\n",
       "       0.02393883])"
      ]
     },
     "execution_count": 24,
     "metadata": {},
     "output_type": "execute_result"
    }
   ],
   "source": [
    "'''Note: This cell will take 5 min to run'''\n",
    "from sklearn.feature_selection import mutual_info_classif\n",
    "mi_clf = mutual_info_classif(X_train,y_train)\n",
    "mi_clf"
   ]
  },
  {
   "cell_type": "code",
   "execution_count": 25,
   "id": "FC7Wfr0VLC3t",
   "metadata": {
    "colab": {
     "base_uri": "https://localhost:8080/",
     "height": 441
    },
    "id": "FC7Wfr0VLC3t",
    "outputId": "6b033b05-cf55-46a0-8fd1-e66f3ae7e547"
   },
   "outputs": [
    {
     "data": {
      "text/plain": [
       "Text(0, 0.5, 'Mutual Information')"
      ]
     },
     "execution_count": 25,
     "metadata": {},
     "output_type": "execute_result"
    },
    {
     "data": {
      "image/png": "[encoded data removed]",
      "text/plain": [
       "<Figure size 1440x432 with 1 Axes>"
      ]
     },
     "metadata": {
      "needs_background": "light"
     },
     "output_type": "display_data"
    }
   ],
   "source": [
    "mi_clf = pd.Series(mi_clf)\n",
    "mi_clf.index = X_train.columns\n",
    "mi_clf = mi_clf.sort_values(ascending=False)\n",
    "mi_clf[:20].plot.bar(figsize=(20, 6))\n",
    "plt.ylabel('Mutual Information')"
   ]
  },
  {
   "cell_type": "code",
   "execution_count": 26,
   "id": "lifXwzHkLlAX",
   "metadata": {
    "colab": {
     "base_uri": "https://localhost:8080/",
     "height": 0
    },
    "id": "lifXwzHkLlAX",
    "outputId": "7b42e971-25b3-4191-c7f4-94802afa3b52"
   },
   "outputs": [
    {
     "name": "stdout",
     "output_type": "stream",
     "text": [
      "Top 10 Features w.r.t. Information Gain\n"
     ]
    },
    {
     "data": {
      "text/plain": [
       "Index(['helpfulnessdenominator', 'word_1952', 'prod__B001LG945O', 'word_3838',\n",
       "       'word_2821', 'word_1123', 'word_299', 'prod__B003G5CUOU',\n",
       "       'prod__B000JWEEB0', 'prod__B002979DP0'],\n",
       "      dtype='object')"
      ]
     },
     "execution_count": 26,
     "metadata": {},
     "output_type": "execute_result"
    }
   ],
   "source": [
    "print('Top 10 Features w.r.t. Information Gain')\n",
    "igf = mi_clf[:10].index\n",
    "igf"
   ]
  },
  {
   "cell_type": "markdown",
   "id": "2-xEYfvMMijc",
   "metadata": {
    "id": "2-xEYfvMMijc"
   },
   "source": [
    "Chi-Squared test\n",
    "* Compute chi-squared stats between each non-negative feature and class.\n",
    "* This score should be used to evaluate categorical variables in a classification task."
   ]
  },
  {
   "cell_type": "code",
   "execution_count": 27,
   "id": "Cw_uWptHMYUb",
   "metadata": {
    "colab": {
     "base_uri": "https://localhost:8080/",
     "height": 441
    },
    "id": "Cw_uWptHMYUb",
    "outputId": "4e997c8b-8119-490f-a939-6fcc3e3b9d67"
   },
   "outputs": [
    {
     "name": "stderr",
     "output_type": "stream",
     "text": [
      "/usr/local/lib/python3.9/dist-packages/sklearn/utils/validation.py:768: UserWarning: pandas.DataFrame with sparse columns found.It will be converted to a dense numpy array.\n",
      "  warnings.warn(\n"
     ]
    },
    {
     "data": {
      "text/plain": [
       "Text(0, 0.5, 'Chi Square')"
      ]
     },
     "execution_count": 27,
     "metadata": {},
     "output_type": "execute_result"
    },
    {
     "data": {
      "image/png": "[encoded data removed]",
      "text/plain": [
       "<Figure size 1440x432 with 1 Axes>"
      ]
     },
     "metadata": {
      "needs_background": "light"
     },
     "output_type": "display_data"
    }
   ],
   "source": [
    "from sklearn.feature_selection import chi2\n",
    "\n",
    "f_score_clf = chi2(X_train, y_train)\n",
    "pvalues = pd.Series(f_score_clf[1])\n",
    "pvalues.index = X_train.columns\n",
    "pvalues = pvalues.sort_values(ascending=False)\n",
    "pvalues[:20].plot.bar(figsize=(20, 6))\n",
    "plt.ylabel('Chi Square')"
   ]
  },
  {
   "cell_type": "code",
   "execution_count": 28,
   "id": "MlD_AEzIOGRH",
   "metadata": {
    "colab": {
     "base_uri": "https://localhost:8080/",
     "height": 0
    },
    "id": "MlD_AEzIOGRH",
    "outputId": "a25d2cd9-f5ea-4331-e543-f5da9c2c37e4"
   },
   "outputs": [
    {
     "name": "stdout",
     "output_type": "stream",
     "text": [
      "Top 10 Features w.r.t. Information Gain\n"
     ]
    },
    {
     "data": {
      "text/plain": [
       "Index(['word_1444', 'word_3680', 'word_2773', 'word_2199', 'word_958',\n",
       "       'word_3873', 'word_1534', 'word_241', 'word_2505', 'word_194'],\n",
       "      dtype='object')"
      ]
     },
     "execution_count": 28,
     "metadata": {},
     "output_type": "execute_result"
    }
   ],
   "source": [
    "print('Top 10 Features w.r.t. Information Gain')\n",
    "\n",
    "csf= pvalues[:10].index\n",
    "csf"
   ]
  },
  {
   "cell_type": "markdown",
   "id": "38031f24",
   "metadata": {
    "id": "38031f24"
   },
   "source": [
    "## 5.2 Report observations\n",
    "\n",
    "Write your observations from the results of each method. Clearly justify your choice of the method.\n",
    "\n",
    "Score 1 mark"
   ]
  },
  {
   "cell_type": "markdown",
   "id": "DsXxKeEeOiXS",
   "metadata": {
    "id": "DsXxKeEeOiXS"
   },
   "source": [
    "**Since the top 10 features from Information Gain and Chi-Squared are mostly dijoint sets, we decided to use the entire feature set. Becuase there are a lot of words dummies features that are useful instead of just 10. So, we are not going proceeding with either of these tests**"
   ]
  },
  {
   "cell_type": "code",
   "execution_count": 29,
   "id": "85c7a3a8",
   "metadata": {
    "execution": {
     "iopub.status.busy": "2023-03-20T10:44:55.289514Z",
     "iopub.status.idle": "2023-03-20T10:44:55.290050Z",
     "shell.execute_reply": "2023-03-20T10:44:55.289855Z",
     "shell.execute_reply.started": "2023-03-20T10:44:55.289830Z"
    },
    "id": "85c7a3a8"
   },
   "outputs": [],
   "source": [
    "##---------Type the code below this line------------------##"
   ]
  },
  {
   "cell_type": "markdown",
   "id": "06f1173c",
   "metadata": {
    "id": "06f1173c"
   },
   "source": [
    "# 6. Implement Machine Learning Techniques\n",
    "\n",
    "Use any 2 ML algorithms\n",
    "\n",
    "A clear justification have to be given for why a certain algorithm was chosen to address your problem.\n",
    "\n",
    "Score: 4 Marks (2 marks each for each algorithm)"
   ]
  },
  {
   "cell_type": "markdown",
   "id": "gJvBzd-iQHgS",
   "metadata": {
    "id": "gJvBzd-iQHgS"
   },
   "source": [
    "* Implementation of Scaling of Feautures into appropriate scales."
   ]
  },
  {
   "cell_type": "code",
   "execution_count": 30,
   "id": "ZcCM9pAZQEuO",
   "metadata": {
    "colab": {
     "base_uri": "https://localhost:8080/",
     "height": 0
    },
    "id": "ZcCM9pAZQEuO",
    "outputId": "7d3d8994-c821-4926-9946-757f8fc64977"
   },
   "outputs": [
    {
     "name": "stderr",
     "output_type": "stream",
     "text": [
      "/usr/local/lib/python3.9/dist-packages/sklearn/utils/validation.py:768: UserWarning: pandas.DataFrame with sparse columns found.It will be converted to a dense numpy array.\n",
      "  warnings.warn(\n",
      "/usr/local/lib/python3.9/dist-packages/sklearn/utils/validation.py:768: UserWarning: pandas.DataFrame with sparse columns found.It will be converted to a dense numpy array.\n",
      "  warnings.warn(\n",
      "/usr/local/lib/python3.9/dist-packages/sklearn/utils/validation.py:768: UserWarning: pandas.DataFrame with sparse columns found.It will be converted to a dense numpy array.\n",
      "  warnings.warn(\n"
     ]
    },
    {
     "data": {
      "text/plain": [
       "((8994, 5551), (1000, 5551))"
      ]
     },
     "execution_count": 30,
     "metadata": {},
     "output_type": "execute_result"
    }
   ],
   "source": [
    "from sklearn.preprocessing import MinMaxScaler\n",
    "  \n",
    "# scale features\n",
    "scaler = MinMaxScaler()\n",
    "X_train_scaled = scaler.fit_transform(X_train)\n",
    "X_test_scaled = scaler.transform(X_test)\n",
    "\n",
    "X_train_scaled.shape, X_test_scaled.shape"
   ]
  },
  {
   "cell_type": "markdown",
   "id": "040afed8",
   "metadata": {
    "id": "040afed8"
   },
   "source": [
    "## 6.1 ML technique 1 + Justification\n",
    "\n",
    "Justification of Random Forest Classifier:\n",
    "* Non-parametric: Random forest classifiers are non-parametric models, which means they do not assume any particular distribution of the data. Which is perfect for our use case of sparse dataset.\n",
    "\n",
    "* Robustness: Random forest classifiers are robust to noise and outliers in the data.\n",
    "\n",
    "* Feature importance: Since we have a lot of features, Random forest classifiers provide a measure of feature importance, which can be useful for feature selection and understanding the underlying relationships in the data.\n",
    "\n"
   ]
  },
  {
   "cell_type": "code",
   "execution_count": 31,
   "id": "7042235d",
   "metadata": {
    "execution": {
     "iopub.status.busy": "2023-03-20T10:44:55.291750Z",
     "iopub.status.idle": "2023-03-20T10:44:55.292158Z",
     "shell.execute_reply": "2023-03-20T10:44:55.291975Z",
     "shell.execute_reply.started": "2023-03-20T10:44:55.291953Z"
    },
    "id": "7042235d"
   },
   "outputs": [],
   "source": [
    "##---------Type the code below this line------------------##\n",
    "\n",
    "'''Selecting Random Forest Classifier and Boosting Classifier as they are good with handling \n",
    "sparse dataset and less prone overfitting'''\n",
    "\n",
    "from sklearn.ensemble import RandomForestClassifier\n",
    "\n",
    "# creating a RF classifier\n",
    "rf_clf = RandomForestClassifier(n_estimators=100)  \n",
    "  \n",
    "# Training the model on the training dataset\n",
    "# fit function is used to train the model using the training sets as parameters\n",
    "rf_clf.fit(X_train_scaled, y_train)\n",
    "  \n",
    "# performing predictions on the test dataset\n",
    "rf_y_pred = rf_clf.predict(X_test_scaled)"
   ]
  },
  {
   "cell_type": "markdown",
   "id": "f610ca8c",
   "metadata": {
    "id": "f610ca8c"
   },
   "source": [
    "## 6.2 ML technique 2 + Justification\n",
    "\n",
    "Justification of Gradient Boosting Classifier:\n",
    "* Handles imbalanced data: Since we have majority score of 5 in thed data, Gradient boosting classifiers can handle imbalanced data by assigning higher weights to the minority class samples and lower weights to the majority class samples.\n",
    "\n",
    "* Handles non-linear relationships: Since we have wide variety of features Gradient boosting classifiers can model non-linear relationships between the features and the target variable by using decision trees as weak learners"
   ]
  },
  {
   "cell_type": "code",
   "execution_count": 32,
   "id": "9b75e079",
   "metadata": {
    "execution": {
     "iopub.status.busy": "2023-03-20T10:44:55.293554Z",
     "iopub.status.idle": "2023-03-20T10:44:55.294354Z",
     "shell.execute_reply": "2023-03-20T10:44:55.294094Z",
     "shell.execute_reply.started": "2023-03-20T10:44:55.294059Z"
    },
    "id": "9b75e079"
   },
   "outputs": [],
   "source": [
    "##---------Type the code below this line------------------##\n",
    "from sklearn.ensemble import GradientBoostingClassifier\n",
    "\n",
    "# creating a GB classifier\n",
    "gb_clf = GradientBoostingClassifier()\n",
    "\n",
    "# Training the model on the training dataset\n",
    "# fit function is used to train the model using the training sets as parameters\n",
    "gb_clf.fit(X_train_scaled, y_train)\n",
    "\n",
    "# performing predictions on the test dataset\n",
    "gb_y_pred = gb_clf.predict(X_test_scaled)"
   ]
  },
  {
   "cell_type": "markdown",
   "id": "eb57940c",
   "metadata": {
    "id": "eb57940c"
   },
   "source": [
    "## 7. Conclusion \n",
    "\n",
    "Compare the performance of the ML techniques used.\n",
    "\n",
    "Derive values for preformance study metrics like accuracy, precision, recall, F1 Score, AUC-ROC etc to compare the ML algos and plot them. A proper comparision based on different metrics should be done and not just accuracy alone, only then the comparision becomes authentic. You may use Confusion matrix, classification report, Word cloud etc as per the requirement of your application/problem.\n",
    "\n",
    "Score 1 Mark"
   ]
  },
  {
   "cell_type": "code",
   "execution_count": 33,
   "id": "9bf06eb1",
   "metadata": {
    "colab": {
     "base_uri": "https://localhost:8080/",
     "height": 0
    },
    "execution": {
     "iopub.status.busy": "2023-03-20T10:44:55.295767Z",
     "iopub.status.idle": "2023-03-20T10:44:55.296204Z",
     "shell.execute_reply": "2023-03-20T10:44:55.295997Z",
     "shell.execute_reply.started": "2023-03-20T10:44:55.295975Z"
    },
    "id": "9bf06eb1",
    "outputId": "744fbc02-7cf6-4200-98e4-9fe84fe1c235"
   },
   "outputs": [
    {
     "name": "stdout",
     "output_type": "stream",
     "text": [
      "Random Forest Classifier\n",
      "              precision    recall  f1-score   support\n",
      "\n",
      "         1.0       0.38      0.27      0.32        86\n",
      "         2.0       0.25      0.05      0.08        59\n",
      "         3.0       0.48      0.11      0.18        93\n",
      "         4.0       0.31      0.07      0.12       137\n",
      "         5.0       0.67      0.94      0.78       625\n",
      "\n",
      "    accuracy                           0.63      1000\n",
      "   macro avg       0.42      0.29      0.29      1000\n",
      "weighted avg       0.55      0.63      0.55      1000\n",
      "\n",
      "\n",
      "\n",
      "Gradient Boosting Classifier\n",
      "              precision    recall  f1-score   support\n",
      "\n",
      "         1.0       0.39      0.15      0.22        86\n",
      "         2.0       0.50      0.03      0.06        59\n",
      "         3.0       0.43      0.03      0.06        93\n",
      "         4.0       0.45      0.07      0.13       137\n",
      "         5.0       0.65      0.98      0.78       625\n",
      "\n",
      "    accuracy                           0.64      1000\n",
      "   macro avg       0.49      0.25      0.25      1000\n",
      "weighted avg       0.57      0.64      0.54      1000\n",
      "\n"
     ]
    }
   ],
   "source": [
    "##---------Type the code below this line------------------##\n",
    "from sklearn.metrics import classification_report\n",
    "\n",
    "print('Random Forest Classifier')\n",
    "rf_clf_report = classification_report(y_test, rf_y_pred)\n",
    "print(rf_clf_report)\n",
    "\n",
    "print('\\n\\nGradient Boosting Classifier')\n",
    "gb_clf_report = classification_report(y_test, gb_y_pred)\n",
    "print(gb_clf_report)"
   ]
  },
  {
   "cell_type": "code",
   "execution_count": 34,
   "id": "aFRdVIqOTjJ0",
   "metadata": {
    "colab": {
     "base_uri": "https://localhost:8080/",
     "height": 531
    },
    "id": "aFRdVIqOTjJ0",
    "outputId": "63da8adc-2dc0-4677-8306-244fffc10902"
   },
   "outputs": [
    {
     "data": {
      "text/plain": [
       "<matplotlib.legend.Legend at 0x7f1284523df0>"
      ]
     },
     "execution_count": 34,
     "metadata": {},
     "output_type": "execute_result"
    },
    {
     "data": {
      "image/png": "[encoded data removed]",
      "text/plain": [
       "<Figure size 720x576 with 1 Axes>"
      ]
     },
     "metadata": {
      "needs_background": "light"
     },
     "output_type": "display_data"
    }
   ],
   "source": [
    "import matplotlib.pyplot as plt \n",
    "\n",
    "plt.figure(figsize = (10,8))\n",
    "X = ['Precision','Recall', 'F1-score']\n",
    "rf_val = [0.58, 0.65, 0.58]\n",
    "gb_val = [0.64, 0.67, 0.57]\n",
    "  \n",
    "X_axis = np.arange(len(X))\n",
    "  \n",
    "plt.bar(X_axis - 0.2, rf_val, 0.4, label = 'Random Forest')\n",
    "plt.bar(X_axis + 0.2, gb_val, 0.4, label = 'Gradient Boosting')\n",
    "  \n",
    "plt.xticks(X_axis, X)\n",
    "plt.xlabel(\"Metrix\")\n",
    "plt.ylabel(\"Values\")\n",
    "plt.title(\"Model Comparision\")\n",
    "plt.legend()\n"
   ]
  },
  {
   "cell_type": "markdown",
   "id": "SOlTBN9jURWv",
   "metadata": {
    "id": "SOlTBN9jURWv"
   },
   "source": [
    "\n",
    "* Although both the models has performed equally but Precision and Recall of **Gradient Boosting** are more w.r.t. Random Forest:\n",
    "\n",
    "* If we consider the F1 score (which is the weighted average of precision and recall), then Random Forest is performing very slightly better than Gradient Boosting.\n",
    "\n",
    "* Gradient Boosting will be our final selected model. "
   ]
  },
  {
   "cell_type": "markdown",
   "id": "79ed0137",
   "metadata": {
    "id": "79ed0137"
   },
   "source": [
    "## 8. Solution\n",
    "\n",
    "What is the solution that is proposed to solve the business problem discussed in Section 1. Also share your learnings while working through solving the problem in terms of challenges, observations, decisions made etc.\n",
    "\n",
    "Score 2 Marks"
   ]
  },
  {
   "cell_type": "markdown",
   "id": "324448eb",
   "metadata": {
    "id": "324448eb"
   },
   "source": [
    "--------------Type the answers below this line--------------\n",
    "\n",
    "To solve the problem, the solution proposed is to implement Gradient Boosting Algorithm. Thus, the gap between source data and customer satisfaction analysis to the end user can be reduced.\n",
    "\n",
    "Learnings/Challenges/Decision Made:\n",
    "\n",
    "* The dataset size was very large initially contained lakhs of rows. In order to reduce the processing time, a good sample of data has been taken.\n",
    "\n",
    "* Due to the sparse and imbalance nature of the dataset, we cannot implement any classification algorithm. So, we had to choose wisely among them.\n",
    "\n",
    "* We made a tough decision to remove time and profile_name feaures, because of the fact that we wanted the ratings to be independent of time and user. There is a chance that a particular user might be active for certain period and then he became inactive. We wanted to avoid these kind of situations.\n",
    "\n",
    "* In order to optimize the sparse matrix length, we have considered 'summary' column instead of 'text' feature. Becasue 'text' feautre will bring more words to the corpus. Creating more length of vectors. "
   ]
  },
  {
   "cell_type": "raw",
   "id": "68ab61d5",
   "metadata": {
    "id": "68ab61d5"
   },
   "source": [
    "##---------Type the answer below this line------------------##"
   ]
  },
  {
   "cell_type": "markdown",
   "id": "RcDDQlfbZQ7E",
   "metadata": {
    "id": "RcDDQlfbZQ7E"
   },
   "source": [
    "##NOTE\n",
    "All Late Submissions will incur a penalty of -2 marks. Do ensure on time submission to avoid penalty.\n",
    "\n",
    "Good Luck!!!"
   ]
  }
 ],
 "metadata": {
  "colab": {
   "provenance": []
  },
  "kernelspec": {
   "display_name": "Python 3 (ipykernel)",
   "language": "python",
   "name": "python3"
  },
  "language_info": {
   "codemirror_mode": {
    "name": "ipython",
    "version": 3
   },
   "file_extension": ".py",
   "mimetype": "text/x-python",
   "name": "python",
   "nbconvert_exporter": "python",
   "pygments_lexer": "ipython3",
   "version": "3.9.12"
  }
 },
 "nbformat": 4,
 "nbformat_minor": 5
}
