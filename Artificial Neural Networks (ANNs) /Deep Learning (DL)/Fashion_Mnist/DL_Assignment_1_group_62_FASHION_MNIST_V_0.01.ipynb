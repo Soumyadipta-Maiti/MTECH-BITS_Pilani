{
 "cells": [
  {
   "cell_type": "markdown",
   "id": "9bda93ba",
   "metadata": {
    "id": "9bda93ba"
   },
   "source": [
    "## Group No : 62\n",
    "\n",
    "## Group Member Names:\n",
    "1. Avishek Kumar (2021sc04238@wilp.bits-pilani.ac.in)\n",
    "2. Soumyadipta Maiti (2021sc04237@wilp.bits-pilani.ac.in)\n",
    "3. Kumar Sreyam Nandi (2021sc04701@wilp.bits-pilani.ac.in)\n",
    "4. Tanish Khanna (2021sc04236@wilp.bits-pilani.ac.in)"
   ]
  },
  {
   "cell_type": "markdown",
   "id": "bec56339",
   "metadata": {},
   "source": [
    "# 1. Import the required libraries"
   ]
  },
  {
   "cell_type": "code",
   "execution_count": 1,
   "id": "951854fe",
   "metadata": {},
   "outputs": [],
   "source": [
    "import numpy as np\n",
    "import pandas as pd\n",
    "from matplotlib import pyplot\n",
    "import matplotlib.pyplot as plt\n",
    "import seaborn as sns\n",
    "\n",
    "#for download & unzip of files\n",
    "import zipfile, requests\n",
    "import urllib.request\n",
    "\n",
    "#for modeling of Artificial Neural Network\n",
    "import tensorflow as tf\n",
    "from tensorflow.keras.models import Sequential\n",
    "from tensorflow.keras.layers import Dense, Activation, Dropout, Flatten\n",
    "from tensorflow.keras.optimizers import SGD, Adam, RMSprop\n",
    "from tensorflow.keras.callbacks import EarlyStopping\n",
    "from tensorflow.keras import regularizers\n",
    "from tensorflow.keras.utils import to_categorical\n",
    "\n",
    "#for cross-validation\n",
    "from sklearn.model_selection import StratifiedKFold , KFold ,RepeatedKFold, cross_val_score\n",
    "\n",
    "#for keras tuner\n",
    "import keras_tuner\n",
    "from keras_tuner.tuners import RandomSearch\n",
    "from keras_tuner.engine.hyperparameters import HyperParameters\n",
    "\n",
    "# for Evaluation of Classification\n",
    "from sklearn.metrics import classification_report, confusion_matrix\n",
    "\n",
    "import time\n",
    "import warnings\n",
    "warnings.filterwarnings(action = 'ignore')"
   ]
  },
  {
   "cell_type": "markdown",
   "id": "3cc8e0cb",
   "metadata": {
    "id": "3cc8e0cb"
   },
   "source": [
    "# 2. Data Acquisition  -- Score: 0.5 Mark\n",
    " \n",
    "For the problem identified by you, students have to find the data source themselves from any data source.\n"
   ]
  },
  {
   "cell_type": "markdown",
   "id": "e2c48d90",
   "metadata": {},
   "source": [
    "<h2>Fashion_mnist dataset</h2>"
   ]
  },
  {
   "cell_type": "markdown",
   "id": "7825a87f",
   "metadata": {},
   "source": [
    "Fashion-MNIST is a dataset of Zalando's article images consisting of a training set of 60,000 examples and a test set of 10,000 examples. Each example is a 28x28 grayscale image, associated with a label from 10 classes.\n",
    "\n",
    "More details can be found at [fashion_mnist homepage](https://www.tensorflow.org/datasets/catalog/fashion_mnist)"
   ]
  },
  {
   "cell_type": "markdown",
   "id": "e30db640",
   "metadata": {},
   "source": [
    "## 2.1 Code for converting the above downloaded data into a form suitable for DL"
   ]
  },
  {
   "cell_type": "markdown",
   "id": "f5287b59",
   "metadata": {},
   "source": [
    "Below Code will download file from requested url into specified filename. But due to huge size of file, we are disabling calling of downlaod function"
   ]
  },
  {
   "cell_type": "code",
   "execution_count": 2,
   "id": "2cd2a5c3",
   "metadata": {},
   "outputs": [],
   "source": [
    "def download(url, name):\n",
    "    r = requests.get(url, allow_redirects=True)\n",
    "    open(name,'wb').write(r.content)"
   ]
  },
  {
   "cell_type": "code",
   "execution_count": 3,
   "id": "c0bc5aae",
   "metadata": {},
   "outputs": [],
   "source": [
    "# download(url='https://www.cs.toronto.edu/%7Ekriz/cifar-10-python.tar.gz',  name='cifar-10-python.tar.gz')"
   ]
  },
  {
   "cell_type": "markdown",
   "id": "a6235a39",
   "metadata": {},
   "source": [
    "Below code will unzip .tar file. It's commented due to huge size of file. "
   ]
  },
  {
   "cell_type": "code",
   "execution_count": 4,
   "id": "7a92df85",
   "metadata": {},
   "outputs": [],
   "source": [
    "# import tarfile\n",
    "# file = tarfile.open('cifar-10-python.tar.gz')\n",
    "# file.extractall('./Destination_FolderName')\n",
    "# file.close()"
   ]
  },
  {
   "cell_type": "code",
   "execution_count": 5,
   "id": "f3135899",
   "metadata": {},
   "outputs": [],
   "source": [
    "def unpickle(filecontent):\n",
    "    import pickle\n",
    "    with open(filecontent, 'rb') as file:\n",
    "        dictionary = pickle.load(file, encoding='bytes')\n",
    "    return dictionary  "
   ]
  },
  {
   "cell_type": "code",
   "execution_count": 6,
   "id": "9d6b3b59",
   "metadata": {},
   "outputs": [],
   "source": [
    "# file = 'Destination_FolderName/cifar-10-batches-py/data_batch_1'\n",
    "# whole_file = unpickle(file)\n",
    "# print(whole_file)"
   ]
  },
  {
   "cell_type": "markdown",
   "id": "bb0e42ad",
   "metadata": {},
   "source": [
    "Alternatively, this dataset can be imported directly from TensorFlow Datasets"
   ]
  },
  {
   "cell_type": "code",
   "execution_count": 7,
   "id": "4b51d895",
   "metadata": {
    "id": "4b51d895"
   },
   "outputs": [],
   "source": [
    "from tensorflow.keras.datasets import fashion_mnist"
   ]
  },
  {
   "cell_type": "markdown",
   "id": "3cd9dc0c",
   "metadata": {},
   "source": [
    "<h3>Loading of Fashion-MNIST dataset</h3>\n",
    "\n",
    "This is a dataset of 60,000 28x28 grayscale images of 10 fashion categories,\n",
    "along with a test set of 10,000 images. This dataset can be used as\n",
    "a drop-in replacement for MNIST."
   ]
  },
  {
   "cell_type": "code",
   "execution_count": 8,
   "id": "3ab24001",
   "metadata": {},
   "outputs": [],
   "source": [
    "(x_train, y_train), (x_test, y_test) = fashion_mnist.load_data()\n",
    "\n",
    "y_train_org = y_train.copy()\n",
    "y_test_org = y_test.copy()"
   ]
  },
  {
   "cell_type": "markdown",
   "id": "90c42aa1",
   "metadata": {},
   "source": [
    "<h4> Image View from dataset </h4>"
   ]
  },
  {
   "cell_type": "code",
   "execution_count": 9,
   "id": "faeae7ac",
   "metadata": {},
   "outputs": [],
   "source": [
    "def image_view(image_row):\n",
    "    plt.figure(figsize=(4,4))\n",
    "    plt.imshow(x_train[image_row])\n",
    "    plt.show()"
   ]
  },
  {
   "cell_type": "code",
   "execution_count": 10,
   "id": "7df4404d",
   "metadata": {},
   "outputs": [
    {
     "data": {
      "image/png": "[encoded data removed]",
      "text/plain": [
       "<Figure size 288x288 with 1 Axes>"
      ]
     },
     "metadata": {
      "needs_background": "light"
     },
     "output_type": "display_data"
    }
   ],
   "source": [
    "image_view(image_row=100)"
   ]
  },
  {
   "cell_type": "code",
   "execution_count": 11,
   "id": "397a0a92",
   "metadata": {},
   "outputs": [
    {
     "data": {
      "image/png": "[encoded data removed]",
      "text/plain": [
       "<Figure size 288x288 with 1 Axes>"
      ]
     },
     "metadata": {
      "needs_background": "light"
     },
     "output_type": "display_data"
    }
   ],
   "source": [
    "image_view(image_row=40)"
   ]
  },
  {
   "cell_type": "markdown",
   "id": "5a54658b",
   "metadata": {},
   "source": [
    "<h4>ploting of first few images in grayscale</h4>"
   ]
  },
  {
   "cell_type": "code",
   "execution_count": 12,
   "id": "7034caf6",
   "metadata": {},
   "outputs": [
    {
     "data": {
      "image/png": "[encoded data removed]",
      "text/plain": [
       "<Figure size 432x288 with 9 Axes>"
      ]
     },
     "metadata": {
      "needs_background": "light"
     },
     "output_type": "display_data"
    }
   ],
   "source": [
    "for count in range(9):\n",
    " # define subplot\n",
    " pyplot.subplot(330 + 1 + count)\n",
    " # plot raw pixel data\n",
    " pyplot.imshow(x_train[count], cmap=pyplot.get_cmap('gray'))\n",
    "\n",
    "# show the figure\n",
    "pyplot.show()"
   ]
  },
  {
   "cell_type": "code",
   "execution_count": 13,
   "id": "c16f0483",
   "metadata": {},
   "outputs": [
    {
     "data": {
      "image/png": "[encoded data removed]",
      "text/plain": [
       "<Figure size 720x720 with 25 Axes>"
      ]
     },
     "metadata": {},
     "output_type": "display_data"
    }
   ],
   "source": [
    "plt.figure(figsize=(10,10))\n",
    "\n",
    "class_names = ['T-shirt/top', 'Trouser', 'Pullover', 'Dress', 'Coat',\n",
    "               'Sandal', 'Shirt', 'Sneaker', 'Bag', 'Ankle boot']\n",
    "\n",
    "\n",
    "for i in range(25):\n",
    "    plt.subplot(5,5,i+1)\n",
    "    plt.xticks([])\n",
    "    plt.yticks([])\n",
    "    plt.grid(False)\n",
    "    plt.imshow(x_train[i], cmap=plt.cm.binary)\n",
    "    plt.xlabel(class_names[y_train[i]])\n",
    "plt.show()"
   ]
  },
  {
   "cell_type": "markdown",
   "id": "812edb18",
   "metadata": {
    "id": "812edb18"
   },
   "source": [
    "## 2.1 Write your observations from the above. \n",
    "\n",
    "1. [Size of the dataset](#Size-of-Dataset)\n",
    "2. [What type of data attributes are there?](#Type-of-Data-Attributes)\n",
    "3. [What are you classifying?](#What-are-you-classifying?)\n",
    "4. [Plot the distribution of the categories of the target / label.](#Plot-Distribution-of-Categories-of-Target/Label)"
   ]
  },
  {
   "cell_type": "markdown",
   "id": "a238519a",
   "metadata": {},
   "source": [
    "<h4>Size of Dataset</h4>"
   ]
  },
  {
   "cell_type": "code",
   "execution_count": 14,
   "id": "4860c6c2",
   "metadata": {},
   "outputs": [
    {
     "name": "stdout",
     "output_type": "stream",
     "text": [
      "Size of Entire FASHION_MNIST DatatSet : 70000,(28, 28)\n",
      "Size of Training DatatSet : (60000, 28, 28)\n",
      "Size of Testing DatatSet : (10000, 28, 28)\n"
     ]
    }
   ],
   "source": [
    "print(f'Size of Entire FASHION_MNIST DatatSet : {x_train.shape[0]+x_test.shape[0]},{x_train.shape[1:]}')\n",
    "print(f'Size of Training DatatSet : {x_train.shape}')\n",
    "print(f'Size of Testing DatatSet : {x_test.shape}')"
   ]
  },
  {
   "cell_type": "markdown",
   "id": "e9738e14",
   "metadata": {},
   "source": [
    "**x_train**: uint8 NumPy array of grayscale image data with shapes\n",
    "  `(60000, 28, 28)`, containing the training data.\n",
    "\n",
    "**y_train**: uint8 NumPy array of labels (integers in range 0-9)\n",
    "  with shape `(60000,)` for the training data.\n",
    "\n",
    "**x_test**: uint8 NumPy array of grayscale image data with shapes\n",
    "  (10000, 28, 28), containing the test data.\n",
    "\n",
    "**y_test**: uint8 NumPy array of labels (integers in range 0-9)\n",
    "  with shape `(10000,)` for the test data."
   ]
  },
  {
   "cell_type": "markdown",
   "id": "ef002c8b",
   "metadata": {},
   "source": [
    "<h4>Type of Data Attributes</h4>"
   ]
  },
  {
   "cell_type": "code",
   "execution_count": 15,
   "id": "909d893d",
   "metadata": {},
   "outputs": [
    {
     "name": "stdout",
     "output_type": "stream",
     "text": [
      "Data Type of Fields : uint8\n"
     ]
    }
   ],
   "source": [
    "print(f'Data Type of Fields : {x_train.dtype}')"
   ]
  },
  {
   "cell_type": "markdown",
   "id": "aa908e7e",
   "metadata": {},
   "source": [
    "<h4>What are you classifying?</h4>"
   ]
  },
  {
   "cell_type": "code",
   "execution_count": 16,
   "id": "43c76e57",
   "metadata": {},
   "outputs": [
    {
     "name": "stdout",
     "output_type": "stream",
     "text": [
      " Unique values to be classified : [0 1 2 3 4 5 6 7 8 9]\n"
     ]
    }
   ],
   "source": [
    "print(f' Unique values to be classified : {np.unique(y_train)}')"
   ]
  },
  {
   "cell_type": "markdown",
   "id": "55617db1",
   "metadata": {},
   "source": [
    "The classes are:\n",
    "\n",
    "| Label | Description |\n",
    "|:-----:|-------------|\n",
    "|   0   | T-shirt/top |\n",
    "|   1   | Trouser     |\n",
    "|   2   | Pullover    |\n",
    "|   3   | Dress       |\n",
    "|   4   | Coat        |\n",
    "|   5   | Sandal      |\n",
    "|   6   | Shirt       |\n",
    "|   7   | Sneaker     |\n",
    "|   8   | Bag         |\n",
    "|   9   | Ankle boot  |"
   ]
  },
  {
   "cell_type": "markdown",
   "id": "d79d9e80",
   "metadata": {},
   "source": [
    "<h4>Plot Distribution of Categories of Target/Label</h4> "
   ]
  },
  {
   "cell_type": "code",
   "execution_count": 17,
   "id": "26f6d310",
   "metadata": {},
   "outputs": [],
   "source": [
    "unique_plt, count_plt = np.unique(y_train, return_counts=True)"
   ]
  },
  {
   "cell_type": "code",
   "execution_count": 18,
   "id": "669606a8",
   "metadata": {},
   "outputs": [
    {
     "data": {
      "image/png": "[encoded data removed]",
      "text/plain": [
       "<Figure size 432x288 with 1 Axes>"
      ]
     },
     "metadata": {
      "needs_background": "light"
     },
     "output_type": "display_data"
    }
   ],
   "source": [
    "plt.bar(unique_plt, count_plt)\n",
    "plt.xlabel('Unique Target Values')\n",
    "plt.ylabel('Counts')\n",
    "plt.title('Counts of Unique Target Values of Training Data')\n",
    "plt.show()"
   ]
  },
  {
   "cell_type": "markdown",
   "id": "102e0e36",
   "metadata": {
    "id": "102e0e36"
   },
   "source": [
    "# 3. Data Preparation -- Score: 1 Mark\n",
    "\n",
    "Perform the data prepracessing that is required for the data that you have downloaded. \n",
    "\n",
    "\n",
    "This stage depends on the dataset that is used. "
   ]
  },
  {
   "cell_type": "markdown",
   "id": "06fdebf8",
   "metadata": {
    "id": "06fdebf8"
   },
   "source": [
    "## 3.1 Apply pre-processing techiniques\n",
    "\n",
    "* [to remove duplicate data](#Removal-of-Duplicate-Data)\n",
    "* [to impute or remove missing data](#Imputation-or-Removal-of-Missing-Data)\n",
    "* [to remove data inconsistencies](#Removal-of-Data-Inconsistencies)\n",
    "* [Encode categorical data](#Encoding-of-Categorical-Data)\n",
    "* [Normalize the data](#Normalization-of-Data)\n",
    "* [Feature Engineering](#Feature-Engineering)\n",
    "* [Stop word removal, lemmatiation, stemming, vectorization](#Text-Preprocessing)\n",
    "\n",
    "\n",
    "IF ANY"
   ]
  },
  {
   "cell_type": "markdown",
   "id": "d05d86e5",
   "metadata": {},
   "source": [
    "<h4>Removal of Duplicate Data</h4>"
   ]
  },
  {
   "cell_type": "code",
   "execution_count": 19,
   "id": "3ddf9a91",
   "metadata": {},
   "outputs": [],
   "source": [
    "unique,count = np.unique(x_train, axis=0, return_counts=True)\n",
    "duplicate = unique[count>1]"
   ]
  },
  {
   "cell_type": "code",
   "execution_count": 20,
   "id": "b74474c2",
   "metadata": {},
   "outputs": [
    {
     "name": "stdout",
     "output_type": "stream",
     "text": [
      "Number of Duplicate Rows in Training Data : 0\n"
     ]
    }
   ],
   "source": [
    "print(f'Number of Duplicate Rows in Training Data : {duplicate.shape[0]}')"
   ]
  },
  {
   "cell_type": "markdown",
   "id": "7d9f8e02",
   "metadata": {},
   "source": [
    "<h4>Imputation or Removal of Missing Data</h4>"
   ]
  },
  {
   "cell_type": "code",
   "execution_count": 21,
   "id": "1f9fa2c8",
   "metadata": {},
   "outputs": [
    {
     "name": "stdout",
     "output_type": "stream",
     "text": [
      "Number of Missing Rows in Training Data : 0\n"
     ]
    }
   ],
   "source": [
    "print(f'Number of Missing Rows in Training Data : {np.isnan(x_train).sum()}')"
   ]
  },
  {
   "cell_type": "markdown",
   "id": "df514776",
   "metadata": {},
   "source": [
    "<h4>Removal of Data Inconsistencies</h4>"
   ]
  },
  {
   "cell_type": "code",
   "execution_count": 22,
   "id": "003088ab",
   "metadata": {},
   "outputs": [
    {
     "name": "stdout",
     "output_type": "stream",
     "text": [
      "Training Data set is having minimum value as 0 & maximum value as 255\n",
      "Testing Data set is having minimum value as 0 & maximum value as 255\n"
     ]
    }
   ],
   "source": [
    "print(f'Training Data set is having minimum value as {x_train.min()} & maximum value as {x_train.max()}')\n",
    "print(f'Testing Data set is having minimum value as {x_test.min()} & maximum value as {x_test.max()}')"
   ]
  },
  {
   "cell_type": "markdown",
   "id": "e94fce06",
   "metadata": {},
   "source": [
    "<h4>So, All values lie between 0 to 255. Hence, all values are consistent wrt this data.</h4>"
   ]
  },
  {
   "cell_type": "markdown",
   "id": "63785052",
   "metadata": {},
   "source": [
    "<h4>Encoding of Categorical Data</h4>"
   ]
  },
  {
   "cell_type": "code",
   "execution_count": 23,
   "id": "49642851",
   "metadata": {},
   "outputs": [
    {
     "name": "stdout",
     "output_type": "stream",
     "text": [
      " There is no categorical values as datatype of its values are uint8\n"
     ]
    }
   ],
   "source": [
    "print(f' There is no categorical values as datatype of its values are {x_train.dtype}')"
   ]
  },
  {
   "cell_type": "markdown",
   "id": "4cbbb3f5",
   "metadata": {},
   "source": [
    "<h4>Normalization of Data</h4>"
   ]
  },
  {
   "cell_type": "code",
   "execution_count": 24,
   "id": "767bee8f",
   "metadata": {},
   "outputs": [
    {
     "name": "stdout",
     "output_type": "stream",
     "text": [
      "Training Data set is having minimum value as 0 & maximum value as 255\n"
     ]
    }
   ],
   "source": [
    "print(f'Training Data set is having minimum value as {x_train.min()} & maximum value as {x_train.max()}')"
   ]
  },
  {
   "cell_type": "code",
   "execution_count": 25,
   "id": "67a6d096",
   "metadata": {},
   "outputs": [],
   "source": [
    "#So, we need to normalize training & test data on deviding by 255 so that all values lie between 0 & 1\n",
    "x_train = x_train/255\n",
    "x_test = x_test/255"
   ]
  },
  {
   "cell_type": "markdown",
   "id": "b070a79c",
   "metadata": {},
   "source": [
    "<h4>Feature Engineering</h4>"
   ]
  },
  {
   "cell_type": "code",
   "execution_count": 26,
   "id": "ad54df81",
   "metadata": {},
   "outputs": [],
   "source": [
    "#Reshaping Input Variables\n",
    "x_train = x_train.reshape(x_train.shape[0], x_train.shape[1], x_train.shape[2], 1)\n",
    "x_test = x_test.reshape(x_test.shape[0], x_test.shape[1], x_test.shape[2], 1)"
   ]
  },
  {
   "cell_type": "code",
   "execution_count": 27,
   "id": "e8d8e50c",
   "metadata": {},
   "outputs": [],
   "source": [
    "#conversion of input values from Integer to Float for more accuracy\n",
    "x_train = x_train.astype(float)\n",
    "x_test = x_test.astype(float)"
   ]
  },
  {
   "cell_type": "markdown",
   "id": "f2439e64",
   "metadata": {},
   "source": [
    "No extra feature Engineering is required except Normalization as mentioned above"
   ]
  },
  {
   "cell_type": "markdown",
   "id": "3ae2ae56",
   "metadata": {},
   "source": [
    "<h4>Text Preprocessing</h4>"
   ]
  },
  {
   "cell_type": "markdown",
   "id": "15a15ceb",
   "metadata": {},
   "source": [
    "Stop word removal, lemmatiation, stemming, vectorization are not Applicable as it's not a Natural language Problem"
   ]
  },
  {
   "cell_type": "code",
   "execution_count": null,
   "id": "5caa2ecb",
   "metadata": {},
   "outputs": [],
   "source": []
  },
  {
   "cell_type": "markdown",
   "id": "793cd04b",
   "metadata": {
    "id": "793cd04b"
   },
   "source": [
    "## 3.2 Identify the target variables.\n",
    "\n",
    "* [Separate the data front the target such that the dataset is in the form of (X,y) or (Features, Label)](#Separation-of-Data-for-Independent-and-Target-Variable)\n",
    "\n",
    "* [Discretize / Encode the target variable or perform one-hot encoding on the target or any other as and if required.](#One-hot-Encoding-of-Target-variable)"
   ]
  },
  {
   "cell_type": "markdown",
   "id": "97178713",
   "metadata": {},
   "source": [
    "<h4>Separation of Data for Independent and Target Variable(X,y)</h4> "
   ]
  },
  {
   "cell_type": "markdown",
   "id": "a7089f4c",
   "metadata": {},
   "source": [
    "Seperation of Data into Indepedent(x_train, x_test)  & Target Variable(y_train, y_test) is already performed previously while calling **load_data()** method as shown below:\n",
    "\n",
    "(x_train, y_train), (x_test, y_test) = fashion_mnist.load_data()"
   ]
  },
  {
   "cell_type": "code",
   "execution_count": 28,
   "id": "ce62c7ff",
   "metadata": {},
   "outputs": [
    {
     "name": "stdout",
     "output_type": "stream",
     "text": [
      "Shape of Indepedent Variables = (60000, 28, 28, 1) & Target Variable = (60000,) in Training Data\n"
     ]
    }
   ],
   "source": [
    "print(f'Shape of Indepedent Variables = {x_train.shape} & Target Variable = {y_train.shape} in Training Data')"
   ]
  },
  {
   "cell_type": "markdown",
   "id": "0551356a",
   "metadata": {},
   "source": [
    "<h4>One-hot Encoding of Target variable</h4>"
   ]
  },
  {
   "cell_type": "code",
   "execution_count": 29,
   "id": "da5748c2",
   "metadata": {},
   "outputs": [],
   "source": [
    "y_train_cat = to_categorical(y_train,num_classes=10)\n",
    "y_test_cat = to_categorical(y_test,num_classes=10)"
   ]
  },
  {
   "cell_type": "code",
   "execution_count": 30,
   "id": "28a8e82e",
   "metadata": {},
   "outputs": [
    {
     "name": "stdout",
     "output_type": "stream",
     "text": [
      "Shape of Target Variable in Training Set before & after One-hot Encoding are (60000,) & (60000, 10)\n",
      "Shape of Target Variable in Testing Set before & after One-hot Encoding are (10000,) & (10000, 10)\n"
     ]
    }
   ],
   "source": [
    "print(f'Shape of Target Variable in Training Set before & after One-hot Encoding are {y_train.shape} & {y_train_cat.shape}')\n",
    "print(f'Shape of Target Variable in Testing Set before & after One-hot Encoding are {y_test.shape} & {y_test_cat.shape}')"
   ]
  },
  {
   "cell_type": "markdown",
   "id": "4cd14601",
   "metadata": {},
   "source": [
    "## 3.3 Split the data into training set and testing set"
   ]
  },
  {
   "cell_type": "markdown",
   "id": "5f674b03",
   "metadata": {},
   "source": [
    "Split of Data into Training(x_train, y_train) & Testing Set(x_test, y_test) is already performed previously while calling **load_data()** method as shown below:\n",
    "\n",
    "(x_train, y_train), (x_test, y_test) = fashion_mnist.load_data()"
   ]
  },
  {
   "cell_type": "code",
   "execution_count": 31,
   "id": "67b01efd",
   "metadata": {},
   "outputs": [
    {
     "name": "stdout",
     "output_type": "stream",
     "text": [
      "Shape of Training Set = (60000, 28, 28, 1) & Testing Set = (10000, 28, 28, 1) for independent variables\n"
     ]
    }
   ],
   "source": [
    "print(f'Shape of Training Set = {x_train.shape} & Testing Set = {x_test.shape} for independent variables')"
   ]
  },
  {
   "cell_type": "markdown",
   "id": "e3cec4fc",
   "metadata": {
    "id": "e3cec4fc"
   },
   "source": [
    "## 3.4 Preprocessing report\n",
    "\n",
    "Mention the method adopted  and justify why the method was used\n",
    "* to remove duplicate data, if present \n",
    "* to impute or remove missing data, if present \n",
    "* to remove data inconsistencies, if present \n",
    "* to encode categorical data \n",
    "* the normalization technique used\n",
    "\n",
    "If the any of the above are not present, then also add in the report below.\n",
    "\n",
    "Report the size of the training dataset and testing dataset\n"
   ]
  },
  {
   "cell_type": "markdown",
   "id": "7763aedf",
   "metadata": {},
   "source": [
    "<h4>Methods adopted and justify why the method was used</h4>\n",
    "\n",
    "- to remove duplicate data, if present :<br>\n",
    "  **unique,count = Numpy.unique(x_train, axis=0, return_counts=True)** \n",
    "  **count** is used to return counts of all unique rows of training arrayset & then checking their counts > 1 to detect duplicacy. Above method automatically removes duplicate values & store unique values in **unique** variable.\n",
    "\n",
    "\n",
    "\n",
    "- to impute or remove missing data, if present:<br>\n",
    "  No missing values are present in this dataset.  \n",
    "\n",
    "\n",
    "- to remove data inconsistencies, if present:<br>\n",
    "  No inconsistent data are present in this dataset.\n",
    "\n",
    "\n",
    "- to encode categorical data:<br>\n",
    "  There is no categorical values as datatype of its values are uint8.<br>\n",
    "  One-hot Encoding of Target variable is performed to convert into from 1 to 10.\n",
    "\n",
    "\n",
    "\n",
    "- the normalization technique used:<br>\n",
    "  Training Data set is having minimum value as 0.0 & maximum value as 255.0. <br>\n",
    "  So, we need to normalize training & test data on deviding by 255 so that all values lie between 0 & 1\n"
   ]
  },
  {
   "cell_type": "code",
   "execution_count": null,
   "id": "ea956f4a",
   "metadata": {},
   "outputs": [],
   "source": []
  },
  {
   "cell_type": "markdown",
   "id": "3ae0b5d2",
   "metadata": {
    "id": "3ae0b5d2"
   },
   "source": [
    "# 4. Deep Neural Network Architecture - Score:  Marks\n"
   ]
  },
  {
   "cell_type": "markdown",
   "id": "186bf4d7",
   "metadata": {
    "id": "186bf4d7"
   },
   "source": [
    "## 4.1 Design the architecture that you will be using\n",
    "\n",
    "* [Sequential Model Building with Activation for each layer.](#Sequential-Model-Building-with-Activation-Function)\n",
    "* [Add dense layers, specifying the number of units in each layer and the activation function used in the layer.](#Configuration-of-Each-Layer-(no-of-units,-activation-function,-etc))\n",
    "* [Use Relu Activation function in each hidden layer](#Configuration-of-Each-Layer-(no-of-units,-activation-function,-etc))\n",
    "* [Use Sigmoid / softmax Activation function in the output layer as required](#Configuration-of-Each-Layer-(no-of-units,-activation-function,-etc))\n",
    "\n",
    "DO NOT USE CNN OR RNN. "
   ]
  },
  {
   "cell_type": "markdown",
   "id": "0e7a9cfc",
   "metadata": {},
   "source": [
    "<h1> Modeling using Artificial neural Network (ANN) </h1>\n",
    "\n",
    "Although this Computer Vision problem could be solved preferebly using Convolution Neural Network (CNN), we could not use it as mentioned in problem statement "
   ]
  },
  {
   "cell_type": "markdown",
   "id": "d5a3ce81",
   "metadata": {},
   "source": [
    "<h3>Creation of ANN Model</h3>"
   ]
  },
  {
   "cell_type": "markdown",
   "id": "7c186cfe",
   "metadata": {},
   "source": [
    "<h4>Sequential Model Building with Activation Function</h4>"
   ]
  },
  {
   "cell_type": "markdown",
   "id": "37bd1088",
   "metadata": {},
   "source": [
    "<h4>Configuration of Each Layer (no of units, activation function, etc)</h4>"
   ]
  },
  {
   "cell_type": "code",
   "execution_count": 32,
   "id": "728e670b",
   "metadata": {},
   "outputs": [],
   "source": [
    "def ANN_Creation(x_train, y_train_cat, no_hidden_layer=5, kernel_regularizer=0.01, bias_regularizer=0.01, \n",
    "                 activity_regularizer=0.01,dropout_rate=0.2):\n",
    "    \n",
    "    model_ann = Sequential()\n",
    "    \n",
    "    #Input layer\n",
    "    model_ann.add(Flatten(input_shape=(x_train.shape[1], x_train.shape[2], x_train.shape[3])))\n",
    "    model_ann.add(Dropout(dropout_rate))\n",
    "    \n",
    "    for count in range(no_hidden_layer, 0, -1):\n",
    "        \n",
    "        #Hidden Layer i\n",
    "        model_ann.add(Dense(units=count*32, activation='relu', kernel_regularizer=regularizers.l2(kernel_regularizer), \n",
    "                            bias_regularizer=regularizers.l2(bias_regularizer), \n",
    "                            activity_regularizer=regularizers.l2(activity_regularizer)))\n",
    "        \n",
    "        model_ann.add(Dropout(dropout_rate))\n",
    "\n",
    "    #Output Layer\n",
    "    model_ann.add(Dense(units=y_train_cat.shape[1], activation='softmax'))\n",
    "    return model_ann"
   ]
  },
  {
   "cell_type": "code",
   "execution_count": 33,
   "id": "6c94ba33",
   "metadata": {},
   "outputs": [],
   "source": [
    "model_ann = ANN_Creation(x_train=x_train, y_train_cat=y_train_cat, no_hidden_layer=5, dropout_rate=0.0)"
   ]
  },
  {
   "cell_type": "markdown",
   "id": "575f9e37",
   "metadata": {
    "id": "575f9e37"
   },
   "source": [
    "## 4.2 DNN Report\n",
    "\n",
    "Report the following and provide justification for the same.\n",
    "\n",
    "\n",
    "\n",
    "* [Number of layers](#Summary-of-Model)\n",
    "* [Number of units in each layer](#Summary-of-Model)\n",
    "* [Total number of trainable parameters](#Summary-of-Model)"
   ]
  },
  {
   "cell_type": "code",
   "execution_count": 34,
   "id": "517628f0",
   "metadata": {},
   "outputs": [
    {
     "name": "stdout",
     "output_type": "stream",
     "text": [
      "Model: \"sequential\"\n",
      "_________________________________________________________________\n",
      " Layer (type)                Output Shape              Param #   \n",
      "=================================================================\n",
      " flatten (Flatten)           (None, 784)               0         \n",
      "                                                                 \n",
      " dropout (Dropout)           (None, 784)               0         \n",
      "                                                                 \n",
      " dense (Dense)               (None, 160)               125600    \n",
      "                                                                 \n",
      " dropout_1 (Dropout)         (None, 160)               0         \n",
      "                                                                 \n",
      " dense_1 (Dense)             (None, 128)               20608     \n",
      "                                                                 \n",
      " dropout_2 (Dropout)         (None, 128)               0         \n",
      "                                                                 \n",
      " dense_2 (Dense)             (None, 96)                12384     \n",
      "                                                                 \n",
      " dropout_3 (Dropout)         (None, 96)                0         \n",
      "                                                                 \n",
      " dense_3 (Dense)             (None, 64)                6208      \n",
      "                                                                 \n",
      " dropout_4 (Dropout)         (None, 64)                0         \n",
      "                                                                 \n",
      " dense_4 (Dense)             (None, 32)                2080      \n",
      "                                                                 \n",
      " dropout_5 (Dropout)         (None, 32)                0         \n",
      "                                                                 \n",
      " dense_5 (Dense)             (None, 10)                330       \n",
      "                                                                 \n",
      "=================================================================\n",
      "Total params: 167,210\n",
      "Trainable params: 167,210\n",
      "Non-trainable params: 0\n",
      "_________________________________________________________________\n"
     ]
    }
   ],
   "source": [
    "model_ann.summary()"
   ]
  },
  {
   "cell_type": "markdown",
   "id": "b67cf1fb",
   "metadata": {},
   "source": [
    "<h4>Summary of Model</h4>\n",
    "\n",
    "- Number of layers:<br>\n",
    "  As it's a Deep Learning Model, we need to set minimum total no of Layers = 4 having 3 hidden layers & one output Layer. Input Layer is not considered while calculating total no of Layers of any Neural Network. Will keep on increasing hidden layer to check its performance.\n",
    " \n",
    " \n",
    "- Number of units in each layer:<br>\n",
    "  We keep this as multiple of 32. e.g.--> If total no of hidden layers are 5, then 1-st till 5-th hidden layers are having number of units/neurons as n * 32 in decreasing order so that they are 160(=5*32), 128(=4*32), 96(=3*32), 64(=5*32) & 32(=1*32) respectively.<br>\n",
    "  \n",
    "  No. of units of First Layer = Flattening of Input Demensions of Training Set = 28*28 = 784 <br>\n",
    "  No. of units of Output Layer = Number of Classes of Multi-Class Target variable = 10\n",
    "  \n",
    "  \n",
    "  \n",
    "- Total number of trainable parameters:<br>\n",
    "  It's 167,210 (summing 0, 125600, 20608, 12384, 6208, 2080 & 330 respectively starting from input till output layer). \n",
    "  "
   ]
  },
  {
   "cell_type": "code",
   "execution_count": null,
   "id": "d27c79d2",
   "metadata": {},
   "outputs": [],
   "source": []
  },
  {
   "cell_type": "markdown",
   "id": "bdbc82a1",
   "metadata": {
    "id": "bdbc82a1"
   },
   "source": [
    "# 5. Training the model - Score: 1 Mark\n"
   ]
  },
  {
   "cell_type": "markdown",
   "id": "ca214eb3",
   "metadata": {
    "id": "ca214eb3"
   },
   "source": [
    "## 5.1 Configure the training\n",
    "\n",
    "Configure  the model for training, by using appropriate [optimizers](#Optimizer) and [regularizations](#Regularization)\n",
    "\n",
    "[Compile with categorical CE loss and metric accuracy.](#Compilation-of-ANN)"
   ]
  },
  {
   "cell_type": "markdown",
   "id": "40aa8818",
   "metadata": {},
   "source": [
    "<h4>Optimizer</h4>\n",
    "\n",
    "- Optimizers are algorithms or methods used to change attributes (such as weights, learning rate, momentum) of neural network in order to reduce losses."
   ]
  },
  {
   "cell_type": "code",
   "execution_count": 35,
   "id": "c638bee0",
   "metadata": {},
   "outputs": [],
   "source": [
    "adam = Adam(learning_rate=0.001, beta_1=0.9, beta_2=0.999, epsilon=1e-07, amsgrad=False,)"
   ]
  },
  {
   "cell_type": "markdown",
   "id": "42e19d0f",
   "metadata": {},
   "source": [
    "<h4>Regularization</h4>\n",
    "\n",
    "It's used to prevent overfitting and improve the generalization performance of a model. It involves adding a penalty term to the loss function during training. Regularization methods include L1 and L2 regularization, dropout, early stopping, and more."
   ]
  },
  {
   "cell_type": "markdown",
   "id": "eb578785",
   "metadata": {},
   "source": [
    "<h4>Compilation of ANN</h4>\n",
    "\n",
    "- loss='categorical_crossentropy' is used for calcuation of loss for multi-class categorical variable <br>\n",
    "- metrics: List of metrics('accuracy', 'mse') to be evaluated by the model during training & testing. 'accuracy' is used here."
   ]
  },
  {
   "cell_type": "code",
   "execution_count": 36,
   "id": "754f2b5c",
   "metadata": {},
   "outputs": [],
   "source": [
    "model_ann.compile(optimizer='adam',\n",
    "                  loss='categorical_crossentropy', \n",
    "                  metrics=['accuracy'])"
   ]
  },
  {
   "cell_type": "markdown",
   "id": "3193dad0",
   "metadata": {},
   "source": [
    "<h4>Training of simple ANN Model as defined in section 4.1</h4>"
   ]
  },
  {
   "cell_type": "code",
   "execution_count": 37,
   "id": "5e9628c0",
   "metadata": {},
   "outputs": [],
   "source": [
    "early_stop = EarlyStopping(monitor='val_loss', patience=3)"
   ]
  },
  {
   "cell_type": "code",
   "execution_count": 38,
   "id": "f5ff5746",
   "metadata": {},
   "outputs": [
    {
     "name": "stdout",
     "output_type": "stream",
     "text": [
      "(60000, 28, 28, 1) ; (60000, 10) :: (10000, 28, 28, 1); (10000, 10)\n"
     ]
    }
   ],
   "source": [
    "print(f'{x_train.shape} ; {y_train_cat.shape} :: {x_test.shape}; {y_test_cat.shape}')"
   ]
  },
  {
   "cell_type": "code",
   "execution_count": 39,
   "id": "316d590f",
   "metadata": {},
   "outputs": [
    {
     "name": "stdout",
     "output_type": "stream",
     "text": [
      "Epoch 1/100\n",
      "300/300 - 5s - loss: 2.6184 - accuracy: 0.5538 - val_loss: 1.3154 - val_accuracy: 0.7754 - 5s/epoch - 18ms/step\n",
      "Epoch 2/100\n",
      "300/300 - 2s - loss: 1.1790 - accuracy: 0.7992 - val_loss: 1.1031 - val_accuracy: 0.8129 - 2s/epoch - 6ms/step\n",
      "Epoch 3/100\n",
      "300/300 - 2s - loss: 1.0438 - accuracy: 0.8275 - val_loss: 1.0343 - val_accuracy: 0.8217 - 2s/epoch - 7ms/step\n",
      "Epoch 4/100\n",
      "300/300 - 2s - loss: 0.9699 - accuracy: 0.8377 - val_loss: 0.9660 - val_accuracy: 0.8300 - 2s/epoch - 8ms/step\n",
      "Epoch 5/100\n",
      "300/300 - 2s - loss: 0.9205 - accuracy: 0.8440 - val_loss: 0.9316 - val_accuracy: 0.8262 - 2s/epoch - 8ms/step\n",
      "Epoch 6/100\n",
      "300/300 - 2s - loss: 0.8852 - accuracy: 0.8465 - val_loss: 0.8996 - val_accuracy: 0.8345 - 2s/epoch - 8ms/step\n",
      "Epoch 7/100\n",
      "300/300 - 1s - loss: 0.8527 - accuracy: 0.8507 - val_loss: 0.8766 - val_accuracy: 0.8388 - 1s/epoch - 4ms/step\n",
      "Epoch 8/100\n",
      "300/300 - 1s - loss: 0.8322 - accuracy: 0.8513 - val_loss: 0.8452 - val_accuracy: 0.8389 - 1s/epoch - 5ms/step\n",
      "Epoch 9/100\n",
      "300/300 - 1s - loss: 0.8174 - accuracy: 0.8504 - val_loss: 0.8409 - val_accuracy: 0.8359 - 1s/epoch - 5ms/step\n",
      "Epoch 10/100\n",
      "300/300 - 1s - loss: 0.7981 - accuracy: 0.8546 - val_loss: 0.8267 - val_accuracy: 0.8383 - 1s/epoch - 4ms/step\n",
      "Epoch 11/100\n",
      "300/300 - 1s - loss: 0.7847 - accuracy: 0.8546 - val_loss: 0.8032 - val_accuracy: 0.8446 - 1s/epoch - 4ms/step\n",
      "Epoch 12/100\n",
      "300/300 - 1s - loss: 0.7731 - accuracy: 0.8541 - val_loss: 0.8037 - val_accuracy: 0.8408 - 1s/epoch - 5ms/step\n",
      "Epoch 13/100\n",
      "300/300 - 2s - loss: 0.7586 - accuracy: 0.8592 - val_loss: 0.7835 - val_accuracy: 0.8448 - 2s/epoch - 6ms/step\n",
      "Epoch 14/100\n",
      "300/300 - 2s - loss: 0.7461 - accuracy: 0.8575 - val_loss: 0.8158 - val_accuracy: 0.8298 - 2s/epoch - 8ms/step\n",
      "Epoch 15/100\n",
      "300/300 - 2s - loss: 0.7458 - accuracy: 0.8566 - val_loss: 0.7788 - val_accuracy: 0.8409 - 2s/epoch - 7ms/step\n",
      "Epoch 16/100\n",
      "300/300 - 2s - loss: 0.7376 - accuracy: 0.8559 - val_loss: 0.7623 - val_accuracy: 0.8445 - 2s/epoch - 6ms/step\n",
      "Epoch 17/100\n",
      "300/300 - 2s - loss: 0.7248 - accuracy: 0.8608 - val_loss: 0.7608 - val_accuracy: 0.8454 - 2s/epoch - 7ms/step\n",
      "Epoch 18/100\n",
      "300/300 - 2s - loss: 0.7159 - accuracy: 0.8615 - val_loss: 0.7420 - val_accuracy: 0.8462 - 2s/epoch - 6ms/step\n",
      "Epoch 19/100\n",
      "300/300 - 2s - loss: 0.7094 - accuracy: 0.8628 - val_loss: 0.7461 - val_accuracy: 0.8500 - 2s/epoch - 6ms/step\n",
      "Epoch 20/100\n",
      "300/300 - 1s - loss: 0.7078 - accuracy: 0.8601 - val_loss: 0.7663 - val_accuracy: 0.8339 - 1s/epoch - 4ms/step\n",
      "Epoch 21/100\n",
      "300/300 - 1s - loss: 0.7006 - accuracy: 0.8616 - val_loss: 0.7493 - val_accuracy: 0.8415 - 1s/epoch - 5ms/step\n"
     ]
    },
    {
     "data": {
      "text/plain": [
       "<keras.callbacks.History at 0x23055330490>"
      ]
     },
     "execution_count": 39,
     "metadata": {},
     "output_type": "execute_result"
    }
   ],
   "source": [
    "model_ann.fit(x=x_train, \n",
    "              y=y_train_cat,\n",
    "              epochs=100, \n",
    "              batch_size=200,\n",
    "              validation_data=(x_test, y_test_cat), \n",
    "              verbose=2, \n",
    "              callbacks=[early_stop]\n",
    "             )"
   ]
  },
  {
   "cell_type": "code",
   "execution_count": 40,
   "id": "8581a6c1",
   "metadata": {},
   "outputs": [],
   "source": [
    "loss = pd.DataFrame(model_ann.history.history)"
   ]
  },
  {
   "cell_type": "markdown",
   "id": "32fd60d8",
   "metadata": {},
   "source": [
    "## 5.2 Train the model\n",
    "\n",
    "[Train Model with cross validation, with total time taken shown for 20 epochs.](#ANN-Model-Training-with-Cross-Validation)\n",
    "\n",
    "[Use SGD.](#Training-ANN-with-SGD-along-Cross-Validation)"
   ]
  },
  {
   "cell_type": "markdown",
   "id": "6eff7bd1",
   "metadata": {},
   "source": [
    "<h4>ANN Model Training with Cross Validation</h4>"
   ]
  },
  {
   "cell_type": "code",
   "execution_count": 41,
   "id": "1c08e923",
   "metadata": {},
   "outputs": [],
   "source": [
    "# Average loss and Accuracy Measures for Cross-Validation\n",
    "def average_loss_accuracy(losses, accuracies, val_losses, val_accuracies):\n",
    "    \n",
    "    ls_im = pd.DataFrame(losses)\n",
    "    ls_im = ls_im.transpose()\n",
    "    ls_im = ls_im.mean(axis=1)\n",
    "    \n",
    "    ac_im = pd.DataFrame(accuracies)\n",
    "    ac_im = ac_im.transpose()\n",
    "    ac_im = ac_im.mean(axis=1)\n",
    "    \n",
    "    val_ls_im = pd.DataFrame(val_losses)\n",
    "    val_ls_im = val_ls_im.transpose()\n",
    "    val_ls_im = val_ls_im.mean(axis=1)\n",
    "    \n",
    "    val_ac_im = pd.DataFrame(val_accuracies)\n",
    "    val_ac_im = val_ac_im.transpose()\n",
    "    val_ac_im = val_ac_im.mean(axis=1)\n",
    "    \n",
    "    loss_im = {'loss': ls_im, 'accuracy': ac_im, 'val_loss': val_ls_im, 'val_accuracy': val_ac_im}\n",
    "    loss_cv = pd.DataFrame(data=loss_im)\n",
    "    return loss_cv"
   ]
  },
  {
   "cell_type": "code",
   "execution_count": 42,
   "id": "13899dc8",
   "metadata": {},
   "outputs": [],
   "source": [
    "def ann_with_cross_val(x_train, y_train, no_hiddenlayer=5, dropout_rate=0.2, k_fold=5, optimizers ='adam', \n",
    "                       loss_val='categorical_crossentropy', metrics_val='accuracy', display_time = 'X'):\n",
    "\n",
    "    \n",
    "    # Create the model\n",
    "    model_ann_kfold = ANN_Creation(x_train=x_train, y_train_cat=to_categorical(y_train, num_classes=10), \n",
    "                                   no_hidden_layer=no_hiddenlayer, dropout_rate=dropout_rate)\n",
    "    \n",
    "    model_ann_kfold.compile(optimizer= optimizers,\n",
    "                      loss=loss_val, \n",
    "                      metrics=[metrics_val])\n",
    "\n",
    "    \n",
    "    k_folds = k_fold\n",
    "    # Initialize the StratifiedKFold object\n",
    "    skf = StratifiedKFold(n_splits=k_folds, shuffle=True, random_state=42)\n",
    "\n",
    "\n",
    "    total_time = 0\n",
    "    losses = []\n",
    "    accuracies = []\n",
    "    val_losses = []\n",
    "    val_accuracies = []\n",
    "\n",
    "    # Iterate over the folds\n",
    "    for fold, (trn_index, val_index) in enumerate(skf.split(X=x_train, y=y_train)):\n",
    "#         print(f'Fold {fold+1}')\n",
    "\n",
    "        # Split the data into training and validation sets\n",
    "        x_trn, x_val = x_train[trn_index], x_train[val_index]\n",
    "        y_trn, y_val = y_train[trn_index], y_train[val_index]\n",
    "\n",
    "        # Convert y-labels to one-hot encoded vectors\n",
    "        y_trn = to_categorical(y_trn, num_classes=10)\n",
    "        y_val = to_categorical(y_val, num_classes=10)\n",
    "\n",
    "\n",
    "        # Train the model on this fold and measure the time taken\n",
    "        start_time = time.time()\n",
    "\n",
    "        early_stop = EarlyStopping(monitor='val_loss', patience=3)\n",
    "\n",
    "        model_ann_kfold.fit(x=x_trn, \n",
    "                  y=y_trn,\n",
    "                  epochs=20, \n",
    "                  batch_size=32,\n",
    "                  validation_data=(x_val, y_val), \n",
    "                  verbose=0,\n",
    "                  callbacks=[early_stop]\n",
    "                 )\n",
    "        \n",
    "        if display_time == 'X':\n",
    "            print(f'Fold {fold+1}')\n",
    "            end_time = time.time()\n",
    "            fold_time = end_time - start_time\n",
    "            total_time += fold_time\n",
    "            print(f\"Time taken for this fold: {fold_time} seconds\")\n",
    "\n",
    "        # Collect loss and accuracy measures\n",
    "        fold_loss = model_ann_kfold.history.history['loss']\n",
    "        fold_accuracy = model_ann_kfold.history.history['accuracy']\n",
    "        fold_val_loss = model_ann_kfold.history.history['val_loss']\n",
    "        fold_val_accuracy = model_ann_kfold.history.history['val_accuracy']\n",
    "        losses.append(fold_loss)\n",
    "        accuracies.append(fold_accuracy)\n",
    "        val_losses.append(fold_val_loss)\n",
    "        val_accuracies.append(fold_val_accuracy)\n",
    "\n",
    "    \n",
    "    loss_cv = average_loss_accuracy(losses, accuracies, val_losses, val_accuracies)\n",
    "    \n",
    "    if display_time == 'X':\n",
    "        print(f\"Total time taken for training across all folds: {total_time} seconds\")\n",
    "        \n",
    "    return model_ann_kfold, loss_cv"
   ]
  },
  {
   "cell_type": "markdown",
   "id": "2c109081",
   "metadata": {},
   "source": [
    "<h4>Training ANN with SGD along Cross-Validation</h4>"
   ]
  },
  {
   "cell_type": "code",
   "execution_count": 43,
   "id": "0714cf1b",
   "metadata": {},
   "outputs": [
    {
     "name": "stdout",
     "output_type": "stream",
     "text": [
      "Fold 1\n",
      "Time taken for this fold: 93.66782522201538 seconds\n",
      "Fold 2\n",
      "Time taken for this fold: 18.79462242126465 seconds\n",
      "Fold 3\n",
      "Time taken for this fold: 20.928367853164673 seconds\n",
      "Fold 4\n",
      "Time taken for this fold: 34.165316581726074 seconds\n",
      "Fold 5\n",
      "Time taken for this fold: 29.61557650566101 seconds\n",
      "Total time taken for training across all folds: 197.1717085838318 seconds\n"
     ]
    }
   ],
   "source": [
    "model_ann_sgd, loss_cv_sgd = ann_with_cross_val(x_train, y_train, no_hiddenlayer=5, \n",
    "                                                dropout_rate=0.0, k_fold=5, optimizers ='sgd', \n",
    "                                 loss_val='categorical_crossentropy', metrics_val='accuracy', display_time = 'X')"
   ]
  },
  {
   "cell_type": "code",
   "execution_count": 44,
   "id": "e2450f9d",
   "metadata": {},
   "outputs": [
    {
     "name": "stdout",
     "output_type": "stream",
     "text": [
      "['loss', 'accuracy']\n",
      "[0.8517338037490845, 0.8450000286102295]\n"
     ]
    }
   ],
   "source": [
    "#Testing with above model\n",
    "print(model_ann_sgd.metrics_names)\n",
    "print(model_ann_sgd.evaluate(x=x_test, y=y_test_cat, verbose = 0))"
   ]
  },
  {
   "cell_type": "code",
   "execution_count": null,
   "id": "cc02a314",
   "metadata": {},
   "outputs": [],
   "source": []
  },
  {
   "cell_type": "markdown",
   "id": "19bd0c56",
   "metadata": {},
   "source": [
    "Justify your choice of optimizers and regulizations used and the hyperparameters tuned\n"
   ]
  },
  {
   "cell_type": "markdown",
   "id": "a33b90e4",
   "metadata": {},
   "source": [
    "<h4>Optimizer</h4>\n",
    "\n",
    "- Among all optimizers, ADAM, RMSprop & SGD are widely used. Out of them, ADAM is best optimizer it trains in less time and more efficiently."
   ]
  },
  {
   "cell_type": "markdown",
   "id": "b6b80c7a",
   "metadata": {},
   "source": [
    "<h4>Regularization</h4>\n",
    "\n",
    "**L2 Regularization** can be applied to Dense layers.<br>\n",
    "\n",
    "At every iteration, **Dropout** randomly selects some nodes and removes them along with all of their incoming and outgoing connections.<br>\n",
    "\n",
    "**Early Stopping** is a kind of cross-validation strategy where we keep one part of the training set as the validation set. When we see that performance on validation set is getting worse, we immediately stop training on the model. "
   ]
  },
  {
   "cell_type": "markdown",
   "id": "6a3da785",
   "metadata": {},
   "source": [
    "<h4>Other Hyperparameters</h4>\n",
    "\n",
    "- loss='categorical_crossentropy' is used for calcuation of loss for multi-class categorical variable <br>\n",
    "\n",
    "- metrics: List of metrics('accuracy', 'mse') to be evaluated by the model during training & testing. 'accuracy' is used here."
   ]
  },
  {
   "cell_type": "markdown",
   "id": "06f1173c",
   "metadata": {
    "id": "06f1173c"
   },
   "source": [
    "# 6. Test the model - 0.5 marks\n"
   ]
  },
  {
   "cell_type": "markdown",
   "id": "d28e83c7",
   "metadata": {},
   "source": [
    "Prediction of Test Image[15] by ANN Model (model_ann) as defined in section 4.2"
   ]
  },
  {
   "cell_type": "code",
   "execution_count": 45,
   "id": "7042235d",
   "metadata": {
    "id": "7042235d"
   },
   "outputs": [
    {
     "data": {
      "image/png": "[encoded data removed]",
      "text/plain": [
       "<Figure size 432x288 with 1 Axes>"
      ]
     },
     "metadata": {
      "needs_background": "light"
     },
     "output_type": "display_data"
    }
   ],
   "source": [
    "test_image = x_test[30]\n",
    "plt.imshow(test_image)\n",
    "plt.show()"
   ]
  },
  {
   "cell_type": "code",
   "execution_count": 46,
   "id": "d0899e6c",
   "metadata": {},
   "outputs": [
    {
     "name": "stdout",
     "output_type": "stream",
     "text": [
      "1/1 [==============================] - 0s 309ms/step\n",
      "Predicted Value for above Image is 8 & it is image of Bag\n"
     ]
    }
   ],
   "source": [
    "test_image_pred = model_ann.predict(test_image.reshape(1,28,28,1))\n",
    "test_image_pred = np.argmax(test_image_pred, axis=1)\n",
    "\n",
    "print(f'Predicted Value for above Image is {test_image_pred[0]} & it is image of {class_names[test_image_pred[0]]}')"
   ]
  },
  {
   "cell_type": "code",
   "execution_count": null,
   "id": "3ea909ff",
   "metadata": {},
   "outputs": [],
   "source": []
  },
  {
   "cell_type": "markdown",
   "id": "eb57940c",
   "metadata": {
    "id": "eb57940c"
   },
   "source": [
    "# 7. Intermediate result  - Score: 1 mark\n",
    "\n",
    "1. [Plot the training and validation accuracy history.](#Plot-of-Training-&-Validation-Accuracy-History)\n",
    "2. [Plot the training and validation loss history.](#Plot-of-Training-&-Validation-Loss-History)\n",
    "3. [Report the testing accuracy and loss.](#Report-of-Testing-Accuracy-and-Loss)\n",
    "4. [Show Confusion Matrix for testing dataset.](#Display-of-Confusion-Matrix-for-Testing-Dataset)\n",
    "5. [Report values for preformance study metrics like accuracy, precision, recall, F1 Score.](#Report-values-for-preformance-study-metrics-like-accuracy,-precision,-recall,-F1-Score)\n"
   ]
  },
  {
   "cell_type": "markdown",
   "id": "f4285bed",
   "metadata": {},
   "source": [
    "<h4>All below results are received after fitting with simple ANN Model (model_ann) as defined in section 4.2</h4>"
   ]
  },
  {
   "cell_type": "code",
   "execution_count": 47,
   "id": "55a03506",
   "metadata": {},
   "outputs": [
    {
     "name": "stdout",
     "output_type": "stream",
     "text": [
      "Summary of loss & Accuracy of Model \n",
      "\n",
      "         loss  accuracy  val_loss  val_accuracy\n",
      "0   2.618405  0.553767  1.315434        0.7754\n",
      "1   1.178993  0.799200  1.103133        0.8129\n",
      "2   1.043769  0.827550  1.034310        0.8217\n",
      "3   0.969916  0.837733  0.965990        0.8300\n",
      "4   0.920461  0.844000  0.931585        0.8262\n",
      "5   0.885158  0.846483  0.899631        0.8345\n",
      "6   0.852698  0.850700  0.876574        0.8388\n",
      "7   0.832185  0.851317  0.845177        0.8389\n",
      "8   0.817361  0.850350  0.840940        0.8359\n",
      "9   0.798132  0.854633  0.826670        0.8383\n",
      "10  0.784728  0.854617  0.803228        0.8446\n",
      "11  0.773136  0.854150  0.803726        0.8408\n",
      "12  0.758626  0.859233  0.783517        0.8448\n",
      "13  0.746150  0.857467  0.815824        0.8298\n",
      "14  0.745751  0.856633  0.778766        0.8409\n",
      "15  0.737575  0.855900  0.762295        0.8445\n",
      "16  0.724828  0.860783  0.760831        0.8454\n",
      "17  0.715861  0.861467  0.741962        0.8462\n",
      "18  0.709401  0.862767  0.746078        0.8500\n",
      "19  0.707800  0.860067  0.766349        0.8339\n",
      "20  0.700608  0.861600  0.749285        0.8415\n"
     ]
    }
   ],
   "source": [
    "print(f'Summary of loss & Accuracy of Model \\n\\n {loss}')"
   ]
  },
  {
   "cell_type": "markdown",
   "id": "9561dbd9",
   "metadata": {},
   "source": [
    "<h4>Plot of Training & Validation Accuracy History</h4>"
   ]
  },
  {
   "cell_type": "code",
   "execution_count": 48,
   "id": "3ed6508f",
   "metadata": {},
   "outputs": [
    {
     "data": {
      "text/plain": [
       "<AxesSubplot:>"
      ]
     },
     "execution_count": 48,
     "metadata": {},
     "output_type": "execute_result"
    },
    {
     "data": {
      "image/png": "[encoded data removed]",
      "text/plain": [
       "<Figure size 432x288 with 1 Axes>"
      ]
     },
     "metadata": {
      "needs_background": "light"
     },
     "output_type": "display_data"
    }
   ],
   "source": [
    "loss[['accuracy','val_accuracy']].plot()"
   ]
  },
  {
   "cell_type": "markdown",
   "id": "06c9f232",
   "metadata": {},
   "source": [
    "<h4>Plot of Training & Validation Loss History</h4>"
   ]
  },
  {
   "cell_type": "code",
   "execution_count": 49,
   "id": "48297f3b",
   "metadata": {},
   "outputs": [
    {
     "data": {
      "text/plain": [
       "<AxesSubplot:>"
      ]
     },
     "execution_count": 49,
     "metadata": {},
     "output_type": "execute_result"
    },
    {
     "data": {
      "image/png": "[encoded data removed]",
      "text/plain": [
       "<Figure size 432x288 with 1 Axes>"
      ]
     },
     "metadata": {
      "needs_background": "light"
     },
     "output_type": "display_data"
    }
   ],
   "source": [
    "loss[['loss','val_loss']].plot()"
   ]
  },
  {
   "cell_type": "markdown",
   "id": "6b70524b",
   "metadata": {},
   "source": [
    "<h4>Report of Testing Accuracy and Loss</h4>"
   ]
  },
  {
   "cell_type": "code",
   "execution_count": 50,
   "id": "9f23022c",
   "metadata": {},
   "outputs": [
    {
     "name": "stdout",
     "output_type": "stream",
     "text": [
      "['loss', 'accuracy']\n",
      "[0.7492848038673401, 0.8414999842643738]\n"
     ]
    }
   ],
   "source": [
    "print(model_ann.metrics_names)\n",
    "print(model_ann.evaluate(x=x_test, y=y_test_cat, verbose = 0))"
   ]
  },
  {
   "cell_type": "markdown",
   "id": "86538840",
   "metadata": {},
   "source": [
    "<h4>Display of Confusion Matrix for Testing Dataset</h4>"
   ]
  },
  {
   "cell_type": "code",
   "execution_count": 51,
   "id": "0199bba6",
   "metadata": {},
   "outputs": [],
   "source": [
    "y_test_predict = model_ann.predict(x=x_test, verbose=0)\n",
    "y_test_predict = np.argmax(y_test_predict, axis=1)"
   ]
  },
  {
   "cell_type": "code",
   "execution_count": 52,
   "id": "bf0e47c6",
   "metadata": {},
   "outputs": [
    {
     "name": "stdout",
     "output_type": "stream",
     "text": [
      "[[864   0   8  75   4   2  36   1  10   0]\n",
      " [  1 952   1  41   1   1   1   0   1   1]\n",
      " [ 23   0 630  28 231   1  83   0   4   0]\n",
      " [ 33   9   2 911  19   1  24   0   1   0]\n",
      " [  0   7  46  63 820   0  63   0   1   0]\n",
      " [  0   0   1   0   0 918   0  39   3  39]\n",
      " [227   2  94  62 112   0 492   0  11   0]\n",
      " [  0   0   0   0   0  25   0 920   0  55]\n",
      " [ 13   0  17   7   2   8   8   7 938   0]\n",
      " [  0   0   0   0   0   6   0  23   1 970]]\n"
     ]
    }
   ],
   "source": [
    "print(confusion_matrix(y_true=y_test, y_pred=y_test_predict))"
   ]
  },
  {
   "cell_type": "code",
   "execution_count": 53,
   "id": "9c3b7d8a",
   "metadata": {},
   "outputs": [
    {
     "data": {
      "image/png": "[encoded data removed]",
      "text/plain": [
       "<Figure size 720x360 with 2 Axes>"
      ]
     },
     "metadata": {
      "needs_background": "light"
     },
     "output_type": "display_data"
    }
   ],
   "source": [
    "plt.figure(figsize=(10,5))\n",
    "sns.heatmap(confusion_matrix(y_test, y_test_predict), annot=True)\n",
    "plt.show()"
   ]
  },
  {
   "cell_type": "markdown",
   "id": "ebc8c98a",
   "metadata": {},
   "source": [
    "<h4>Report values for preformance study metrics like accuracy, precision, recall, F1 Score</h4>"
   ]
  },
  {
   "cell_type": "code",
   "execution_count": 54,
   "id": "d7608c98",
   "metadata": {},
   "outputs": [
    {
     "name": "stdout",
     "output_type": "stream",
     "text": [
      "              precision    recall  f1-score   support\n",
      "\n",
      "           0       0.74      0.86      0.80      1000\n",
      "           1       0.98      0.95      0.97      1000\n",
      "           2       0.79      0.63      0.70      1000\n",
      "           3       0.77      0.91      0.83      1000\n",
      "           4       0.69      0.82      0.75      1000\n",
      "           5       0.95      0.92      0.94      1000\n",
      "           6       0.70      0.49      0.58      1000\n",
      "           7       0.93      0.92      0.92      1000\n",
      "           8       0.97      0.94      0.95      1000\n",
      "           9       0.91      0.97      0.94      1000\n",
      "\n",
      "    accuracy                           0.84     10000\n",
      "   macro avg       0.84      0.84      0.84     10000\n",
      "weighted avg       0.84      0.84      0.84     10000\n",
      "\n"
     ]
    }
   ],
   "source": [
    "print(classification_report(y_true=y_test, y_pred=y_test_predict))"
   ]
  },
  {
   "cell_type": "code",
   "execution_count": null,
   "id": "26fb619c",
   "metadata": {},
   "outputs": [],
   "source": []
  },
  {
   "cell_type": "markdown",
   "id": "c8146c5b",
   "metadata": {},
   "source": [
    "# 8. Model architecture - Score: 1 mark\n",
    "\n",
    "\n",
    "Modify the architecture designed in section 4.1 \n",
    "\n",
    "1. [by decreasing one layer](#ANN-Model-Modification-with-one-less-Hidden-Layer)\n",
    "2. [by increasing one layer](#ANN-Model-Modification-with-one-extra-Hidden-Layer)\n",
    "\n",
    "For example, if the architecture in 4.1 has 5 layers, then 8.1 should have 4 layers and 8.2 should have 6 layers.\n",
    "\n",
    "[Plot the comparison of the training and validation accuracy of the three architecures (4.1, 8.1 and 8.2)](#Plot-Comparison-of-Training-and-Validation-Accuracy-of-3-architecures-(4.1,-8.1,-8.2))\n",
    "\n"
   ]
  },
  {
   "cell_type": "markdown",
   "id": "465ec2ed",
   "metadata": {},
   "source": [
    "<h4>ANN Model Modification with one less Hidden Layer</h4>\n",
    "\n",
    "Model 4.1 has total 6 layers (excluding input layer) inlcuding 5 hidden layeres. <br>\n",
    "So, Model 8.1 should have total 5(=6-1) layers inlcuding 4(=5-1) hidden layeres. "
   ]
  },
  {
   "cell_type": "code",
   "execution_count": 55,
   "id": "b15e18d9",
   "metadata": {},
   "outputs": [],
   "source": [
    "model_ann_minus = ANN_Creation(x_train=x_train, y_train_cat=y_train_cat, no_hidden_layer=4, dropout_rate=0.0)"
   ]
  },
  {
   "cell_type": "code",
   "execution_count": 56,
   "id": "24f78893",
   "metadata": {},
   "outputs": [],
   "source": [
    "model_ann_minus.compile(optimizer='adam',\n",
    "                  loss='categorical_crossentropy', \n",
    "                  metrics=['accuracy'])"
   ]
  },
  {
   "cell_type": "code",
   "execution_count": 57,
   "id": "92ff8ae2",
   "metadata": {},
   "outputs": [
    {
     "name": "stdout",
     "output_type": "stream",
     "text": [
      "Epoch 1/100\n",
      "300/300 - 3s - loss: 2.2691 - accuracy: 0.7094 - val_loss: 1.2510 - val_accuracy: 0.8137 - 3s/epoch - 9ms/step\n",
      "Epoch 2/100\n",
      "300/300 - 1s - loss: 1.1053 - accuracy: 0.8346 - val_loss: 1.0428 - val_accuracy: 0.8329 - 1000ms/epoch - 3ms/step\n",
      "Epoch 3/100\n",
      "300/300 - 1s - loss: 0.9770 - accuracy: 0.8461 - val_loss: 0.9660 - val_accuracy: 0.8339 - 1s/epoch - 4ms/step\n",
      "Epoch 4/100\n",
      "300/300 - 1s - loss: 0.9108 - accuracy: 0.8473 - val_loss: 0.9056 - val_accuracy: 0.8392 - 1s/epoch - 4ms/step\n",
      "Epoch 5/100\n",
      "300/300 - 1s - loss: 0.8623 - accuracy: 0.8521 - val_loss: 0.8837 - val_accuracy: 0.8369 - 1s/epoch - 5ms/step\n",
      "Epoch 6/100\n",
      "300/300 - 1s - loss: 0.8276 - accuracy: 0.8551 - val_loss: 0.8451 - val_accuracy: 0.8442 - 1s/epoch - 5ms/step\n",
      "Epoch 7/100\n",
      "300/300 - 1s - loss: 0.8035 - accuracy: 0.8576 - val_loss: 0.8460 - val_accuracy: 0.8384 - 1s/epoch - 4ms/step\n",
      "Epoch 8/100\n",
      "300/300 - 1s - loss: 0.7831 - accuracy: 0.8595 - val_loss: 0.8147 - val_accuracy: 0.8408 - 1s/epoch - 4ms/step\n",
      "Epoch 9/100\n",
      "300/300 - 1s - loss: 0.7649 - accuracy: 0.8591 - val_loss: 0.7850 - val_accuracy: 0.8498 - 1s/epoch - 4ms/step\n",
      "Epoch 10/100\n",
      "300/300 - 1s - loss: 0.7525 - accuracy: 0.8610 - val_loss: 0.7761 - val_accuracy: 0.8487 - 1s/epoch - 4ms/step\n",
      "Epoch 11/100\n",
      "300/300 - 1s - loss: 0.7360 - accuracy: 0.8599 - val_loss: 0.7824 - val_accuracy: 0.8445 - 1s/epoch - 4ms/step\n",
      "Epoch 12/100\n",
      "300/300 - 1s - loss: 0.7259 - accuracy: 0.8630 - val_loss: 0.7430 - val_accuracy: 0.8489 - 1s/epoch - 4ms/step\n",
      "Epoch 13/100\n",
      "300/300 - 1s - loss: 0.7133 - accuracy: 0.8629 - val_loss: 0.7647 - val_accuracy: 0.8402 - 1s/epoch - 4ms/step\n",
      "Epoch 14/100\n",
      "300/300 - 1s - loss: 0.7018 - accuracy: 0.8656 - val_loss: 0.7320 - val_accuracy: 0.8536 - 1s/epoch - 4ms/step\n",
      "Epoch 15/100\n",
      "300/300 - 1s - loss: 0.6963 - accuracy: 0.8653 - val_loss: 0.7453 - val_accuracy: 0.8416 - 1s/epoch - 4ms/step\n",
      "Epoch 16/100\n",
      "300/300 - 1s - loss: 0.6874 - accuracy: 0.8666 - val_loss: 0.7151 - val_accuracy: 0.8522 - 1s/epoch - 4ms/step\n",
      "Epoch 17/100\n",
      "300/300 - 1s - loss: 0.6803 - accuracy: 0.8659 - val_loss: 0.7079 - val_accuracy: 0.8557 - 1s/epoch - 4ms/step\n",
      "Epoch 18/100\n",
      "300/300 - 2s - loss: 0.6753 - accuracy: 0.8658 - val_loss: 0.7096 - val_accuracy: 0.8522 - 2s/epoch - 6ms/step\n",
      "Epoch 19/100\n",
      "300/300 - 2s - loss: 0.6697 - accuracy: 0.8655 - val_loss: 0.7302 - val_accuracy: 0.8376 - 2s/epoch - 6ms/step\n",
      "Epoch 20/100\n",
      "300/300 - 1s - loss: 0.6634 - accuracy: 0.8662 - val_loss: 0.6994 - val_accuracy: 0.8502 - 1s/epoch - 5ms/step\n",
      "Epoch 21/100\n",
      "300/300 - 1s - loss: 0.6600 - accuracy: 0.8656 - val_loss: 0.6870 - val_accuracy: 0.8522 - 1s/epoch - 4ms/step\n",
      "Epoch 22/100\n",
      "300/300 - 1s - loss: 0.6492 - accuracy: 0.8680 - val_loss: 0.6896 - val_accuracy: 0.8473 - 1s/epoch - 4ms/step\n",
      "Epoch 23/100\n",
      "300/300 - 1s - loss: 0.6484 - accuracy: 0.8669 - val_loss: 0.7117 - val_accuracy: 0.8428 - 1s/epoch - 4ms/step\n",
      "Epoch 24/100\n",
      "300/300 - 1s - loss: 0.6419 - accuracy: 0.8688 - val_loss: 0.7036 - val_accuracy: 0.8412 - 1s/epoch - 4ms/step\n"
     ]
    },
    {
     "data": {
      "text/plain": [
       "<keras.callbacks.History at 0x23057e3f8e0>"
      ]
     },
     "execution_count": 57,
     "metadata": {},
     "output_type": "execute_result"
    }
   ],
   "source": [
    "model_ann_minus.fit(x=x_train, \n",
    "              y=y_train_cat,\n",
    "              epochs=100, \n",
    "              batch_size=200,\n",
    "              validation_data=(x_test, y_test_cat), \n",
    "              verbose=2, \n",
    "              callbacks=[early_stop]\n",
    "             )"
   ]
  },
  {
   "cell_type": "code",
   "execution_count": 58,
   "id": "5d7319b8",
   "metadata": {},
   "outputs": [
    {
     "name": "stdout",
     "output_type": "stream",
     "text": [
      "        loss  accuracy  val_loss  val_accuracy\n",
      "0   2.269139  0.709417  1.250991        0.8137\n",
      "1   1.105285  0.834550  1.042803        0.8329\n",
      "2   0.977042  0.846067  0.965973        0.8339\n",
      "3   0.910842  0.847300  0.905600        0.8392\n",
      "4   0.862343  0.852133  0.883652        0.8369\n",
      "5   0.827649  0.855117  0.845095        0.8442\n",
      "6   0.803523  0.857617  0.846001        0.8384\n",
      "7   0.783134  0.859467  0.814734        0.8408\n",
      "8   0.764923  0.859117  0.784988        0.8498\n",
      "9   0.752470  0.860983  0.776065        0.8487\n",
      "10  0.735977  0.859883  0.782408        0.8445\n",
      "11  0.725892  0.862950  0.742974        0.8489\n",
      "12  0.713320  0.862917  0.764695        0.8402\n",
      "13  0.701770  0.865583  0.731960        0.8536\n",
      "14  0.696275  0.865317  0.745292        0.8416\n",
      "15  0.687358  0.866650  0.715112        0.8522\n",
      "16  0.680322  0.865867  0.707924        0.8557\n",
      "17  0.675316  0.865817  0.709640        0.8522\n",
      "18  0.669681  0.865517  0.730231        0.8376\n",
      "19  0.663387  0.866150  0.699382        0.8502\n",
      "20  0.659998  0.865617  0.687021        0.8522\n",
      "21  0.649171  0.868033  0.689612        0.8473\n",
      "22  0.648391  0.866950  0.711703        0.8428\n",
      "23  0.641897  0.868800  0.703564        0.8412\n"
     ]
    }
   ],
   "source": [
    "loss_minus = pd.DataFrame(model_ann_minus.history.history)\n",
    "print(loss_minus)\n",
    "# loss_minus[['accuracy','val_accuracy']].plot()\n",
    "# loss_minus[['loss','val_loss']].plot()\n",
    "# plt.show()"
   ]
  },
  {
   "cell_type": "markdown",
   "id": "600dcf07",
   "metadata": {},
   "source": [
    "<h4>ANN Model Modification with one extra Hidden Layer</h4>\n",
    "\n",
    "\n",
    "Model 4.1 has total 6 layers (excluding input layer) inlcuding 5 hidden layeres. <br>\n",
    "So, Model 8.2 should have total 7(=6+1) layers inlcuding 6(=5+1) hidden layeres. "
   ]
  },
  {
   "cell_type": "code",
   "execution_count": 59,
   "id": "48b26225",
   "metadata": {},
   "outputs": [],
   "source": [
    "model_ann_plus= ANN_Creation(x_train=x_train, y_train_cat=y_train_cat, no_hidden_layer=6, dropout_rate=0.0)"
   ]
  },
  {
   "cell_type": "code",
   "execution_count": 60,
   "id": "929e662e",
   "metadata": {},
   "outputs": [],
   "source": [
    "model_ann_plus.compile(optimizer='adam',\n",
    "                  loss='categorical_crossentropy', \n",
    "                  metrics=['accuracy'])"
   ]
  },
  {
   "cell_type": "code",
   "execution_count": 61,
   "id": "a52ce1a0",
   "metadata": {},
   "outputs": [
    {
     "name": "stdout",
     "output_type": "stream",
     "text": [
      "Epoch 1/100\n",
      "300/300 - 4s - loss: 2.9347 - accuracy: 0.4927 - val_loss: 1.4219 - val_accuracy: 0.6740 - 4s/epoch - 12ms/step\n",
      "Epoch 2/100\n",
      "300/300 - 1s - loss: 1.2948 - accuracy: 0.7534 - val_loss: 1.2221 - val_accuracy: 0.7616 - 1s/epoch - 5ms/step\n",
      "Epoch 3/100\n",
      "300/300 - 2s - loss: 1.1644 - accuracy: 0.7902 - val_loss: 1.1580 - val_accuracy: 0.7796 - 2s/epoch - 7ms/step\n",
      "Epoch 4/100\n",
      "300/300 - 2s - loss: 1.0993 - accuracy: 0.7990 - val_loss: 1.1037 - val_accuracy: 0.7900 - 2s/epoch - 7ms/step\n",
      "Epoch 5/100\n",
      "300/300 - 2s - loss: 1.0474 - accuracy: 0.8098 - val_loss: 1.0615 - val_accuracy: 0.7895 - 2s/epoch - 6ms/step\n",
      "Epoch 6/100\n",
      "300/300 - 2s - loss: 1.0145 - accuracy: 0.8144 - val_loss: 1.0115 - val_accuracy: 0.8041 - 2s/epoch - 6ms/step\n",
      "Epoch 7/100\n",
      "300/300 - 2s - loss: 0.9757 - accuracy: 0.8219 - val_loss: 0.9888 - val_accuracy: 0.8145 - 2s/epoch - 6ms/step\n",
      "Epoch 8/100\n",
      "300/300 - 2s - loss: 0.9588 - accuracy: 0.8253 - val_loss: 0.9963 - val_accuracy: 0.7935 - 2s/epoch - 5ms/step\n",
      "Epoch 9/100\n",
      "300/300 - 2s - loss: 0.9416 - accuracy: 0.8271 - val_loss: 0.9423 - val_accuracy: 0.8243 - 2s/epoch - 5ms/step\n",
      "Epoch 10/100\n",
      "300/300 - 2s - loss: 0.9187 - accuracy: 0.8293 - val_loss: 0.9282 - val_accuracy: 0.8214 - 2s/epoch - 5ms/step\n",
      "Epoch 11/100\n",
      "300/300 - 2s - loss: 0.9007 - accuracy: 0.8323 - val_loss: 0.9224 - val_accuracy: 0.8196 - 2s/epoch - 5ms/step\n",
      "Epoch 12/100\n",
      "300/300 - 2s - loss: 0.8915 - accuracy: 0.8330 - val_loss: 0.9211 - val_accuracy: 0.8175 - 2s/epoch - 7ms/step\n",
      "Epoch 13/100\n",
      "300/300 - 2s - loss: 0.8779 - accuracy: 0.8340 - val_loss: 0.9014 - val_accuracy: 0.8211 - 2s/epoch - 7ms/step\n",
      "Epoch 14/100\n",
      "300/300 - 2s - loss: 0.8674 - accuracy: 0.8349 - val_loss: 0.8944 - val_accuracy: 0.8167 - 2s/epoch - 6ms/step\n",
      "Epoch 15/100\n",
      "300/300 - 2s - loss: 0.8560 - accuracy: 0.8347 - val_loss: 0.9054 - val_accuracy: 0.8183 - 2s/epoch - 5ms/step\n",
      "Epoch 16/100\n",
      "300/300 - 2s - loss: 0.8493 - accuracy: 0.8352 - val_loss: 0.8624 - val_accuracy: 0.8254 - 2s/epoch - 5ms/step\n",
      "Epoch 17/100\n",
      "300/300 - 2s - loss: 0.8436 - accuracy: 0.8337 - val_loss: 0.9011 - val_accuracy: 0.8143 - 2s/epoch - 6ms/step\n",
      "Epoch 18/100\n",
      "300/300 - 2s - loss: 0.8343 - accuracy: 0.8376 - val_loss: 0.8503 - val_accuracy: 0.8258 - 2s/epoch - 6ms/step\n",
      "Epoch 19/100\n",
      "300/300 - 2s - loss: 0.8241 - accuracy: 0.8387 - val_loss: 0.8669 - val_accuracy: 0.8203 - 2s/epoch - 7ms/step\n",
      "Epoch 20/100\n",
      "300/300 - 2s - loss: 0.8252 - accuracy: 0.8352 - val_loss: 0.8435 - val_accuracy: 0.8224 - 2s/epoch - 6ms/step\n",
      "Epoch 21/100\n",
      "300/300 - 2s - loss: 0.8208 - accuracy: 0.8347 - val_loss: 0.8454 - val_accuracy: 0.8265 - 2s/epoch - 7ms/step\n",
      "Epoch 22/100\n",
      "300/300 - 2s - loss: 0.8094 - accuracy: 0.8367 - val_loss: 0.8422 - val_accuracy: 0.8237 - 2s/epoch - 7ms/step\n",
      "Epoch 23/100\n",
      "300/300 - 2s - loss: 0.8045 - accuracy: 0.8372 - val_loss: 0.8625 - val_accuracy: 0.8202 - 2s/epoch - 7ms/step\n",
      "Epoch 24/100\n",
      "300/300 - 2s - loss: 0.7996 - accuracy: 0.8370 - val_loss: 0.8252 - val_accuracy: 0.8285 - 2s/epoch - 7ms/step\n",
      "Epoch 25/100\n",
      "300/300 - 2s - loss: 0.7963 - accuracy: 0.8372 - val_loss: 0.8208 - val_accuracy: 0.8267 - 2s/epoch - 8ms/step\n",
      "Epoch 26/100\n",
      "300/300 - 2s - loss: 0.7886 - accuracy: 0.8377 - val_loss: 0.8384 - val_accuracy: 0.8229 - 2s/epoch - 6ms/step\n",
      "Epoch 27/100\n",
      "300/300 - 2s - loss: 0.7839 - accuracy: 0.8385 - val_loss: 0.8336 - val_accuracy: 0.8153 - 2s/epoch - 7ms/step\n",
      "Epoch 28/100\n",
      "300/300 - 2s - loss: 0.7760 - accuracy: 0.8403 - val_loss: 0.8052 - val_accuracy: 0.8284 - 2s/epoch - 6ms/step\n",
      "Epoch 29/100\n",
      "300/300 - 2s - loss: 0.7751 - accuracy: 0.8383 - val_loss: 0.8062 - val_accuracy: 0.8313 - 2s/epoch - 6ms/step\n",
      "Epoch 30/100\n",
      "300/300 - 2s - loss: 0.7742 - accuracy: 0.8395 - val_loss: 0.8056 - val_accuracy: 0.8201 - 2s/epoch - 6ms/step\n",
      "Epoch 31/100\n",
      "300/300 - 2s - loss: 0.7701 - accuracy: 0.8399 - val_loss: 0.8060 - val_accuracy: 0.8293 - 2s/epoch - 5ms/step\n"
     ]
    },
    {
     "data": {
      "text/plain": [
       "<keras.callbacks.History at 0x2305237c8b0>"
      ]
     },
     "execution_count": 61,
     "metadata": {},
     "output_type": "execute_result"
    }
   ],
   "source": [
    "model_ann_plus.fit(x=x_train, \n",
    "              y=y_train_cat,\n",
    "              epochs=100, \n",
    "              batch_size=200,\n",
    "              validation_data=(x_test, y_test_cat), \n",
    "              verbose=2, \n",
    "              callbacks=[early_stop]\n",
    "             )"
   ]
  },
  {
   "cell_type": "code",
   "execution_count": 62,
   "id": "2bbc6bac",
   "metadata": {},
   "outputs": [
    {
     "name": "stdout",
     "output_type": "stream",
     "text": [
      "        loss  accuracy  val_loss  val_accuracy\n",
      "0   2.934680  0.492700  1.421913        0.6740\n",
      "1   1.294828  0.753367  1.222052        0.7616\n",
      "2   1.164430  0.790183  1.158032        0.7796\n",
      "3   1.099261  0.798983  1.103655        0.7900\n",
      "4   1.047401  0.809800  1.061520        0.7895\n",
      "5   1.014464  0.814383  1.011502        0.8041\n",
      "6   0.975660  0.821933  0.988824        0.8145\n",
      "7   0.958770  0.825267  0.996264        0.7935\n",
      "8   0.941614  0.827133  0.942322        0.8243\n",
      "9   0.918684  0.829317  0.928168        0.8214\n",
      "10  0.900673  0.832267  0.922366        0.8196\n",
      "11  0.891496  0.833033  0.921072        0.8175\n",
      "12  0.877917  0.834050  0.901377        0.8211\n",
      "13  0.867388  0.834933  0.894441        0.8167\n",
      "14  0.856000  0.834700  0.905385        0.8183\n",
      "15  0.849318  0.835183  0.862427        0.8254\n",
      "16  0.843634  0.833733  0.901062        0.8143\n",
      "17  0.834331  0.837567  0.850274        0.8258\n",
      "18  0.824073  0.838667  0.866934        0.8203\n",
      "19  0.825188  0.835150  0.843547        0.8224\n",
      "20  0.820764  0.834667  0.845384        0.8265\n",
      "21  0.809429  0.836750  0.842160        0.8237\n",
      "22  0.804546  0.837167  0.862482        0.8202\n",
      "23  0.799600  0.837017  0.825208        0.8285\n",
      "24  0.796349  0.837217  0.820784        0.8267\n",
      "25  0.788571  0.837733  0.838427        0.8229\n",
      "26  0.783947  0.838517  0.833629        0.8153\n",
      "27  0.776032  0.840283  0.805187        0.8284\n",
      "28  0.775060  0.838267  0.806197        0.8313\n",
      "29  0.774219  0.839483  0.805582        0.8201\n",
      "30  0.770115  0.839883  0.806033        0.8293\n"
     ]
    }
   ],
   "source": [
    "loss_plus = pd.DataFrame(model_ann_plus.history.history)\n",
    "print(loss_plus)\n",
    "# loss_plus[['accuracy','val_accuracy']].plot()\n",
    "# loss_plus[['loss','val_loss']].plot()\n",
    "# plt.show()"
   ]
  },
  {
   "cell_type": "markdown",
   "id": "47ef9d98",
   "metadata": {},
   "source": [
    "<h4>Plot Comparison of Training and Validation Accuracy of 3 architecures (4.1, 8.1, 8.2)</h4>"
   ]
  },
  {
   "cell_type": "code",
   "execution_count": 63,
   "id": "059fb80f",
   "metadata": {},
   "outputs": [],
   "source": [
    "loss['index']=loss.index\n",
    "loss_minus['index']=loss_minus.index\n",
    "loss_plus['index']=loss_plus.index"
   ]
  },
  {
   "cell_type": "code",
   "execution_count": 64,
   "id": "de29973d",
   "metadata": {},
   "outputs": [
    {
     "data": {
      "image/png": "[encoded data removed]",
      "text/plain": [
       "<Figure size 1008x432 with 1 Axes>"
      ]
     },
     "metadata": {
      "needs_background": "light"
     },
     "output_type": "display_data"
    }
   ],
   "source": [
    "plt.figure(figsize = (14, 6))\n",
    "plt.plot(loss.iloc[:,4],loss.iloc[:,3], 'go-', label='Validation Accuracy of 4.1', linewidth=2)\n",
    "plt.plot(loss_minus.iloc[:,4],loss_minus.iloc[:,3], 'ro-', label='Validation Accuracy of 8.1', linewidth=2)\n",
    "plt.plot(loss_plus.iloc[:,4],loss_plus.iloc[:,3], 'bo-', label='Validation Accuracy of 8.2', linewidth=2)\n",
    "\n",
    "plt.title('Accuracy Measure of Different Models')\n",
    "plt.xlabel('Epoch')\n",
    "plt.ylabel('Accuracy')\n",
    "plt.legend()\n",
    "\n",
    "plt.show()"
   ]
  },
  {
   "cell_type": "code",
   "execution_count": 65,
   "id": "ec410263",
   "metadata": {},
   "outputs": [
    {
     "name": "stdout",
     "output_type": "stream",
     "text": [
      "Model 8.1 is having highest Validation Accuracy 0.8687999844551086\n"
     ]
    }
   ],
   "source": [
    "am_max_4_1 = max(loss.iloc[:,1])\n",
    "am_max_8_1 = max(loss_minus.iloc[:,1])\n",
    "am_max_8_2 = max(loss_plus.iloc[:,1])\n",
    "am_max = max(am_max_4_1,am_max_8_1, am_max_8_2)\n",
    "\n",
    "if  am_max == am_max_4_1:\n",
    "    print(f'Model 4.1 is having highest Validation Accuracy {am_max_4_1}')\n",
    "elif am_max == am_max_8_1:\n",
    "    print(f'Model 8.1 is having highest Validation Accuracy {am_max_8_1}')\n",
    "else:\n",
    "    print(f'Model 8.2 is having highest Validation Accuracy {am_max_8_2}')"
   ]
  },
  {
   "cell_type": "code",
   "execution_count": 66,
   "id": "e971f92e",
   "metadata": {},
   "outputs": [],
   "source": [
    "# am_max_4_1, am_max_8_1, am_max_8_2"
   ]
  },
  {
   "cell_type": "markdown",
   "id": "d8d38cb0",
   "metadata": {},
   "source": [
    "# 9. Regularisations - Score: 1 mark\n",
    "\n",
    "Modify the architecture designed in section 4.1\n",
    "\n",
    "1. [Dropout of ratio 0.25](#ANN-Model-Modification-with-Dropout-Rate)\n",
    "2. [Dropout of ratio 0.25 with L2 regulariser with factor 1e−04.](#ANN-Model-Modification-with-Dropout-Rate-&-L2-Regulariser)\n",
    "\n",
    "[Plot the comparison of the training and validation accuracy of the three (4.1, 9.1 and 9.2)](#Plot-Comparison-of-Training-&-Validation-Accuracy-of-3-Models-(4.1,-9.1-and-9.2))\n",
    "\n"
   ]
  },
  {
   "cell_type": "markdown",
   "id": "e41f9761",
   "metadata": {},
   "source": [
    "<h4>ANN Model Modification with Dropout Rate</h4>"
   ]
  },
  {
   "cell_type": "code",
   "execution_count": 67,
   "id": "01a0d0a7",
   "metadata": {},
   "outputs": [],
   "source": [
    "model_ann_do = ANN_Creation(x_train=x_train, y_train_cat=y_train_cat, no_hidden_layer=5, dropout_rate=0.25)"
   ]
  },
  {
   "cell_type": "code",
   "execution_count": 68,
   "id": "86e286c9",
   "metadata": {},
   "outputs": [],
   "source": [
    "model_ann_do.compile(optimizer='adam',\n",
    "                  loss='categorical_crossentropy', \n",
    "                  metrics=['accuracy'])"
   ]
  },
  {
   "cell_type": "code",
   "execution_count": 69,
   "id": "a88afacb",
   "metadata": {},
   "outputs": [
    {
     "name": "stdout",
     "output_type": "stream",
     "text": [
      "Epoch 1/100\n",
      "300/300 - 4s - loss: 3.2510 - accuracy: 0.2088 - val_loss: 1.8625 - val_accuracy: 0.3056 - 4s/epoch - 14ms/step\n",
      "Epoch 2/100\n",
      "300/300 - 2s - loss: 1.8294 - accuracy: 0.3158 - val_loss: 1.7448 - val_accuracy: 0.3256 - 2s/epoch - 7ms/step\n",
      "Epoch 3/100\n",
      "300/300 - 2s - loss: 1.7421 - accuracy: 0.3487 - val_loss: 1.6501 - val_accuracy: 0.3833 - 2s/epoch - 7ms/step\n",
      "Epoch 4/100\n",
      "300/300 - 2s - loss: 1.6999 - accuracy: 0.3596 - val_loss: 1.6151 - val_accuracy: 0.3878 - 2s/epoch - 7ms/step\n",
      "Epoch 5/100\n",
      "300/300 - 2s - loss: 1.6658 - accuracy: 0.3799 - val_loss: 1.5743 - val_accuracy: 0.4452 - 2s/epoch - 8ms/step\n",
      "Epoch 6/100\n",
      "300/300 - 2s - loss: 1.5885 - accuracy: 0.4460 - val_loss: 1.4166 - val_accuracy: 0.5308 - 2s/epoch - 8ms/step\n",
      "Epoch 7/100\n",
      "300/300 - 2s - loss: 1.4828 - accuracy: 0.4852 - val_loss: 1.3198 - val_accuracy: 0.5646 - 2s/epoch - 8ms/step\n",
      "Epoch 8/100\n",
      "300/300 - 2s - loss: 1.3948 - accuracy: 0.5341 - val_loss: 1.2630 - val_accuracy: 0.5994 - 2s/epoch - 8ms/step\n",
      "Epoch 9/100\n",
      "300/300 - 2s - loss: 1.3434 - accuracy: 0.5739 - val_loss: 1.1880 - val_accuracy: 0.7050 - 2s/epoch - 7ms/step\n",
      "Epoch 10/100\n",
      "300/300 - 2s - loss: 1.3108 - accuracy: 0.6033 - val_loss: 1.1779 - val_accuracy: 0.6929 - 2s/epoch - 8ms/step\n",
      "Epoch 11/100\n",
      "300/300 - 3s - loss: 1.2774 - accuracy: 0.6218 - val_loss: 1.1372 - val_accuracy: 0.7003 - 3s/epoch - 9ms/step\n",
      "Epoch 12/100\n",
      "300/300 - 2s - loss: 1.2420 - accuracy: 0.6321 - val_loss: 1.1172 - val_accuracy: 0.7035 - 2s/epoch - 8ms/step\n",
      "Epoch 13/100\n",
      "300/300 - 2s - loss: 1.2224 - accuracy: 0.6393 - val_loss: 1.1006 - val_accuracy: 0.7008 - 2s/epoch - 8ms/step\n",
      "Epoch 14/100\n",
      "300/300 - 2s - loss: 1.2095 - accuracy: 0.6462 - val_loss: 1.0773 - val_accuracy: 0.7086 - 2s/epoch - 7ms/step\n",
      "Epoch 15/100\n",
      "300/300 - 2s - loss: 1.1946 - accuracy: 0.6529 - val_loss: 1.0662 - val_accuracy: 0.7088 - 2s/epoch - 7ms/step\n",
      "Epoch 16/100\n",
      "300/300 - 2s - loss: 1.1830 - accuracy: 0.6575 - val_loss: 1.0527 - val_accuracy: 0.7124 - 2s/epoch - 7ms/step\n",
      "Epoch 17/100\n",
      "300/300 - 2s - loss: 1.1686 - accuracy: 0.6650 - val_loss: 1.0298 - val_accuracy: 0.7236 - 2s/epoch - 7ms/step\n",
      "Epoch 18/100\n",
      "300/300 - 2s - loss: 1.1644 - accuracy: 0.6653 - val_loss: 1.0236 - val_accuracy: 0.7219 - 2s/epoch - 8ms/step\n",
      "Epoch 19/100\n",
      "300/300 - 3s - loss: 1.1496 - accuracy: 0.6713 - val_loss: 0.9992 - val_accuracy: 0.7263 - 3s/epoch - 8ms/step\n",
      "Epoch 20/100\n",
      "300/300 - 2s - loss: 1.1351 - accuracy: 0.6774 - val_loss: 0.9912 - val_accuracy: 0.7245 - 2s/epoch - 8ms/step\n",
      "Epoch 21/100\n",
      "300/300 - 2s - loss: 1.1216 - accuracy: 0.6840 - val_loss: 0.9700 - val_accuracy: 0.7327 - 2s/epoch - 7ms/step\n",
      "Epoch 22/100\n",
      "300/300 - 2s - loss: 1.1108 - accuracy: 0.6873 - val_loss: 0.9707 - val_accuracy: 0.7315 - 2s/epoch - 7ms/step\n",
      "Epoch 23/100\n",
      "300/300 - 2s - loss: 1.1052 - accuracy: 0.6900 - val_loss: 0.9462 - val_accuracy: 0.7335 - 2s/epoch - 7ms/step\n",
      "Epoch 24/100\n",
      "300/300 - 2s - loss: 1.0875 - accuracy: 0.6939 - val_loss: 0.9537 - val_accuracy: 0.7292 - 2s/epoch - 7ms/step\n",
      "Epoch 25/100\n",
      "300/300 - 2s - loss: 1.0909 - accuracy: 0.6928 - val_loss: 0.9658 - val_accuracy: 0.7280 - 2s/epoch - 8ms/step\n",
      "Epoch 26/100\n",
      "300/300 - 2s - loss: 1.0856 - accuracy: 0.6964 - val_loss: 0.9401 - val_accuracy: 0.7303 - 2s/epoch - 8ms/step\n",
      "Epoch 27/100\n",
      "300/300 - 2s - loss: 1.0686 - accuracy: 0.6994 - val_loss: 0.9343 - val_accuracy: 0.7415 - 2s/epoch - 8ms/step\n",
      "Epoch 28/100\n",
      "300/300 - 2s - loss: 1.0661 - accuracy: 0.6953 - val_loss: 0.9139 - val_accuracy: 0.7367 - 2s/epoch - 7ms/step\n",
      "Epoch 29/100\n",
      "300/300 - 2s - loss: 1.0613 - accuracy: 0.7000 - val_loss: 0.9221 - val_accuracy: 0.7331 - 2s/epoch - 7ms/step\n",
      "Epoch 30/100\n",
      "300/300 - 2s - loss: 1.0586 - accuracy: 0.7014 - val_loss: 0.9120 - val_accuracy: 0.7394 - 2s/epoch - 7ms/step\n",
      "Epoch 31/100\n",
      "300/300 - 2s - loss: 1.0446 - accuracy: 0.7025 - val_loss: 0.9239 - val_accuracy: 0.7239 - 2s/epoch - 7ms/step\n",
      "Epoch 32/100\n",
      "300/300 - 2s - loss: 1.0424 - accuracy: 0.7034 - val_loss: 0.9103 - val_accuracy: 0.7501 - 2s/epoch - 7ms/step\n",
      "Epoch 33/100\n",
      "300/300 - 3s - loss: 1.0496 - accuracy: 0.7025 - val_loss: 0.9039 - val_accuracy: 0.7376 - 3s/epoch - 8ms/step\n",
      "Epoch 34/100\n",
      "300/300 - 2s - loss: 1.0418 - accuracy: 0.7012 - val_loss: 0.9040 - val_accuracy: 0.7394 - 2s/epoch - 8ms/step\n",
      "Epoch 35/100\n",
      "300/300 - 2s - loss: 1.0309 - accuracy: 0.7043 - val_loss: 0.9287 - val_accuracy: 0.7252 - 2s/epoch - 7ms/step\n",
      "Epoch 36/100\n",
      "300/300 - 2s - loss: 1.0305 - accuracy: 0.7030 - val_loss: 0.8841 - val_accuracy: 0.7567 - 2s/epoch - 7ms/step\n",
      "Epoch 37/100\n",
      "300/300 - 2s - loss: 1.0281 - accuracy: 0.7046 - val_loss: 0.9100 - val_accuracy: 0.7302 - 2s/epoch - 7ms/step\n",
      "Epoch 38/100\n",
      "300/300 - 2s - loss: 1.0262 - accuracy: 0.7042 - val_loss: 0.8933 - val_accuracy: 0.7310 - 2s/epoch - 7ms/step\n",
      "Epoch 39/100\n",
      "300/300 - 2s - loss: 1.0219 - accuracy: 0.7064 - val_loss: 0.8846 - val_accuracy: 0.7419 - 2s/epoch - 7ms/step\n"
     ]
    },
    {
     "data": {
      "text/plain": [
       "<keras.callbacks.History at 0x23052cc8100>"
      ]
     },
     "execution_count": 69,
     "metadata": {},
     "output_type": "execute_result"
    }
   ],
   "source": [
    "model_ann_do.fit(x=x_train, \n",
    "              y=y_train_cat,\n",
    "              epochs=100, \n",
    "              batch_size=200,\n",
    "              validation_data=(x_test, y_test_cat), \n",
    "              verbose=2, \n",
    "              callbacks=[early_stop]\n",
    "             )"
   ]
  },
  {
   "cell_type": "code",
   "execution_count": 70,
   "id": "e3f25a51",
   "metadata": {},
   "outputs": [
    {
     "name": "stdout",
     "output_type": "stream",
     "text": [
      "        loss  accuracy  val_loss  val_accuracy\n",
      "0   3.251030  0.208833  1.862507        0.3056\n",
      "1   1.829400  0.315750  1.744844        0.3256\n",
      "2   1.742092  0.348750  1.650063        0.3833\n",
      "3   1.699884  0.359633  1.615053        0.3878\n",
      "4   1.665833  0.379900  1.574319        0.4452\n",
      "5   1.588468  0.446017  1.416636        0.5308\n",
      "6   1.482838  0.485183  1.319794        0.5646\n",
      "7   1.394753  0.534083  1.262954        0.5994\n",
      "8   1.343441  0.573883  1.188038        0.7050\n",
      "9   1.310815  0.603350  1.177901        0.6929\n",
      "10  1.277355  0.621767  1.137227        0.7003\n",
      "11  1.242013  0.632117  1.117228        0.7035\n",
      "12  1.222411  0.639267  1.100646        0.7008\n",
      "13  1.209540  0.646183  1.077341        0.7086\n",
      "14  1.194629  0.652867  1.066182        0.7088\n",
      "15  1.183008  0.657500  1.052691        0.7124\n",
      "16  1.168603  0.664950  1.029799        0.7236\n",
      "17  1.164387  0.665283  1.023564        0.7219\n",
      "18  1.149633  0.671317  0.999238        0.7263\n",
      "19  1.135117  0.677433  0.991216        0.7245\n",
      "20  1.121645  0.684000  0.970018        0.7327\n",
      "21  1.110823  0.687283  0.970704        0.7315\n",
      "22  1.105193  0.689967  0.946247        0.7335\n",
      "23  1.087481  0.693900  0.953663        0.7292\n",
      "24  1.090872  0.692817  0.965842        0.7280\n",
      "25  1.085634  0.696417  0.940074        0.7303\n",
      "26  1.068621  0.699400  0.934280        0.7415\n",
      "27  1.066145  0.695300  0.913931        0.7367\n",
      "28  1.061285  0.700050  0.922067        0.7331\n",
      "29  1.058552  0.701417  0.912017        0.7394\n",
      "30  1.044555  0.702467  0.923909        0.7239\n",
      "31  1.042431  0.703433  0.910350        0.7501\n",
      "32  1.049631  0.702517  0.903948        0.7376\n",
      "33  1.041799  0.701233  0.903968        0.7394\n",
      "34  1.030864  0.704283  0.928686        0.7252\n",
      "35  1.030522  0.703017  0.884118        0.7567\n",
      "36  1.028052  0.704567  0.910022        0.7302\n",
      "37  1.026191  0.704150  0.893320        0.7310\n",
      "38  1.021919  0.706383  0.884589        0.7419\n"
     ]
    }
   ],
   "source": [
    "loss_do = pd.DataFrame(model_ann_do.history.history)\n",
    "print(loss_do)"
   ]
  },
  {
   "cell_type": "markdown",
   "id": "6bed5862",
   "metadata": {},
   "source": [
    "<h4>ANN Model Modification with Dropout Rate & L2 Regulariser</h4>\n",
    "\n",
    "Dropout of ratio 0.25 with L2 regulariser with factor 1e−04."
   ]
  },
  {
   "cell_type": "code",
   "execution_count": 71,
   "id": "e4887efc",
   "metadata": {},
   "outputs": [],
   "source": [
    "model_ann_dor = ANN_Creation(x_train=x_train, y_train_cat=y_train_cat, \n",
    "                             no_hidden_layer=5, dropout_rate=0.25, kernel_regularizer= 0.0001)"
   ]
  },
  {
   "cell_type": "code",
   "execution_count": 72,
   "id": "c7c83fd5",
   "metadata": {},
   "outputs": [],
   "source": [
    "model_ann_dor.compile(optimizer='adam',\n",
    "                  loss='categorical_crossentropy', \n",
    "                  metrics=['accuracy'])"
   ]
  },
  {
   "cell_type": "code",
   "execution_count": 73,
   "id": "aedca8bb",
   "metadata": {},
   "outputs": [
    {
     "name": "stdout",
     "output_type": "stream",
     "text": [
      "Epoch 1/100\n",
      "300/300 - 5s - loss: 1.9661 - accuracy: 0.2959 - val_loss: 1.4440 - val_accuracy: 0.4644 - 5s/epoch - 17ms/step\n",
      "Epoch 2/100\n",
      "300/300 - 2s - loss: 1.4626 - accuracy: 0.4527 - val_loss: 1.3237 - val_accuracy: 0.4776 - 2s/epoch - 7ms/step\n",
      "Epoch 3/100\n",
      "300/300 - 2s - loss: 1.3469 - accuracy: 0.4923 - val_loss: 1.1076 - val_accuracy: 0.5912 - 2s/epoch - 7ms/step\n",
      "Epoch 4/100\n",
      "300/300 - 2s - loss: 1.1757 - accuracy: 0.5678 - val_loss: 0.9809 - val_accuracy: 0.6459 - 2s/epoch - 7ms/step\n",
      "Epoch 5/100\n",
      "300/300 - 2s - loss: 1.0701 - accuracy: 0.6155 - val_loss: 0.9185 - val_accuracy: 0.6495 - 2s/epoch - 8ms/step\n",
      "Epoch 6/100\n",
      "300/300 - 3s - loss: 1.0280 - accuracy: 0.6272 - val_loss: 0.8976 - val_accuracy: 0.6521 - 3s/epoch - 9ms/step\n",
      "Epoch 7/100\n",
      "300/300 - 3s - loss: 1.0041 - accuracy: 0.6310 - val_loss: 0.8912 - val_accuracy: 0.6534 - 3s/epoch - 8ms/step\n",
      "Epoch 8/100\n",
      "300/300 - 4s - loss: 0.9883 - accuracy: 0.6340 - val_loss: 0.8711 - val_accuracy: 0.6620 - 4s/epoch - 12ms/step\n",
      "Epoch 9/100\n",
      "300/300 - 3s - loss: 0.9736 - accuracy: 0.6342 - val_loss: 0.8566 - val_accuracy: 0.6628 - 3s/epoch - 9ms/step\n",
      "Epoch 10/100\n",
      "300/300 - 3s - loss: 0.9654 - accuracy: 0.6373 - val_loss: 0.8496 - val_accuracy: 0.6612 - 3s/epoch - 9ms/step\n",
      "Epoch 11/100\n",
      "300/300 - 3s - loss: 0.9608 - accuracy: 0.6363 - val_loss: 0.8595 - val_accuracy: 0.6625 - 3s/epoch - 8ms/step\n",
      "Epoch 12/100\n",
      "300/300 - 3s - loss: 0.9466 - accuracy: 0.6428 - val_loss: 0.8537 - val_accuracy: 0.6589 - 3s/epoch - 10ms/step\n",
      "Epoch 13/100\n",
      "300/300 - 3s - loss: 0.9413 - accuracy: 0.6436 - val_loss: 0.8500 - val_accuracy: 0.6610 - 3s/epoch - 9ms/step\n"
     ]
    },
    {
     "data": {
      "text/plain": [
       "<keras.callbacks.History at 0x23052a8e370>"
      ]
     },
     "execution_count": 73,
     "metadata": {},
     "output_type": "execute_result"
    }
   ],
   "source": [
    "model_ann_dor.fit(x=x_train, \n",
    "              y=y_train_cat,\n",
    "              epochs=100, \n",
    "              batch_size=200,\n",
    "              validation_data=(x_test, y_test_cat), \n",
    "              verbose=2, \n",
    "              callbacks=[early_stop]\n",
    "             )"
   ]
  },
  {
   "cell_type": "code",
   "execution_count": 74,
   "id": "c532c2c8",
   "metadata": {},
   "outputs": [
    {
     "name": "stdout",
     "output_type": "stream",
     "text": [
      "        loss  accuracy  val_loss  val_accuracy\n",
      "0   1.966149  0.295933  1.443979        0.4644\n",
      "1   1.462604  0.452667  1.323738        0.4776\n",
      "2   1.346937  0.492333  1.107554        0.5912\n",
      "3   1.175729  0.567850  0.980913        0.6459\n",
      "4   1.070124  0.615517  0.918539        0.6495\n",
      "5   1.027961  0.627200  0.897619        0.6521\n",
      "6   1.004148  0.630967  0.891163        0.6534\n",
      "7   0.988339  0.634000  0.871088        0.6620\n",
      "8   0.973629  0.634217  0.856609        0.6628\n",
      "9   0.965431  0.637317  0.849588        0.6612\n",
      "10  0.960788  0.636283  0.859457        0.6625\n",
      "11  0.946571  0.642750  0.853657        0.6589\n",
      "12  0.941262  0.643617  0.849956        0.6610\n"
     ]
    }
   ],
   "source": [
    "loss_dor = pd.DataFrame(model_ann_dor.history.history)\n",
    "print(loss_dor)"
   ]
  },
  {
   "cell_type": "markdown",
   "id": "1136350b",
   "metadata": {},
   "source": [
    "<h4>Plot Comparison of Training & Validation Accuracy of 3 Models (4.1, 9.1 and 9.2)</h4>"
   ]
  },
  {
   "cell_type": "code",
   "execution_count": 75,
   "id": "383994a5",
   "metadata": {},
   "outputs": [],
   "source": [
    "# loss['index']=loss.index\n",
    "loss_do['index']=loss_do.index\n",
    "loss_dor['index']=loss_dor.index"
   ]
  },
  {
   "cell_type": "code",
   "execution_count": 76,
   "id": "e340e0e1",
   "metadata": {},
   "outputs": [
    {
     "data": {
      "image/png": "[encoded data removed]",
      "text/plain": [
       "<Figure size 1008x432 with 1 Axes>"
      ]
     },
     "metadata": {
      "needs_background": "light"
     },
     "output_type": "display_data"
    }
   ],
   "source": [
    "plt.figure(figsize = (14, 6))\n",
    "plt.plot(loss.iloc[:,4],loss.iloc[:,1], 'go-', label='Validation Accuracy of 4.1', linewidth=2)\n",
    "plt.plot(loss_do.iloc[:,4],loss_do.iloc[:,3], 'ro-', label='Validation Accuracy of 9.1', linewidth=2)\n",
    "plt.plot(loss_dor.iloc[:,4],loss_dor.iloc[:,3], 'bo-', label='Validation Accuracy of 9.2', linewidth=2)\n",
    "\n",
    "plt.title('Accuracy Measure of Different Models')\n",
    "plt.xlabel('Epoch')\n",
    "plt.ylabel('Accuracy')\n",
    "plt.legend()\n",
    "\n",
    "plt.show()"
   ]
  },
  {
   "cell_type": "code",
   "execution_count": 77,
   "id": "6fbdf570",
   "metadata": {},
   "outputs": [
    {
     "name": "stdout",
     "output_type": "stream",
     "text": [
      "Model 4.1 is having highest Validation Accuracy 0.862766683101654\n"
     ]
    }
   ],
   "source": [
    "am_max_4_1 = max(loss.iloc[:,1])\n",
    "am_max_9_1 = max(loss_do.iloc[:,1])\n",
    "am_max_9_2 = max(loss_dor.iloc[:,1])\n",
    "am_max = max(am_max_4_1,am_max_9_1, am_max_9_2)\n",
    "\n",
    "if  am_max == am_max_4_1:\n",
    "    print(f'Model 4.1 is having highest Validation Accuracy {am_max_4_1}')\n",
    "elif am_max == am_max_9_1:\n",
    "    print(f'Model 9.1 is having highest Validation Accuracy {am_max_9_1}')\n",
    "else:\n",
    "    print(f'Model 9.2 is having highest Validation Accuracy {am_max_9_2}')"
   ]
  },
  {
   "cell_type": "code",
   "execution_count": 78,
   "id": "bc4dad3c",
   "metadata": {},
   "outputs": [],
   "source": [
    "# am_max_4_1, am_max_9_1, am_max_9_2"
   ]
  },
  {
   "cell_type": "markdown",
   "id": "6529c4a9",
   "metadata": {},
   "source": [
    "# 10. Optimisers -Score: 1 mark\n",
    "\n",
    "Modify the code written in section 5.2\n",
    "\n",
    "1. [RMSProp with your choice of hyper parameters](#ANN-Model-Modification-with-RMSProp-Optimizer)\n",
    "2. [Adam with your choice of hyper parameters](#ANN-Model-Modification-with-ADAM-Optimizer)\n",
    "\n",
    "[Plot the comparison of the training and validation accuracy of the three (5.2, 10.1 and 10.2)](#Plot-Comparison-of-Training-&-Validation-Accuracy-of-three-Models(5.2,-10.1-and-10.2))\n"
   ]
  },
  {
   "cell_type": "markdown",
   "id": "e2e486b9",
   "metadata": {
    "id": "9bf06eb1"
   },
   "source": [
    "<h4>ANN Model Modification with RMSProp Optimizer</h4>"
   ]
  },
  {
   "cell_type": "code",
   "execution_count": 79,
   "id": "4a77789c",
   "metadata": {},
   "outputs": [],
   "source": [
    "# model_ann_rmsprop = ANN_Creation(x_train=x_train, y_train_cat=y_train_cat)\n",
    "\n",
    "# model_ann_rmsprop.compile(optimizer='rmsprop',\n",
    "#                   loss='categorical_crossentropy', \n",
    "#                   metrics=['accuracy'])\n",
    "\n",
    "# model_ann_rmsprop.fit(x=x_train, \n",
    "#               y=y_train_cat,\n",
    "#               epochs=100, \n",
    "#               batch_size=200,\n",
    "#               validation_data=(x_test, y_test_cat), \n",
    "#               verbose=2, \n",
    "#               callbacks=[early_stop]\n",
    "#              )\n",
    "\n",
    "# loss_rmsprop = pd.DataFrame(model_ann_rmsprop.history.history)\n",
    "# print(loss_rmsprop)\n",
    "# loss_rmsprop[['accuracy','val_accuracy']].plot()\n",
    "# loss_rmsprop[['loss','val_loss']].plot()\n",
    "# plt.show()\n"
   ]
  },
  {
   "cell_type": "code",
   "execution_count": 80,
   "id": "d0c15f9a",
   "metadata": {},
   "outputs": [
    {
     "name": "stdout",
     "output_type": "stream",
     "text": [
      "Fold 1\n",
      "Time taken for this fold: 68.14103055000305 seconds\n",
      "Fold 2\n",
      "Time taken for this fold: 79.2352843284607 seconds\n",
      "Fold 3\n",
      "Time taken for this fold: 24.53597617149353 seconds\n",
      "Fold 4\n",
      "Time taken for this fold: 23.60894250869751 seconds\n",
      "Fold 5\n",
      "Time taken for this fold: 23.830509424209595 seconds\n",
      "Total time taken for training across all folds: 219.35174298286438 seconds\n"
     ]
    }
   ],
   "source": [
    "model_ann_rmsprop, loss_cv_rmsprop = ann_with_cross_val(x_train, y_train, no_hiddenlayer=5, dropout_rate=0.0, k_fold=5, \n",
    "                                                        optimizers ='rmsprop', loss_val='categorical_crossentropy', \n",
    "                                                        metrics_val='accuracy', display_time = 'X')"
   ]
  },
  {
   "cell_type": "code",
   "execution_count": 81,
   "id": "2fcb3f71",
   "metadata": {},
   "outputs": [
    {
     "name": "stdout",
     "output_type": "stream",
     "text": [
      "        loss  accuracy  val_loss  val_accuracy\n",
      "0   0.889350  0.808333  0.772192      0.833050\n",
      "1   0.773859  0.824833  0.797945      0.815767\n",
      "2   0.755391  0.827579  0.735679      0.832483\n",
      "3   0.743361  0.828058  0.724878      0.834583\n",
      "4   0.788583  0.827021  0.779320      0.824083\n",
      "5   0.780268  0.826917  0.761831      0.832958\n",
      "6   0.769808  0.827229  0.739769      0.832792\n",
      "7   0.761599  0.828042  0.749441      0.834417\n",
      "8   0.753832  0.829844  0.733986      0.841208\n",
      "9   0.748598  0.828760  0.755075      0.824667\n",
      "10  0.743308  0.829208  0.819263      0.802333\n",
      "11  0.711527  0.831375  0.721827      0.836750\n"
     ]
    }
   ],
   "source": [
    "print(loss_cv_rmsprop)"
   ]
  },
  {
   "cell_type": "markdown",
   "id": "cb70e21b",
   "metadata": {},
   "source": [
    "<h4>ANN Model Modification with ADAM Optimizer</h4>"
   ]
  },
  {
   "cell_type": "code",
   "execution_count": 82,
   "id": "16dad5e8",
   "metadata": {},
   "outputs": [],
   "source": [
    "# model_ann_adam = ANN_Creation(x_train=x_train, y_train_cat=y_train_cat) \n",
    "\n",
    "# model_ann_adam.compile(optimizer='adam',\n",
    "#                   loss='categorical_crossentropy', \n",
    "#                   metrics=['accuracy'])\n",
    "\n",
    "# model_ann_adam.fit(x=x_train, \n",
    "#               y=y_train_cat,\n",
    "#               epochs=100, \n",
    "#               batch_size=200,\n",
    "#               validation_data=(x_test, y_test_cat), \n",
    "#               verbose=2, \n",
    "#               callbacks=[early_stop]\n",
    "#              )\n",
    "\n",
    "# loss_adam = pd.DataFrame(model_ann_adam.history.history)\n",
    "# print(loss_adam)\n",
    "# loss_adam[['accuracy','val_accuracy']].plot()\n",
    "# loss_adam[['loss','val_loss']].plot()\n",
    "# plt.show()"
   ]
  },
  {
   "cell_type": "code",
   "execution_count": 83,
   "id": "0fe54508",
   "metadata": {},
   "outputs": [
    {
     "name": "stdout",
     "output_type": "stream",
     "text": [
      "Fold 1\n",
      "Time taken for this fold: 134.83870553970337 seconds\n",
      "Fold 2\n",
      "Time taken for this fold: 25.279141902923584 seconds\n",
      "Fold 3\n",
      "Time taken for this fold: 33.44685888290405 seconds\n",
      "Fold 4\n",
      "Time taken for this fold: 29.31174087524414 seconds\n",
      "Fold 5\n",
      "Time taken for this fold: 38.655911922454834 seconds\n",
      "Total time taken for training across all folds: 261.53235912323 seconds\n"
     ]
    }
   ],
   "source": [
    "model_ann_adam, loss_cv_adam = ann_with_cross_val(x_train, y_train, no_hiddenlayer=5, dropout_rate=0.0, \n",
    "                                                  k_fold=5, optimizers ='adam', loss_val='categorical_crossentropy', \n",
    "                                                  metrics_val='accuracy', display_time = 'X')"
   ]
  },
  {
   "cell_type": "code",
   "execution_count": 84,
   "id": "905748d8",
   "metadata": {},
   "outputs": [
    {
     "name": "stdout",
     "output_type": "stream",
     "text": [
      "        loss  accuracy  val_loss  val_accuracy\n",
      "0   0.886387  0.806158  0.775917      0.825683\n",
      "1   0.774862  0.825267  0.760833      0.830900\n",
      "2   0.755384  0.830142  0.737135      0.835233\n",
      "3   0.743685  0.830542  0.769370      0.817917\n",
      "4   0.784840  0.820719  0.752545      0.832958\n",
      "5   0.772942  0.825365  0.764875      0.834125\n",
      "6   0.841724  0.819146  0.811839      0.832417\n",
      "7   0.810833  0.826813  0.788418      0.839083\n",
      "8   0.792932  0.832000  0.790184      0.834333\n",
      "9   0.787482  0.832542  0.760395      0.845417\n",
      "10  0.780026  0.833083  0.754167      0.844417\n",
      "11  0.766350  0.834604  0.762988      0.841833\n",
      "12  0.762475  0.835708  0.780772      0.823583\n",
      "13  0.754613  0.836875  0.718709      0.849417\n",
      "14  0.747999  0.838000  0.741673      0.843167\n",
      "15  0.743299  0.836771  0.739873      0.842917\n",
      "16  0.739265  0.836438  0.705390      0.847083\n",
      "17  0.736196  0.837646  0.725935      0.838250\n",
      "18  0.730194  0.839042  0.763796      0.822750\n",
      "19  0.727570  0.837750  0.757759      0.823417\n"
     ]
    }
   ],
   "source": [
    "print(loss_cv_adam)"
   ]
  },
  {
   "cell_type": "code",
   "execution_count": null,
   "id": "44d1e844",
   "metadata": {},
   "outputs": [],
   "source": []
  },
  {
   "cell_type": "markdown",
   "id": "9d3fa432",
   "metadata": {},
   "source": [
    "<h4>Plot Comparison of Training & Validation Accuracy of three Models(5.2, 10.1 and 10.2)</h4>"
   ]
  },
  {
   "cell_type": "code",
   "execution_count": 85,
   "id": "0d22d64d",
   "metadata": {},
   "outputs": [],
   "source": [
    "loss_cv_sgd['index']=loss_cv_sgd.index\n",
    "loss_cv_rmsprop['index']=loss_cv_rmsprop.index\n",
    "loss_cv_adam['index']=loss_cv_adam.index"
   ]
  },
  {
   "cell_type": "code",
   "execution_count": 86,
   "id": "6f253a72",
   "metadata": {},
   "outputs": [
    {
     "data": {
      "image/png": "[encoded data removed]",
      "text/plain": [
       "<Figure size 1008x432 with 1 Axes>"
      ]
     },
     "metadata": {
      "needs_background": "light"
     },
     "output_type": "display_data"
    }
   ],
   "source": [
    "plt.figure(figsize = (14, 6))\n",
    "plt.plot(loss_cv_sgd.iloc[:,4],loss_cv_sgd.iloc[:,1], 'go-', label='Validation Accuracy of 5.2', linewidth=2)\n",
    "plt.plot(loss_cv_rmsprop.iloc[:,4],loss_cv_rmsprop.iloc[:,3], 'ro-', label='Validation Accuracy of 10.1', linewidth=2)\n",
    "plt.plot(loss_cv_adam.iloc[:,4],loss_cv_adam.iloc[:,3], 'bo-', label='Validation Accuracy of 10.2', linewidth=2)\n",
    "\n",
    "plt.title('Accuracy Measure of Different Models')\n",
    "plt.xlabel('Epoch')\n",
    "plt.ylabel('Accuracy')\n",
    "plt.legend()\n",
    "\n",
    "plt.show()"
   ]
  },
  {
   "cell_type": "code",
   "execution_count": 87,
   "id": "bb13253b",
   "metadata": {},
   "outputs": [
    {
     "name": "stdout",
     "output_type": "stream",
     "text": [
      "Model 5.2 is having highest Validation Accuracy 0.8580625057220459\n"
     ]
    }
   ],
   "source": [
    "am_max_5_2 = max(loss_cv_sgd.iloc[:,1])\n",
    "am_max_10_1 = max(loss_cv_rmsprop.iloc[:,1])\n",
    "am_max_10_2 = max(loss_cv_adam.iloc[:,1])\n",
    "am_max = max(am_max_5_2,am_max_10_1, am_max_10_2)\n",
    "\n",
    "if  am_max == am_max_5_2:\n",
    "    print(f'Model 5.2 is having highest Validation Accuracy {am_max_5_2}')\n",
    "elif am_max == am_max_8_1:\n",
    "    print(f'Model 10.1 is having highest Validation Accuracy {am_max_10_1}')\n",
    "else:\n",
    "    print(f'Model 10.2 is having highest Validation Accuracy {am_max_10_2}')"
   ]
  },
  {
   "cell_type": "code",
   "execution_count": null,
   "id": "70928a4b",
   "metadata": {},
   "outputs": [],
   "source": []
  },
  {
   "cell_type": "markdown",
   "id": "7c7522aa",
   "metadata": {},
   "source": [
    "# 11. Conclusion - Score: 1 mark\n",
    "\n",
    "Comparing the sections 4.1, 5.2, 8, 9, and 10, present your observations on which model or architecture or regualiser or optimiser perfomed better.\n"
   ]
  },
  {
   "cell_type": "markdown",
   "id": "a37a6324",
   "metadata": {},
   "source": [
    "Below are designed models:\n",
    "\n",
    "| Model |        Description                                         |\n",
    "|:-----:|------------------------------------------------------------|\n",
    "|  4.1  | Simple ANN with ADAM optimizer & 5 hidden Layer            |\n",
    "|  5.2  | ANN with SGD optimozer (cross-validation)                  |\n",
    "|  8.1  | Simple ANN with ADAM optimizer & 4 hidden Layer            |\n",
    "|  8.2  | Simple ANN with ADAM optimizer & 6 hidden Layer            |\n",
    "|  9.1  | Simple ANN with Dropout Ratio 0.25                         |\n",
    "|  9.2  | Simple ANN with Dropout Ratio 0.25 & L2 regulariser 0.0001 |\n",
    "|  10.1 | ANN with RMSprop optimozer (cross-validation)              |\n",
    "|  10.2 | ANN with ADAM optimozer (cross-validation)                 |"
   ]
  },
  {
   "cell_type": "code",
   "execution_count": 88,
   "id": "bc51130d",
   "metadata": {},
   "outputs": [
    {
     "data": {
      "image/png": "[encoded data removed]",
      "text/plain": [
       "<Figure size 1008x432 with 1 Axes>"
      ]
     },
     "metadata": {
      "needs_background": "light"
     },
     "output_type": "display_data"
    }
   ],
   "source": [
    "plt.figure(figsize = (14, 6))\n",
    "plt.plot(loss.iloc[:,4],loss.iloc[:,1], color='blue', marker='o', label='Validation Accuracy of 4.1', linewidth=2)\n",
    "plt.plot(loss_cv_sgd.iloc[:,4],loss_cv_sgd.iloc[:,1], color='blue', marker='o', label='Validation Accuracy of 5.2', linewidth=2)\n",
    "plt.plot(loss_minus.iloc[:,4],loss_minus.iloc[:,3], 'go-', label='Validation Accuracy of 8.1', linewidth=2)\n",
    "plt.plot(loss_plus.iloc[:,4],loss_plus.iloc[:,3], 'ro-', label='Validation Accuracy of 8.2', linewidth=2)\n",
    "plt.plot(loss_do.iloc[:,4],loss_do.iloc[:,3], 'co-', label='Validation Accuracy of 9.1', linewidth=2)\n",
    "plt.plot(loss_dor.iloc[:,4],loss_dor.iloc[:,3], 'mo-', label='Validation Accuracy of 9.2', linewidth=2)\n",
    "plt.plot(loss_cv_rmsprop.iloc[:,4],loss_cv_rmsprop.iloc[:,3], 'yo-', label='Validation Accuracy of 10.1', linewidth=2)\n",
    "plt.plot(loss_cv_adam.iloc[:,4],loss_cv_adam.iloc[:,3], 'ko-', label='Validation Accuracy of 10.2', linewidth=2)\n",
    "\n",
    "plt.title('Validation Accuracy Measure of Different Models')\n",
    "plt.xlabel('Epoch')\n",
    "plt.ylabel('Validation Accuracy')\n",
    "plt.legend()\n",
    "\n",
    "plt.show()"
   ]
  },
  {
   "cell_type": "code",
   "execution_count": 89,
   "id": "5645219f",
   "metadata": {},
   "outputs": [
    {
     "name": "stdout",
     "output_type": "stream",
     "text": [
      "Model 8.1 is having highest Validation Accuracy 0.8687999844551086\n"
     ]
    }
   ],
   "source": [
    "am_max = max(am_max_4_1, am_max_5_2, am_max_8_1, am_max_8_2, am_max_9_1, am_max_9_2, am_max_10_1, am_max_10_2)\n",
    "\n",
    "if  am_max == am_max_4_1:\n",
    "    print(f'Model 4.1 is having highest Validation Accuracy {am_max_4_1}')\n",
    "elif  am_max == am_max_5_2:\n",
    "    print(f'Model 5.2 is having highest Validation Accuracy {am_max_5_2}')\n",
    "elif am_max == am_max_8_1:\n",
    "    print(f'Model 8.1 is having highest Validation Accuracy {am_max_8_1}')\n",
    "elif am_max == am_max_8_2:\n",
    "    print(f'Model 8.2 is having highest Validation Accuracy {am_max_8_2}')\n",
    "elif am_max == am_max_9_1:\n",
    "    print(f'Model 9.1 is having highest Validation Accuracy {am_max_9_1}')\n",
    "elif am_max == am_max_9_2:\n",
    "    print(f'Model 9.2 is having highest Validation Accuracy {am_max_9_2}')\n",
    "elif am_max == am_max_10_1:\n",
    "    print(f'Model 10.1 is having highest Validation Accuracy {am_max_10_1}')\n",
    "elif am_max == am_max_10_2:\n",
    "    print(f'Model 10.2 is having highest Validation Accuracy {am_max_10_2}')    "
   ]
  },
  {
   "cell_type": "markdown",
   "id": "99a7b762",
   "metadata": {},
   "source": [
    "<h4>Comparison of Models for Loss & Accuracy wrt Testset</h4>"
   ]
  },
  {
   "cell_type": "code",
   "execution_count": 90,
   "id": "3f54ce27",
   "metadata": {},
   "outputs": [],
   "source": [
    "score_ann = model_ann.evaluate(x=x_test, y=y_test_cat, verbose = 0)\n",
    "score_sgd = model_ann_sgd.evaluate(x=x_test, y=y_test_cat, verbose = 0)\n",
    "score_minus = model_ann_minus.evaluate(x=x_test, y=y_test_cat, verbose = 0)\n",
    "score_plus = model_ann_plus.evaluate(x=x_test, y=y_test_cat, verbose = 0)\n",
    "score_do = model_ann_do.evaluate(x=x_test, y=y_test_cat, verbose = 0)\n",
    "score_dor = model_ann_dor.evaluate(x=x_test, y=y_test_cat, verbose = 0)\n",
    "score_rmsprop = model_ann_rmsprop.evaluate(x=x_test, y=y_test_cat, verbose = 0)\n",
    "score_adam = model_ann_adam.evaluate(x=x_test, y=y_test_cat, verbose = 0)"
   ]
  },
  {
   "cell_type": "code",
   "execution_count": 91,
   "id": "51c2f2d0",
   "metadata": {},
   "outputs": [],
   "source": [
    "scores_loss = [score_ann[0], score_sgd[0], score_minus[0], score_plus[0], score_do[0], score_dor[0], \n",
    "               score_rmsprop[0], score_adam[0]]"
   ]
  },
  {
   "cell_type": "code",
   "execution_count": 92,
   "id": "a09b998c",
   "metadata": {},
   "outputs": [],
   "source": [
    "models = ['4.1', '5.2', '8.1', '8.2', '9.1', '9.2', '10.1', '10.2']"
   ]
  },
  {
   "cell_type": "code",
   "execution_count": 93,
   "id": "28bf05b6",
   "metadata": {},
   "outputs": [
    {
     "name": "stderr",
     "output_type": "stream",
     "text": [
      "No artists with labels found to put in legend.  Note that artists whose label start with an underscore are ignored when legend() is called with no argument.\n"
     ]
    },
    {
     "data": {
      "image/png": "[encoded data removed]",
      "text/plain": [
       "<Figure size 720x360 with 1 Axes>"
      ]
     },
     "metadata": {
      "needs_background": "light"
     },
     "output_type": "display_data"
    }
   ],
   "source": [
    "plt.figure(figsize = (10, 5))\n",
    "plt.bar(models, scores_loss, color ='green', width = 0.4)\n",
    "\n",
    "# for i, v in enumerate(scores):\n",
    "#     plt.text(v, i, str(v),\n",
    "#             color = 'blue', fontweight = 'bold')\n",
    "\n",
    "plt.title('Loss Measure (Testset) of Different Models')\n",
    "plt.xlabel('Name of Model')\n",
    "plt.ylabel('Loss')\n",
    "plt.legend()\n",
    "\n",
    "plt.show()"
   ]
  },
  {
   "cell_type": "code",
   "execution_count": 94,
   "id": "d85c0b62",
   "metadata": {},
   "outputs": [
    {
     "name": "stdout",
     "output_type": "stream",
     "text": [
      "Lowest Loss Value of All Models for Testing Set = 0.7035643458366394\n"
     ]
    }
   ],
   "source": [
    "print(f'Lowest Loss Value of All Models for Testing Set = {min(scores_loss)}')"
   ]
  },
  {
   "cell_type": "code",
   "execution_count": 95,
   "id": "8bc2e9a8",
   "metadata": {},
   "outputs": [],
   "source": [
    "scores_accuracy = [score_ann[1], score_sgd[1], score_minus[1], score_plus[1], \n",
    "                   score_do[1], score_dor[1], score_rmsprop[1], score_adam[1]]"
   ]
  },
  {
   "cell_type": "code",
   "execution_count": 96,
   "id": "a40bdf57",
   "metadata": {},
   "outputs": [
    {
     "name": "stderr",
     "output_type": "stream",
     "text": [
      "No artists with labels found to put in legend.  Note that artists whose label start with an underscore are ignored when legend() is called with no argument.\n"
     ]
    },
    {
     "data": {
      "image/png": "[encoded data removed]",
      "text/plain": [
       "<Figure size 720x360 with 1 Axes>"
      ]
     },
     "metadata": {
      "needs_background": "light"
     },
     "output_type": "display_data"
    }
   ],
   "source": [
    "plt.figure(figsize = (10, 5))\n",
    "plt.bar(models, scores_accuracy, color ='blue', width = 0.4)\n",
    "\n",
    "plt.title('Accuracy Measure (Testset) of Different Models')\n",
    "plt.xlabel('Name of Model')\n",
    "plt.ylabel('Accuracy')\n",
    "plt.legend()\n",
    "\n",
    "plt.show()"
   ]
  },
  {
   "cell_type": "code",
   "execution_count": 97,
   "id": "2007a1f1",
   "metadata": {},
   "outputs": [
    {
     "name": "stdout",
     "output_type": "stream",
     "text": [
      "Highest Accuracy Value of All Models for Testing Set = 0.8450000286102295\n"
     ]
    }
   ],
   "source": [
    "print(f'Highest Accuracy Value of All Models for Testing Set = {max(scores_accuracy)}')"
   ]
  },
  {
   "cell_type": "markdown",
   "id": "178f1ac9",
   "metadata": {},
   "source": [
    "<h1>Alternative Way of Hyper-Parameter Tuning via KerasTuner</h1>"
   ]
  },
  {
   "cell_type": "markdown",
   "id": "771febea",
   "metadata": {},
   "source": [
    "- KerasTuner is an easy-to-use, scalable hyperparameter optimization framework that solves pain points of hyperparameter search.\n",
    "- Search Space can easily be configured with a define-by-run syntax, then leverage one of the available search algorithms to find best hyperparameter values for models. "
   ]
  },
  {
   "cell_type": "code",
   "execution_count": 98,
   "id": "7513b11c",
   "metadata": {},
   "outputs": [],
   "source": [
    "def build_model(hp):  # random search passes this hyperparameter() object \n",
    "    model = Sequential()\n",
    "    \n",
    "    activation = hp.Choice(name = 'activation', values = ['relu', 'tanh', 'sigmoid'], ordered = False, default='relu')\n",
    "#     dropout = hp.Boolean(name = 'dropout', default = False)\n",
    "#     learning_rate = hp.Choice('learning_rate', values=[1e-2, 1e-3, 1e-4])\n",
    "    no_layer = hp.Int(name = 'no_layer', min_value = 2, max_value = 10)\n",
    "    no_unit = hp.Int(f'layer_unit', min_value = 32, max_value = 480, step=32, default=32)\n",
    "    optimizer = hp.Choice(name = 'optimizer', values = ['adam', 'sgd', 'rmsprop'], default='adam')\n",
    "    \n",
    "    #Input layer\n",
    "    model.add(Flatten(input_shape=(x_train.shape[1], x_train.shape[2], x_train.shape[3])))\n",
    "    \n",
    "    \n",
    "    for i in range(no_layer):\n",
    "        model.add(Dense(no_unit, activation=activation))\n",
    "#         model.add(Dropout(0.2))\n",
    "\n",
    "\n",
    "    #Output Layer\n",
    "    model.add(Dense(units=y_train_cat.shape[1], activation='softmax'))\n",
    "    \n",
    "    model.compile(optimizer=optimizer,\n",
    "#                   loss='binary_crossentropy',\n",
    "                  loss='categorical_crossentropy',\n",
    "                  metrics=['accuracy'])\n",
    "\n",
    "\n",
    "    return model"
   ]
  },
  {
   "cell_type": "code",
   "execution_count": 99,
   "id": "0bdff7dd",
   "metadata": {},
   "outputs": [],
   "source": [
    "LOG_DIR = f\"{int(time.time())}\"\n",
    "\n",
    "tuner = RandomSearch(\n",
    "    build_model,\n",
    "    objective='val_accuracy',\n",
    "    max_trials=5,  # how many model variations to test?\n",
    "    executions_per_trial=5,  # how many trials per variation? (same model could perform differently)\n",
    "    directory=LOG_DIR)"
   ]
  },
  {
   "cell_type": "code",
   "execution_count": 100,
   "id": "c3bcc00d",
   "metadata": {},
   "outputs": [
    {
     "name": "stdout",
     "output_type": "stream",
     "text": [
      "Search space summary\n",
      "Default search space size: 4\n",
      "activation (Choice)\n",
      "{'default': 'relu', 'conditions': [], 'values': ['relu', 'tanh', 'sigmoid'], 'ordered': False}\n",
      "no_layer (Int)\n",
      "{'default': None, 'conditions': [], 'min_value': 2, 'max_value': 10, 'step': 1, 'sampling': 'linear'}\n",
      "layer_unit (Int)\n",
      "{'default': 32, 'conditions': [], 'min_value': 32, 'max_value': 480, 'step': 32, 'sampling': 'linear'}\n",
      "optimizer (Choice)\n",
      "{'default': 'adam', 'conditions': [], 'values': ['adam', 'sgd', 'rmsprop'], 'ordered': False}\n"
     ]
    }
   ],
   "source": [
    "tuner.search_space_summary()"
   ]
  },
  {
   "cell_type": "code",
   "execution_count": 101,
   "id": "afa36eca",
   "metadata": {},
   "outputs": [
    {
     "name": "stdout",
     "output_type": "stream",
     "text": [
      "Trial 5 Complete [00h 00m 31s]\n",
      "val_accuracy: 0.8053200006484985\n",
      "\n",
      "Best val_accuracy So Far: 0.8370199799537659\n",
      "Total elapsed time: 00h 02m 59s\n",
      "INFO:tensorflow:Oracle triggered exit\n"
     ]
    }
   ],
   "source": [
    "tuner.search(x=x_train, \n",
    "              y=y_train_cat,\n",
    "              epochs=1, \n",
    "              batch_size=64,\n",
    "              validation_data=(x_test, y_test_cat), \n",
    "              verbose=2, \n",
    "#               callbacks=[early_stop]\n",
    "             )"
   ]
  },
  {
   "cell_type": "code",
   "execution_count": 102,
   "id": "3d194a2b",
   "metadata": {},
   "outputs": [
    {
     "name": "stdout",
     "output_type": "stream",
     "text": [
      "Results summary\n",
      "Results in 1689419964\\untitled_project\n",
      "Showing 10 best trials\n",
      "Objective(name=\"val_accuracy\", direction=\"max\")\n",
      "\n",
      "Trial 0 summary\n",
      "Hyperparameters:\n",
      "activation: relu\n",
      "no_layer: 10\n",
      "layer_unit: 96\n",
      "optimizer: adam\n",
      "Score: 0.8370199799537659\n",
      "\n",
      "Trial 3 summary\n",
      "Hyperparameters:\n",
      "activation: sigmoid\n",
      "no_layer: 4\n",
      "layer_unit: 320\n",
      "optimizer: adam\n",
      "Score: 0.8159600019454956\n",
      "\n",
      "Trial 1 summary\n",
      "Hyperparameters:\n",
      "activation: tanh\n",
      "no_layer: 6\n",
      "layer_unit: 256\n",
      "optimizer: sgd\n",
      "Score: 0.8143200039863586\n",
      "\n",
      "Trial 4 summary\n",
      "Hyperparameters:\n",
      "activation: tanh\n",
      "no_layer: 7\n",
      "layer_unit: 192\n",
      "optimizer: sgd\n",
      "Score: 0.8053200006484985\n",
      "\n",
      "Trial 2 summary\n",
      "Hyperparameters:\n",
      "activation: tanh\n",
      "no_layer: 7\n",
      "layer_unit: 192\n",
      "optimizer: rmsprop\n",
      "Score: 0.7938600063323975\n"
     ]
    }
   ],
   "source": [
    "tuner.results_summary()"
   ]
  },
  {
   "cell_type": "code",
   "execution_count": 103,
   "id": "6dafc8c3",
   "metadata": {},
   "outputs": [
    {
     "name": "stdout",
     "output_type": "stream",
     "text": [
      "{'activation': 'relu', 'no_layer': 10, 'layer_unit': 96, 'optimizer': 'adam'}\n"
     ]
    }
   ],
   "source": [
    "print(tuner.get_best_hyperparameters()[0].values)"
   ]
  },
  {
   "cell_type": "code",
   "execution_count": 104,
   "id": "ad93b1b6",
   "metadata": {},
   "outputs": [
    {
     "name": "stdout",
     "output_type": "stream",
     "text": [
      "Model: \"sequential\"\n",
      "_________________________________________________________________\n",
      " Layer (type)                Output Shape              Param #   \n",
      "=================================================================\n",
      " flatten (Flatten)           (None, 784)               0         \n",
      "                                                                 \n",
      " dense (Dense)               (None, 96)                75360     \n",
      "                                                                 \n",
      " dense_1 (Dense)             (None, 96)                9312      \n",
      "                                                                 \n",
      " dense_2 (Dense)             (None, 96)                9312      \n",
      "                                                                 \n",
      " dense_3 (Dense)             (None, 96)                9312      \n",
      "                                                                 \n",
      " dense_4 (Dense)             (None, 96)                9312      \n",
      "                                                                 \n",
      " dense_5 (Dense)             (None, 96)                9312      \n",
      "                                                                 \n",
      " dense_6 (Dense)             (None, 96)                9312      \n",
      "                                                                 \n",
      " dense_7 (Dense)             (None, 96)                9312      \n",
      "                                                                 \n",
      " dense_8 (Dense)             (None, 96)                9312      \n",
      "                                                                 \n",
      " dense_9 (Dense)             (None, 96)                9312      \n",
      "                                                                 \n",
      " dense_10 (Dense)            (None, 10)                970       \n",
      "                                                                 \n",
      "=================================================================\n",
      "Total params: 160,138\n",
      "Trainable params: 160,138\n",
      "Non-trainable params: 0\n",
      "_________________________________________________________________\n",
      "None\n"
     ]
    }
   ],
   "source": [
    "best_model = tuner.get_best_models()[0]\n",
    "print(best_model.summary())"
   ]
  },
  {
   "cell_type": "code",
   "execution_count": 105,
   "id": "fe0e95e2",
   "metadata": {
    "scrolled": true
   },
   "outputs": [
    {
     "name": "stdout",
     "output_type": "stream",
     "text": [
      "Epoch 1/200\n",
      "300/300 - 2s - loss: 0.3687 - accuracy: 0.8655 - val_loss: 0.4013 - val_accuracy: 0.8521 - 2s/epoch - 8ms/step\n",
      "Epoch 2/200\n",
      "300/300 - 2s - loss: 0.3413 - accuracy: 0.8755 - val_loss: 0.3717 - val_accuracy: 0.8664 - 2s/epoch - 5ms/step\n",
      "Epoch 3/200\n",
      "300/300 - 2s - loss: 0.3265 - accuracy: 0.8811 - val_loss: 0.3632 - val_accuracy: 0.8746 - 2s/epoch - 5ms/step\n",
      "Epoch 4/200\n",
      "300/300 - 2s - loss: 0.3111 - accuracy: 0.8860 - val_loss: 0.3947 - val_accuracy: 0.8575 - 2s/epoch - 5ms/step\n",
      "Epoch 5/200\n",
      "300/300 - 2s - loss: 0.3000 - accuracy: 0.8895 - val_loss: 0.3561 - val_accuracy: 0.8744 - 2s/epoch - 6ms/step\n",
      "Epoch 6/200\n",
      "300/300 - 2s - loss: 0.2838 - accuracy: 0.8944 - val_loss: 0.3473 - val_accuracy: 0.8768 - 2s/epoch - 6ms/step\n",
      "Epoch 7/200\n",
      "300/300 - 2s - loss: 0.2738 - accuracy: 0.8986 - val_loss: 0.3487 - val_accuracy: 0.8781 - 2s/epoch - 6ms/step\n",
      "Epoch 8/200\n",
      "300/300 - 2s - loss: 0.2704 - accuracy: 0.8997 - val_loss: 0.3455 - val_accuracy: 0.8783 - 2s/epoch - 6ms/step\n",
      "Epoch 9/200\n",
      "300/300 - 2s - loss: 0.2638 - accuracy: 0.9028 - val_loss: 0.3532 - val_accuracy: 0.8754 - 2s/epoch - 6ms/step\n",
      "Epoch 10/200\n",
      "300/300 - 2s - loss: 0.2590 - accuracy: 0.9040 - val_loss: 0.3456 - val_accuracy: 0.8781 - 2s/epoch - 6ms/step\n",
      "Epoch 11/200\n",
      "300/300 - 2s - loss: 0.2508 - accuracy: 0.9070 - val_loss: 0.3523 - val_accuracy: 0.8768 - 2s/epoch - 6ms/step\n"
     ]
    },
    {
     "data": {
      "text/plain": [
       "<keras.callbacks.History at 0x230675a0a60>"
      ]
     },
     "execution_count": 105,
     "metadata": {},
     "output_type": "execute_result"
    }
   ],
   "source": [
    "best_model.fit(x=x_train, \n",
    "              y=y_train_cat,\n",
    "              epochs=200, \n",
    "              batch_size=200,\n",
    "              validation_data=(x_test, y_test_cat), \n",
    "              verbose=2, \n",
    "              callbacks=[early_stop]\n",
    "             )"
   ]
  },
  {
   "cell_type": "code",
   "execution_count": 106,
   "id": "9466517b",
   "metadata": {},
   "outputs": [],
   "source": [
    "loss_best = pd.DataFrame(best_model.history.history)"
   ]
  },
  {
   "cell_type": "code",
   "execution_count": 107,
   "id": "3bb8e64e",
   "metadata": {},
   "outputs": [
    {
     "name": "stdout",
     "output_type": "stream",
     "text": [
      "        loss  accuracy  val_loss  val_accuracy\n",
      "0   0.368742  0.865483  0.401318        0.8521\n",
      "1   0.341279  0.875483  0.371747        0.8664\n",
      "2   0.326503  0.881100  0.363218        0.8746\n",
      "3   0.311113  0.886017  0.394743        0.8575\n",
      "4   0.300035  0.889517  0.356098        0.8744\n",
      "5   0.283815  0.894383  0.347345        0.8768\n",
      "6   0.273831  0.898600  0.348678        0.8781\n",
      "7   0.270389  0.899667  0.345453        0.8783\n",
      "8   0.263775  0.902833  0.353172        0.8754\n",
      "9   0.259022  0.904050  0.345643        0.8781\n",
      "10  0.250822  0.907017  0.352308        0.8768\n"
     ]
    }
   ],
   "source": [
    "print(loss_best)"
   ]
  },
  {
   "cell_type": "code",
   "execution_count": 108,
   "id": "764d5b6c",
   "metadata": {},
   "outputs": [
    {
     "data": {
      "text/plain": [
       "<AxesSubplot:>"
      ]
     },
     "execution_count": 108,
     "metadata": {},
     "output_type": "execute_result"
    },
    {
     "data": {
      "image/png": "[encoded data removed]",
      "text/plain": [
       "<Figure size 432x288 with 1 Axes>"
      ]
     },
     "metadata": {
      "needs_background": "light"
     },
     "output_type": "display_data"
    }
   ],
   "source": [
    "loss_best[['accuracy','val_accuracy']].plot() "
   ]
  },
  {
   "cell_type": "code",
   "execution_count": 109,
   "id": "926480a8",
   "metadata": {},
   "outputs": [
    {
     "data": {
      "text/plain": [
       "<AxesSubplot:>"
      ]
     },
     "execution_count": 109,
     "metadata": {},
     "output_type": "execute_result"
    },
    {
     "data": {
      "image/png": "[encoded data removed]",
      "text/plain": [
       "<Figure size 432x288 with 1 Axes>"
      ]
     },
     "metadata": {
      "needs_background": "light"
     },
     "output_type": "display_data"
    }
   ],
   "source": [
    "loss_best[['loss','val_loss']].plot()"
   ]
  },
  {
   "cell_type": "code",
   "execution_count": 110,
   "id": "5f8fe0bc",
   "metadata": {},
   "outputs": [],
   "source": [
    "# print(best_model.metrics_names)\n",
    "score_best = best_model.evaluate(x=x_test, y=y_test_cat, verbose = 0)"
   ]
  },
  {
   "cell_type": "code",
   "execution_count": 111,
   "id": "5a708fee",
   "metadata": {},
   "outputs": [
    {
     "data": {
      "text/plain": [
       "[0.35230767726898193, 0.876800000667572]"
      ]
     },
     "execution_count": 111,
     "metadata": {},
     "output_type": "execute_result"
    }
   ],
   "source": [
    "score_best"
   ]
  },
  {
   "cell_type": "code",
   "execution_count": 112,
   "id": "c878d36e",
   "metadata": {},
   "outputs": [
    {
     "name": "stdout",
     "output_type": "stream",
     "text": [
      "For Testset, Best Optimized model via Tuner has loss = 0.35230767726898193 & accuracy = 0.876800000667572\n"
     ]
    }
   ],
   "source": [
    "print(f'For Testset, Best Optimized model via Tuner has {best_model.metrics_names[0]} = {score_best[0]} & {best_model.metrics_names[1]} = {score_best[1]}')"
   ]
  },
  {
   "cell_type": "markdown",
   "id": "RcDDQlfbZQ7E",
   "metadata": {
    "id": "RcDDQlfbZQ7E"
   },
   "source": [
    "### NOTE\n",
    "\n",
    "\n",
    "All Late Submissions will incur a <b>penalty of -2 marks </b>. So submit your assignments on time.\n",
    "\n",
    "Good Luck"
   ]
  }
 ],
 "metadata": {
  "colab": {
   "provenance": []
  },
  "kernelspec": {
   "display_name": "Python 3 (ipykernel)",
   "language": "python",
   "name": "python3"
  },
  "language_info": {
   "codemirror_mode": {
    "name": "ipython",
    "version": 3
   },
   "file_extension": ".py",
   "mimetype": "text/x-python",
   "name": "python",
   "nbconvert_exporter": "python",
   "pygments_lexer": "ipython3",
   "version": "3.11.4"
  }
 },
 "nbformat": 4,
 "nbformat_minor": 5
}
