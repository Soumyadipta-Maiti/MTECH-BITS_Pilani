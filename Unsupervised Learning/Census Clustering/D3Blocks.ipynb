{
 "cells": [
  {
   "cell_type": "code",
   "execution_count": 4,
   "id": "b35d23ea",
   "metadata": {},
   "outputs": [],
   "source": [
    "import d3blocks as db"
   ]
  },
  {
   "cell_type": "code",
   "execution_count": 11,
   "id": "3fd47296",
   "metadata": {},
   "outputs": [],
   "source": [
    "d3 = db\n",
    "# d3 = D3Blocks()"
   ]
  },
  {
   "cell_type": "code",
   "execution_count": 13,
   "id": "b7da0536",
   "metadata": {},
   "outputs": [
    {
     "ename": "AttributeError",
     "evalue": "module 'd3blocks' has no attribute 'import_example'",
     "output_type": "error",
     "traceback": [
      "\u001b[1;31m---------------------------------------------------------------------------\u001b[0m",
      "\u001b[1;31mAttributeError\u001b[0m                            Traceback (most recent call last)",
      "Input \u001b[1;32mIn [13]\u001b[0m, in \u001b[0;36m<cell line: 1>\u001b[1;34m()\u001b[0m\n\u001b[1;32m----> 1\u001b[0m df \u001b[38;5;241m=\u001b[39m \u001b[43md3\u001b[49m\u001b[38;5;241;43m.\u001b[39;49m\u001b[43mimport_example\u001b[49m(\u001b[38;5;124m'\u001b[39m\u001b[38;5;124menergy\u001b[39m\u001b[38;5;124m'\u001b[39m)\n",
      "\u001b[1;31mAttributeError\u001b[0m: module 'd3blocks' has no attribute 'import_example'"
     ]
    }
   ],
   "source": [
    "df = d3.import_example('energy') # 'bigbang', 'stormofswords'"
   ]
  },
  {
   "cell_type": "code",
   "execution_count": 7,
   "id": "26e78cf5",
   "metadata": {},
   "outputs": [
    {
     "ename": "AttributeError",
     "evalue": "module 'd3blocks' has no attribute 'import_example'",
     "output_type": "error",
     "traceback": [
      "\u001b[1;31m---------------------------------------------------------------------------\u001b[0m",
      "\u001b[1;31mAttributeError\u001b[0m                            Traceback (most recent call last)",
      "Input \u001b[1;32mIn [7]\u001b[0m, in \u001b[0;36m<cell line: 10>\u001b[1;34m()\u001b[0m\n\u001b[0;32m      1\u001b[0m \u001b[38;5;66;03m# Initialize\u001b[39;00m\n\u001b[0;32m      2\u001b[0m \n\u001b[0;32m      3\u001b[0m \n\u001b[1;32m   (...)\u001b[0m\n\u001b[0;32m      7\u001b[0m \n\u001b[0;32m      8\u001b[0m \u001b[38;5;66;03m# Import example\u001b[39;00m\n\u001b[1;32m---> 10\u001b[0m df \u001b[38;5;241m=\u001b[39m \u001b[43md3\u001b[49m\u001b[38;5;241;43m.\u001b[39;49m\u001b[43mimport_example\u001b[49m(\u001b[38;5;124m'\u001b[39m\u001b[38;5;124menergy\u001b[39m\u001b[38;5;124m'\u001b[39m) \u001b[38;5;66;03m# 'bigbang', 'stormofswords'\u001b[39;00m\n\u001b[0;32m     12\u001b[0m \u001b[38;5;66;03m#\u001b[39;00m\n\u001b[0;32m     13\u001b[0m \n\u001b[0;32m     14\u001b[0m \u001b[38;5;66;03m# Create network using default\u001b[39;00m\n\u001b[0;32m     16\u001b[0m d3\u001b[38;5;241m.\u001b[39md3graph(df, filepath\u001b[38;5;241m=\u001b[39m\u001b[38;5;124m'\u001b[39m\u001b[38;5;124md3graph.html\u001b[39m\u001b[38;5;124m'\u001b[39m)\n",
      "\u001b[1;31mAttributeError\u001b[0m: module 'd3blocks' has no attribute 'import_example'"
     ]
    }
   ],
   "source": [
    "# Initialize\n",
    "\n",
    "\n",
    "\n",
    "\n",
    "#\n",
    "\n",
    "# Import example\n",
    "\n",
    "\n",
    "\n",
    "#\n",
    "\n",
    "# Create network using default\n",
    "\n",
    "d3.d3graph(df, filepath='d3graph.html')\n",
    "\n",
    "#\n",
    "\n",
    "# Change scaler\n",
    "\n",
    "d3.d3graph(df, scaler='minmax')\n",
    "\n",
    "#\n",
    "\n",
    "# Change node properties\n",
    "\n",
    "d3.D3graph.set_node_properties(color='cluster')\n",
    "\n",
    "d3.D3graph.node_properties['Solar']['size']=30\n",
    "\n",
    "d3.D3graph.node_properties['Solar']['edge_color']='#FF0000'\n",
    "\n",
    "d3.D3graph.node_properties['Solar']['edge_size']=5\n",
    "\n",
    "d3.D3graph.show()\n",
    "\n",
    "#\n",
    "\n",
    "# Change edge properties\n",
    "\n",
    "d3.D3graph.set_edge_properties(directed=True, marker_end='arrow')\n",
    "\n",
    "d3.D3graph.show()\n",
    "\n",
    "#\n",
    "\n",
    "# Node properties\n",
    "\n",
    "d3.D3graph.node_properties\n",
    "\n",
    "#\n",
    "\n",
    "# Node properties\n",
    "\n",
    "d3.D3graph.edge_properties"
   ]
  }
 ],
 "metadata": {
  "kernelspec": {
   "display_name": "Python 3 (ipykernel)",
   "language": "python",
   "name": "python3"
  },
  "language_info": {
   "codemirror_mode": {
    "name": "ipython",
    "version": 3
   },
   "file_extension": ".py",
   "mimetype": "text/x-python",
   "name": "python",
   "nbconvert_exporter": "python",
   "pygments_lexer": "ipython3",
   "version": "3.9.12"
  }
 },
 "nbformat": 4,
 "nbformat_minor": 5
}
